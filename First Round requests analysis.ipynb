{
 "cells": [
  {
   "cell_type": "markdown",
   "id": "3a9130cf",
   "metadata": {},
   "source": [
    "# Analysis of the first round of requests"
   ]
  },
  {
   "cell_type": "markdown",
   "id": "f3073847",
   "metadata": {},
   "source": [
    "Import the necessary packages:"
   ]
  },
  {
   "cell_type": "code",
   "execution_count": 1,
   "id": "2b8a81d1",
   "metadata": {},
   "outputs": [],
   "source": [
    "import re\n",
    "import os\n",
    "import json\n",
    "import random\n",
    "import requests\n",
    "import joblib\n",
    "import pickle\n",
    "import pandas as pd\n",
    "import numpy as np\n",
    "\n",
    "# SQLite\n",
    "import sqlite3\n",
    "\n",
    "# Plotting\n",
    "import seaborn as sns\n",
    "import matplotlib.pyplot as plt\n",
    "\n",
    "# Train-test split and Grid Search\n",
    "from sklearn.model_selection import train_test_split, GridSearchCV\n",
    "\n",
    "from sklearn.compose import ColumnTransformer\n",
    "from sklearn.impute import SimpleImputer\n",
    "from sklearn.pipeline import make_pipeline, Pipeline\n",
    "from sklearn.base import BaseEstimator, TransformerMixin\n",
    "\n",
    "# Feature Engine\n",
    "from feature_engine.selection import DropFeatures\n",
    "from feature_engine.imputation import CategoricalImputer, MeanMedianImputer, ArbitraryNumberImputer\n",
    "from feature_engine.encoding import OneHotEncoder, RareLabelEncoder\n",
    "\n",
    "# Classifiers\n",
    "from sklearn.tree import DecisionTreeClassifier\n",
    "from sklearn.ensemble import RandomForestClassifier\n",
    "\n",
    "# Metrics\n",
    "from sklearn.metrics import ( accuracy_score, precision_score, recall_score, roc_auc_score, roc_curve,\n",
    "                              f1_score, classification_report, precision_recall_curve,\n",
    "                              confusion_matrix )\n",
    "\n",
    "# Utils\n",
    "from utils import *"
   ]
  },
  {
   "cell_type": "markdown",
   "id": "ed8e4277",
   "metadata": {},
   "source": [
    "Read the data, and create a copy of it:"
   ]
  },
  {
   "cell_type": "code",
   "execution_count": 2,
   "id": "ad0bd5f5",
   "metadata": {},
   "outputs": [],
   "source": [
    "df = pd.read_csv('data/first_batch_requests_data.csv')\n",
    "df_ = df.copy(deep = True)\n",
    "\n",
    "df_test = pd.read_csv('data/test_data.csv')\n",
    "df_test_ = df_test.copy(deep = True)\n",
    "\n",
    "y_pred_proba_test = pickle.load(open(\"data/y_pred_predictions.pickle\", \"rb\"))\n",
    "y_pred_test = pickle.load(open(\"data/y_pred_test.pickle\", 'rb'))"
   ]
  },
  {
   "cell_type": "markdown",
   "id": "6e94f13c",
   "metadata": {},
   "source": [
    "Fill '?' values with NaN:"
   ]
  },
  {
   "cell_type": "code",
   "execution_count": 3,
   "id": "0219c8ba",
   "metadata": {},
   "outputs": [],
   "source": [
    "df_ = df_.replace('?', np.nan)"
   ]
  },
  {
   "cell_type": "markdown",
   "id": "c11ddc67",
   "metadata": {},
   "source": [
    "Check the number of observations for which actual values were provided:"
   ]
  },
  {
   "cell_type": "markdown",
   "id": "86359d70",
   "metadata": {},
   "source": [
    "Check the number of distinct patients in the data:"
   ]
  },
  {
   "cell_type": "code",
   "execution_count": 4,
   "id": "53167d65",
   "metadata": {},
   "outputs": [
    {
     "data": {
      "text/plain": [
       "9036"
      ]
     },
     "execution_count": 4,
     "metadata": {},
     "output_type": "execute_result"
    }
   ],
   "source": [
    "df_['patient_id'].nunique()"
   ]
  },
  {
   "cell_type": "code",
   "execution_count": 5,
   "id": "da31b43a",
   "metadata": {},
   "outputs": [
    {
     "data": {
      "text/plain": [
       "No     0.886924\n",
       "Yes    0.113076\n",
       "Name: actual_readmitted, dtype: float64"
      ]
     },
     "execution_count": 5,
     "metadata": {},
     "output_type": "execute_result"
    }
   ],
   "source": [
    "df_['actual_readmitted'].value_counts(dropna = False, normalize = True)"
   ]
  },
  {
   "cell_type": "markdown",
   "id": "61ee63fd",
   "metadata": {},
   "source": [
    "Get the bar plot:"
   ]
  },
  {
   "cell_type": "code",
   "execution_count": 6,
   "id": "e63b2c85",
   "metadata": {},
   "outputs": [
    {
     "data": {
      "image/png": "[encoded data removed]",
      "text/plain": [
       "<Figure size 432x288 with 1 Axes>"
      ]
     },
     "metadata": {
      "needs_background": "light"
     },
     "output_type": "display_data"
    }
   ],
   "source": [
    "df_['actual_readmitted'].value_counts(normalize = True).plot(kind = 'bar')\n",
    "plt.show()"
   ]
  },
  {
   "cell_type": "markdown",
   "id": "f5273366",
   "metadata": {},
   "source": [
    "Get just the real values and predictions:"
   ]
  },
  {
   "cell_type": "code",
   "execution_count": 7,
   "id": "3261a46e",
   "metadata": {},
   "outputs": [],
   "source": [
    "predictions = df_['predicted_readmitted'].apply(lambda x: 1 if x == 'Yes' else 0)\n",
    "proba = df_['probability']\n",
    "actual = df_['actual_readmitted'].apply(lambda x: 1 if x == 'Yes' else 0)\n",
    "\n",
    "actual_test = df_test_['readmitted']"
   ]
  },
  {
   "cell_type": "markdown",
   "id": "6153338a",
   "metadata": {},
   "source": [
    "Drop unnecessary columns:"
   ]
  },
  {
   "cell_type": "code",
   "execution_count": 8,
   "id": "3cbe29b2",
   "metadata": {},
   "outputs": [
    {
     "data": {
      "text/html": [
       "<div>\n",
       "<style scoped>\n",
       "    .dataframe tbody tr th:only-of-type {\n",
       "        vertical-align: middle;\n",
       "    }\n",
       "\n",
       "    .dataframe tbody tr th {\n",
       "        vertical-align: top;\n",
       "    }\n",
       "\n",
       "    .dataframe thead th {\n",
       "        text-align: right;\n",
       "    }\n",
       "</style>\n",
       "<table border=\"1\" class=\"dataframe\">\n",
       "  <thead>\n",
       "    <tr style=\"text-align: right;\">\n",
       "      <th></th>\n",
       "      <th>admission_id</th>\n",
       "      <th>patient_id</th>\n",
       "      <th>race</th>\n",
       "      <th>gender</th>\n",
       "      <th>age</th>\n",
       "      <th>weight</th>\n",
       "      <th>admission_type_code</th>\n",
       "      <th>discharge_disposition_code</th>\n",
       "      <th>admission_source_code</th>\n",
       "      <th>time_in_hospital</th>\n",
       "      <th>...</th>\n",
       "      <th>number_diagnoses</th>\n",
       "      <th>blood_type</th>\n",
       "      <th>hemoglobin_level</th>\n",
       "      <th>blood_transfusion</th>\n",
       "      <th>max_glu_serum</th>\n",
       "      <th>A1Cresult</th>\n",
       "      <th>diuretics</th>\n",
       "      <th>insulin</th>\n",
       "      <th>change</th>\n",
       "      <th>diabetesMed</th>\n",
       "    </tr>\n",
       "  </thead>\n",
       "  <tbody>\n",
       "    <tr>\n",
       "      <th>0</th>\n",
       "      <td>83971.0</td>\n",
       "      <td>47195552.0</td>\n",
       "      <td>Caucasian</td>\n",
       "      <td>Female</td>\n",
       "      <td>[80-90)</td>\n",
       "      <td>NaN</td>\n",
       "      <td>1.0</td>\n",
       "      <td>3.0</td>\n",
       "      <td>17.0</td>\n",
       "      <td>2.0</td>\n",
       "      <td>...</td>\n",
       "      <td>7.0</td>\n",
       "      <td>A+</td>\n",
       "      <td>12.8</td>\n",
       "      <td>False</td>\n",
       "      <td>Norm</td>\n",
       "      <td>None</td>\n",
       "      <td>No</td>\n",
       "      <td>No</td>\n",
       "      <td>No</td>\n",
       "      <td>Yes</td>\n",
       "    </tr>\n",
       "    <tr>\n",
       "      <th>1</th>\n",
       "      <td>91295.0</td>\n",
       "      <td>46828960.0</td>\n",
       "      <td>Caucasian</td>\n",
       "      <td>Male</td>\n",
       "      <td>[30-40)</td>\n",
       "      <td>NaN</td>\n",
       "      <td>1.0</td>\n",
       "      <td>1.0</td>\n",
       "      <td>7.0</td>\n",
       "      <td>3.0</td>\n",
       "      <td>...</td>\n",
       "      <td>6.0</td>\n",
       "      <td>A+</td>\n",
       "      <td>16.0</td>\n",
       "      <td>False</td>\n",
       "      <td>None</td>\n",
       "      <td>None</td>\n",
       "      <td>No</td>\n",
       "      <td>Yes</td>\n",
       "      <td>Ch</td>\n",
       "      <td>Yes</td>\n",
       "    </tr>\n",
       "    <tr>\n",
       "      <th>2</th>\n",
       "      <td>100312.0</td>\n",
       "      <td>47047376.0</td>\n",
       "      <td>Caucasian</td>\n",
       "      <td>Female</td>\n",
       "      <td>[60-70)</td>\n",
       "      <td>NaN</td>\n",
       "      <td>1.0</td>\n",
       "      <td>1.0</td>\n",
       "      <td>17.0</td>\n",
       "      <td>1.0</td>\n",
       "      <td>...</td>\n",
       "      <td>6.0</td>\n",
       "      <td>A+</td>\n",
       "      <td>12.6</td>\n",
       "      <td>False</td>\n",
       "      <td>NORM</td>\n",
       "      <td>None</td>\n",
       "      <td>No</td>\n",
       "      <td>No</td>\n",
       "      <td>Ch</td>\n",
       "      <td>Yes</td>\n",
       "    </tr>\n",
       "    <tr>\n",
       "      <th>3</th>\n",
       "      <td>88315.0</td>\n",
       "      <td>146340.0</td>\n",
       "      <td>Caucasian</td>\n",
       "      <td>Female</td>\n",
       "      <td>[70-80)</td>\n",
       "      <td>NaN</td>\n",
       "      <td>1.0</td>\n",
       "      <td>13.0</td>\n",
       "      <td>7.0</td>\n",
       "      <td>11.0</td>\n",
       "      <td>...</td>\n",
       "      <td>9.0</td>\n",
       "      <td>B+</td>\n",
       "      <td>13.8</td>\n",
       "      <td>False</td>\n",
       "      <td>NONE</td>\n",
       "      <td>None</td>\n",
       "      <td>No</td>\n",
       "      <td>Yes</td>\n",
       "      <td>Ch</td>\n",
       "      <td>Yes</td>\n",
       "    </tr>\n",
       "    <tr>\n",
       "      <th>4</th>\n",
       "      <td>100706.0</td>\n",
       "      <td>12224646.0</td>\n",
       "      <td>Caucasian</td>\n",
       "      <td>Male</td>\n",
       "      <td>[40-50)</td>\n",
       "      <td>NaN</td>\n",
       "      <td>2.0</td>\n",
       "      <td>1.0</td>\n",
       "      <td>1.0</td>\n",
       "      <td>3.0</td>\n",
       "      <td>...</td>\n",
       "      <td>5.0</td>\n",
       "      <td>A+</td>\n",
       "      <td>14.2</td>\n",
       "      <td>False</td>\n",
       "      <td>None</td>\n",
       "      <td>&gt;8</td>\n",
       "      <td>No</td>\n",
       "      <td>Yes</td>\n",
       "      <td>No</td>\n",
       "      <td>Yes</td>\n",
       "    </tr>\n",
       "  </tbody>\n",
       "</table>\n",
       "<p>5 rows × 33 columns</p>\n",
       "</div>"
      ],
      "text/plain": [
       "   admission_id  patient_id       race  gender      age weight  \\\n",
       "0       83971.0  47195552.0  Caucasian  Female  [80-90)    NaN   \n",
       "1       91295.0  46828960.0  Caucasian    Male  [30-40)    NaN   \n",
       "2      100312.0  47047376.0  Caucasian  Female  [60-70)    NaN   \n",
       "3       88315.0    146340.0  Caucasian  Female  [70-80)    NaN   \n",
       "4      100706.0  12224646.0  Caucasian    Male  [40-50)    NaN   \n",
       "\n",
       "   admission_type_code  discharge_disposition_code  admission_source_code  \\\n",
       "0                  1.0                         3.0                   17.0   \n",
       "1                  1.0                         1.0                    7.0   \n",
       "2                  1.0                         1.0                   17.0   \n",
       "3                  1.0                        13.0                    7.0   \n",
       "4                  2.0                         1.0                    1.0   \n",
       "\n",
       "   time_in_hospital  ... number_diagnoses blood_type  hemoglobin_level  \\\n",
       "0               2.0  ...              7.0         A+              12.8   \n",
       "1               3.0  ...              6.0         A+              16.0   \n",
       "2               1.0  ...              6.0         A+              12.6   \n",
       "3              11.0  ...              9.0         B+              13.8   \n",
       "4               3.0  ...              5.0         A+              14.2   \n",
       "\n",
       "  blood_transfusion  max_glu_serum  A1Cresult  diuretics  insulin  change  \\\n",
       "0             False           Norm       None         No       No      No   \n",
       "1             False           None       None         No      Yes      Ch   \n",
       "2             False           NORM       None         No       No      Ch   \n",
       "3             False           NONE       None         No      Yes      Ch   \n",
       "4             False           None         >8         No      Yes      No   \n",
       "\n",
       "   diabetesMed  \n",
       "0          Yes  \n",
       "1          Yes  \n",
       "2          Yes  \n",
       "3          Yes  \n",
       "4          Yes  \n",
       "\n",
       "[5 rows x 33 columns]"
      ]
     },
     "execution_count": 8,
     "metadata": {},
     "output_type": "execute_result"
    }
   ],
   "source": [
    "df_ = df_.drop(columns = ['id', 'index', 'predicted_readmitted', 'probability', 'actual_readmitted'])\n",
    "df_.head()"
   ]
  },
  {
   "cell_type": "markdown",
   "id": "35513101",
   "metadata": {},
   "source": [
    "Checking for problems concerning the same patients:"
   ]
  },
  {
   "cell_type": "code",
   "execution_count": 27,
   "id": "7027b361",
   "metadata": {},
   "outputs": [
    {
     "name": "stdout",
     "output_type": "stream",
     "text": [
      "Column: race; issues detected: 5\n",
      "Column: gender; issues detected: 1\n",
      "Column: age; issues detected: 31\n",
      "Column: blood_type; issues detected: 309\n"
     ]
    }
   ],
   "source": [
    "repeated_patients = df_[\"patient_id\"].value_counts()[df_[\"patient_id\"].value_counts() > 1].index.to_list()\n",
    "\n",
    "static_cols = ['race',\n",
    "               'gender',\n",
    "               'age',\n",
    "               'blood_type']\n",
    "\n",
    "race_problems = []\n",
    "gender_problems = []\n",
    "age_problems = []\n",
    "blood_type_problems = []\n",
    "\n",
    "for col in static_cols:\n",
    "    data_quality_errors = 0\n",
    "    \n",
    "    for patient in repeated_patients:\n",
    "        value_counts = df_[df_[\"patient_id\"] == patient][col].value_counts().values\n",
    "        \n",
    "        if len(value_counts) > 1:\n",
    "            data_quality_errors += 1\n",
    "            \n",
    "            if col == 'race':\n",
    "                race_problems.append(patient)\n",
    "            elif col == 'gender':\n",
    "                gender_problems.append(patient)\n",
    "            elif col == 'age':\n",
    "                age_problems.append(patient)\n",
    "            else:\n",
    "                blood_type_problems.append(patient)\n",
    "    \n",
    "    print(f'Column: {col}; issues detected: {data_quality_errors}')"
   ]
  },
  {
   "cell_type": "code",
   "execution_count": 36,
   "id": "d425f63e",
   "metadata": {},
   "outputs": [
    {
     "data": {
      "text/html": [
       "<div>\n",
       "<style scoped>\n",
       "    .dataframe tbody tr th:only-of-type {\n",
       "        vertical-align: middle;\n",
       "    }\n",
       "\n",
       "    .dataframe tbody tr th {\n",
       "        vertical-align: top;\n",
       "    }\n",
       "\n",
       "    .dataframe thead th {\n",
       "        text-align: right;\n",
       "    }\n",
       "</style>\n",
       "<table border=\"1\" class=\"dataframe\">\n",
       "  <thead>\n",
       "    <tr style=\"text-align: right;\">\n",
       "      <th></th>\n",
       "      <th>admission_id</th>\n",
       "      <th>patient_id</th>\n",
       "      <th>race</th>\n",
       "      <th>gender</th>\n",
       "      <th>age</th>\n",
       "      <th>weight</th>\n",
       "      <th>admission_type_code</th>\n",
       "      <th>discharge_disposition_code</th>\n",
       "      <th>admission_source_code</th>\n",
       "      <th>time_in_hospital</th>\n",
       "      <th>...</th>\n",
       "      <th>number_diagnoses</th>\n",
       "      <th>blood_type</th>\n",
       "      <th>hemoglobin_level</th>\n",
       "      <th>blood_transfusion</th>\n",
       "      <th>max_glu_serum</th>\n",
       "      <th>A1Cresult</th>\n",
       "      <th>diuretics</th>\n",
       "      <th>insulin</th>\n",
       "      <th>change</th>\n",
       "      <th>diabetesMed</th>\n",
       "    </tr>\n",
       "  </thead>\n",
       "  <tbody>\n",
       "    <tr>\n",
       "      <th>415</th>\n",
       "      <td>83990.0</td>\n",
       "      <td>81735280.0</td>\n",
       "      <td>caucasian</td>\n",
       "      <td>Male</td>\n",
       "      <td>[40-50)</td>\n",
       "      <td>NaN</td>\n",
       "      <td>1.0</td>\n",
       "      <td>1.0</td>\n",
       "      <td>7.0</td>\n",
       "      <td>3.0</td>\n",
       "      <td>...</td>\n",
       "      <td>6.0</td>\n",
       "      <td>O+</td>\n",
       "      <td>16.0</td>\n",
       "      <td>False</td>\n",
       "      <td>NONE</td>\n",
       "      <td>None</td>\n",
       "      <td>No</td>\n",
       "      <td>Yes</td>\n",
       "      <td>Ch</td>\n",
       "      <td>Yes</td>\n",
       "    </tr>\n",
       "    <tr>\n",
       "      <th>7906</th>\n",
       "      <td>81730.0</td>\n",
       "      <td>81735280.0</td>\n",
       "      <td>caucasian</td>\n",
       "      <td>Female</td>\n",
       "      <td>[40-50)</td>\n",
       "      <td>NaN</td>\n",
       "      <td>1.0</td>\n",
       "      <td>5.0</td>\n",
       "      <td>7.0</td>\n",
       "      <td>2.0</td>\n",
       "      <td>...</td>\n",
       "      <td>9.0</td>\n",
       "      <td>A+</td>\n",
       "      <td>13.5</td>\n",
       "      <td>False</td>\n",
       "      <td>None</td>\n",
       "      <td>None</td>\n",
       "      <td>No</td>\n",
       "      <td>Yes</td>\n",
       "      <td>Ch</td>\n",
       "      <td>Yes</td>\n",
       "    </tr>\n",
       "  </tbody>\n",
       "</table>\n",
       "<p>2 rows × 33 columns</p>\n",
       "</div>"
      ],
      "text/plain": [
       "      admission_id  patient_id       race  gender      age weight  \\\n",
       "415        83990.0  81735280.0  caucasian    Male  [40-50)    NaN   \n",
       "7906       81730.0  81735280.0  caucasian  Female  [40-50)    NaN   \n",
       "\n",
       "      admission_type_code  discharge_disposition_code  admission_source_code  \\\n",
       "415                   1.0                         1.0                    7.0   \n",
       "7906                  1.0                         5.0                    7.0   \n",
       "\n",
       "      time_in_hospital  ... number_diagnoses blood_type  hemoglobin_level  \\\n",
       "415                3.0  ...              6.0         O+              16.0   \n",
       "7906               2.0  ...              9.0         A+              13.5   \n",
       "\n",
       "     blood_transfusion  max_glu_serum  A1Cresult  diuretics  insulin  change  \\\n",
       "415              False           NONE       None         No      Yes      Ch   \n",
       "7906             False           None       None         No      Yes      Ch   \n",
       "\n",
       "      diabetesMed  \n",
       "415           Yes  \n",
       "7906          Yes  \n",
       "\n",
       "[2 rows x 33 columns]"
      ]
     },
     "execution_count": 36,
     "metadata": {},
     "output_type": "execute_result"
    }
   ],
   "source": [
    "df_[df_['patient_id'] == gender_problems[0]]"
   ]
  },
  {
   "cell_type": "markdown",
   "id": "5830886b",
   "metadata": {},
   "source": [
    "Import the pipeline, column types:"
   ]
  },
  {
   "cell_type": "code",
   "execution_count": 9,
   "id": "95cd95ea",
   "metadata": {},
   "outputs": [],
   "source": [
    "directory = '/home/pgomes/projects/model-deployment/ldssa_capstone_project'\n",
    "\n",
    "with open(f'{directory}/columns.json') as fh:\n",
    "    columns = json.load(fh)\n",
    "\n",
    "with open(f'{directory}/pipeline.pickle', 'rb') as fh:\n",
    "    pipeline = joblib.load(fh)\n",
    "\n",
    "with open(f'{directory}/dtypes.pickle', 'rb') as fh:\n",
    "    dtypes = pickle.load(fh)"
   ]
  },
  {
   "cell_type": "markdown",
   "id": "ecf862e6",
   "metadata": {},
   "source": [
    "Compare the real values with the predictions:"
   ]
  },
  {
   "cell_type": "code",
   "execution_count": 10,
   "id": "712b308f",
   "metadata": {},
   "outputs": [
    {
     "name": "stdout",
     "output_type": "stream",
     "text": [
      "              precision    recall  f1-score   support\n",
      "\n",
      "           0       0.92      0.68      0.78      8424\n",
      "           1       0.17      0.53      0.26      1074\n",
      "\n",
      "    accuracy                           0.66      9498\n",
      "   macro avg       0.55      0.61      0.52      9498\n",
      "weighted avg       0.84      0.66      0.72      9498\n",
      "\n"
     ]
    }
   ],
   "source": [
    "print(classification_report(actual, predictions))"
   ]
  },
  {
   "cell_type": "markdown",
   "id": "49b64929",
   "metadata": {},
   "source": [
    "Print the confusion matrix:"
   ]
  },
  {
   "cell_type": "code",
   "execution_count": 11,
   "id": "7d1b0a7c",
   "metadata": {},
   "outputs": [
    {
     "data": {
      "image/png": "[encoded data removed]",
      "text/plain": [
       "<Figure size 288x144 with 1 Axes>"
      ]
     },
     "metadata": {
      "needs_background": "light"
     },
     "output_type": "display_data"
    }
   ],
   "source": [
    "cm = confusion_matrix(actual, predictions)\n",
    "\n",
    "plt.figure(figsize = (4, 2))\n",
    "\n",
    "ax = plt.subplot()\n",
    "sns.heatmap(cm, annot = True, \n",
    "            fmt = 'g', \n",
    "            cmap = 'Blues',\n",
    "            ax = ax, cbar = False ); \n",
    "\n",
    "# labels, title and ticks\n",
    "ax.set_xlabel('Predicted labels');ax.set_ylabel('True labels'); \n",
    "# ax.set_title('Confusion Matrix'); \n",
    "ax.xaxis.set_ticklabels(['No', 'Yes']); ax.yaxis.set_ticklabels(['No', 'Yes']);"
   ]
  },
  {
   "cell_type": "code",
   "execution_count": 12,
   "id": "5c0d91d1",
   "metadata": {
    "scrolled": true
   },
   "outputs": [
    {
     "name": "stdout",
     "output_type": "stream",
     "text": [
      "0.6623693372356807\n",
      "0.655568144841112\n"
     ]
    }
   ],
   "source": [
    "# Test Data\n",
    "print(roc_auc_score(actual_test, y_pred_proba_test))\n",
    "\n",
    "# New Data\n",
    "print(roc_auc_score(actual, proba))"
   ]
  },
  {
   "cell_type": "markdown",
   "id": "7e70537d",
   "metadata": {},
   "source": [
    "Plot ROC:"
   ]
  },
  {
   "cell_type": "code",
   "execution_count": 13,
   "id": "ff5d5290",
   "metadata": {},
   "outputs": [
    {
     "name": "stdout",
     "output_type": "stream",
     "text": [
      "No Skill: ROC AUC=0.500\n",
      "Logistic: ROC AUC=0.656\n",
      "Test data: ROC AUC=0.662\n"
     ]
    },
    {
     "data": {
      "image/png": "[encoded data removed]",
      "text/plain": [
       "<Figure size 360x288 with 1 Axes>"
      ]
     },
     "metadata": {
      "needs_background": "light"
     },
     "output_type": "display_data"
    }
   ],
   "source": [
    "ns_probs = [0 for _ in range(df_.shape[0])]\n",
    "\n",
    "# calculate scores\n",
    "ns_auc = roc_auc_score(actual, ns_probs)\n",
    "lr_auc = roc_auc_score(actual, proba)\n",
    "ts_auc = roc_auc_score(actual_test, y_pred_proba_test)\n",
    "\n",
    "# summarize scores\n",
    "print('No Skill: ROC AUC=%.3f' % (ns_auc))\n",
    "print('Logistic: ROC AUC=%.3f' % (lr_auc))\n",
    "print('Test data: ROC AUC=%.3f' % (ts_auc))\n",
    "\n",
    "# calculate roc curves\n",
    "ns_fpr, ns_tpr, _ = roc_curve(actual, ns_probs)\n",
    "lr_fpr, lr_tpr, _ = roc_curve(actual, proba)\n",
    "ts_fpr, ts_tpr, _ = roc_curve(actual_test, y_pred_proba_test)\n",
    "\n",
    "plt.figure(figsize = (5, 4))\n",
    "\n",
    "# plot the roc curve for the model\n",
    "plt.plot(ns_fpr, ns_tpr, linestyle='--', label = 'Random guessing')\n",
    "plt.plot(lr_fpr, lr_tpr, marker='.', label = 'New observations')\n",
    "plt.plot(ts_fpr, ts_tpr, marker='.', label = 'Test Data', alpha = 0.05)\n",
    "\n",
    "# axis labels\n",
    "plt.xlabel('False Positive Rate')\n",
    "plt.ylabel('True Positive Rate')\n",
    "\n",
    "# show the legend\n",
    "plt.legend()\n",
    "\n",
    "# show the title\n",
    "plt.title('ROC Curve')\n",
    "\n",
    "# show the plot\n",
    "plt.show()"
   ]
  },
  {
   "cell_type": "markdown",
   "id": "e3cbc0f1",
   "metadata": {},
   "source": [
    "Precision-Recall curves:"
   ]
  },
  {
   "cell_type": "code",
   "execution_count": 14,
   "id": "36ee4f84",
   "metadata": {},
   "outputs": [],
   "source": [
    "precision_ts, recall_ts, thresholds_ts = precision_recall_curve(actual_test, y_pred_proba_test)\n",
    "\n",
    "precision_ts = precision_ts[:-1]\n",
    "recall_ts = recall_ts[:-1]\n",
    "\n",
    "precision, recall, thresholds = precision_recall_curve(actual, proba)\n",
    "\n",
    "precision = precision[:-1]\n",
    "recall = recall[:-1]"
   ]
  },
  {
   "cell_type": "code",
   "execution_count": 15,
   "id": "96dca347",
   "metadata": {},
   "outputs": [
    {
     "data": {
      "image/png": "[encoded data removed]",
      "text/plain": [
       "<Figure size 432x288 with 2 Axes>"
      ]
     },
     "metadata": {
      "needs_background": "light"
     },
     "output_type": "display_data"
    }
   ],
   "source": [
    "fig = plt.figure()\n",
    "ax1 = plt.subplot(211)\n",
    "ax2 = plt.subplot(212)\n",
    "\n",
    "ax1.hlines(y = 0.5, xmin = 0, xmax = 1, colors = 'red')\n",
    "\n",
    "ax1.plot(thresholds_ts, precision_ts)\n",
    "ax1.plot(thresholds, precision)\n",
    "\n",
    "ax2.plot(thresholds_ts, recall_ts)\n",
    "ax2.plot(thresholds, recall)\n",
    "\n",
    "ax1.get_shared_x_axes().join(ax1, ax2)\n",
    "\n",
    "ax1.set_xticklabels([])\n",
    "plt.xlabel('Threshold')\n",
    "\n",
    "ax1.legend(['Test Data', 'New obs.'])\n",
    "\n",
    "ax1.set_title('Precision')\n",
    "ax2.set_title('Recall')\n",
    "\n",
    "plt.show()"
   ]
  },
  {
   "cell_type": "markdown",
   "id": "7059a8f7",
   "metadata": {},
   "source": [
    "Correlation:"
   ]
  },
  {
   "cell_type": "code",
   "execution_count": 16,
   "id": "3d863d87",
   "metadata": {},
   "outputs": [
    {
     "data": {
      "image/png": "[encoded data removed]",
      "text/plain": [
       "<Figure size 720x576 with 2 Axes>"
      ]
     },
     "metadata": {
      "needs_background": "light"
     },
     "output_type": "display_data"
    }
   ],
   "source": [
    "cols_to_drop = ['admission_id', \n",
    "                'patient_id', \n",
    "                'admission_type_code', \n",
    "                'discharge_disposition_code',\n",
    "                'admission_source_code']\n",
    "\n",
    "corr = np.round(df_.drop(columns = cols_to_drop).corr(), 2)\n",
    "\n",
    "plt.figure(figsize = (10,8))\n",
    "\n",
    "sns.heatmap(corr, \n",
    "            cmap = 'icefire', \n",
    "            annot = True,\n",
    "            # xticklabels = labels,\n",
    "            # yticklabels = labels\n",
    "           )\n",
    "\n",
    "plt.show()"
   ]
  },
  {
   "cell_type": "markdown",
   "id": "4753ef98",
   "metadata": {},
   "source": [
    "Compare the differences between the sets:"
   ]
  },
  {
   "cell_type": "code",
   "execution_count": 17,
   "id": "d6afa919",
   "metadata": {},
   "outputs": [
    {
     "data": {
      "image/png": "[encoded data removed]",
      "text/plain": [
       "<Figure size 360x288 with 1 Axes>"
      ]
     },
     "metadata": {
      "needs_background": "light"
     },
     "output_type": "display_data"
    }
   ],
   "source": [
    "plt.figure(figsize = (5, 4))\n",
    "\n",
    "differences_test = df_test_[(actual_test != y_pred_test)]['number_inpatient']\n",
    "differences_new = df_[predictions != actual]['number_inpatient']\n",
    "\n",
    "sns.histplot(differences_test, kde = False, color = 'C0')\n",
    "sns.histplot(differences_new, kde = False, color = 'C1')\n",
    "\n",
    "# plt.axvline(x = differences_test.median(), color = 'k')\n",
    "#plt.axvline(x = differences_new.median(), color = 'r')\n",
    "\n",
    "plt.legend(['Test Data', 'New Observations'])\n",
    "\n",
    "plt.xlabel('Number of inpatient visits')\n",
    "plt.xticks(np.arange(0, 17, 1))\n",
    "\n",
    "plt.show()"
   ]
  },
  {
   "cell_type": "markdown",
   "id": "5439c086",
   "metadata": {},
   "source": [
    "## Discrimination analysis:"
   ]
  },
  {
   "cell_type": "code",
   "execution_count": 18,
   "id": "f09387e1",
   "metadata": {},
   "outputs": [],
   "source": [
    "def verify_descrimination(X_test, \n",
    "                          y_test, \n",
    "                          y_pred, \n",
    "                          max_diff = 0.10,\n",
    "                          min_percent = 0.01,\n",
    "                          sensitive_column = 'gender'):\n",
    "\n",
    "    sensitive_classes = X_test[sensitive_column].unique()\n",
    "    min_samples = X_test.shape[0]*min_percent\n",
    "    \n",
    "    is_satisfied = True\n",
    "    recalls = {}\n",
    "    \n",
    "    for sensitive_class in sensitive_classes:\n",
    "        mask = X_test[sensitive_column] == sensitive_class\n",
    "        \n",
    "        if mask.sum() > min_samples:\n",
    "            recalls[sensitive_class] = recall_score(y_test[mask], y_pred[mask])\n",
    "\n",
    "    diff = np.max(list(recalls.values())) - np.min(list(recalls.values()))\n",
    "    \n",
    "    if diff > max_diff:\n",
    "        is_satisfied = False\n",
    "\n",
    "    return is_satisfied, diff, recalls"
   ]
  },
  {
   "cell_type": "markdown",
   "id": "f6b0eb24",
   "metadata": {},
   "source": [
    "Gender:"
   ]
  },
  {
   "cell_type": "code",
   "execution_count": 19,
   "id": "19686c15",
   "metadata": {},
   "outputs": [
    {
     "data": {
      "text/plain": [
       "(True,\n",
       " 0.04742470315920311,\n",
       " {'Female': 0.5524956970740104, 'Male': 0.5050709939148073})"
      ]
     },
     "execution_count": 19,
     "metadata": {},
     "output_type": "execute_result"
    }
   ],
   "source": [
    "verify_descrimination(df_, actual, predictions, sensitive_column = 'gender')"
   ]
  },
  {
   "cell_type": "markdown",
   "id": "f96482f8",
   "metadata": {},
   "source": [
    "Age:"
   ]
  },
  {
   "cell_type": "code",
   "execution_count": 20,
   "id": "80b6313e",
   "metadata": {},
   "outputs": [
    {
     "data": {
      "text/plain": [
       "[70-80)     26.308360\n",
       "[60-70)     22.540717\n",
       "[50-60)     17.024973\n",
       "[80-90)     15.928339\n",
       "[40-50)      9.695983\n",
       "[30-40)      3.593920\n",
       "[90-100)     2.616721\n",
       "[20-30)      1.552660\n",
       "[10-20)      0.629750\n",
       "[0-10)       0.108578\n",
       "Name: age, dtype: float64"
      ]
     },
     "execution_count": 20,
     "metadata": {},
     "output_type": "execute_result"
    }
   ],
   "source": [
    "df_['age'].value_counts(normalize = True)*100"
   ]
  },
  {
   "cell_type": "code",
   "execution_count": 21,
   "id": "154d1572",
   "metadata": {},
   "outputs": [
    {
     "name": "stderr",
     "output_type": "stream",
     "text": [
      "/home/pgomes/.virtualenvs/blu15/lib/python3.7/site-packages/sklearn/metrics/_classification.py:1248: UndefinedMetricWarning: Recall is ill-defined and being set to 0.0 due to no true samples. Use `zero_division` parameter to control this behavior.\n",
      "  _warn_prf(average, modifier, msg_start, len(result))\n"
     ]
    },
    {
     "data": {
      "text/plain": [
       "(False,\n",
       " 0.6842105263157895,\n",
       " {'[80-90)': 0.5977653631284916,\n",
       "  '[30-40)': 0.5238095238095238,\n",
       "  '[60-70)': 0.5338983050847458,\n",
       "  '[70-80)': 0.5536332179930796,\n",
       "  '[40-50)': 0.4421052631578947,\n",
       "  '[50-60)': 0.46357615894039733,\n",
       "  '[90-100)': 0.53125,\n",
       "  '[20-30)': 0.6842105263157895,\n",
       "  '[10-20)': 0.0,\n",
       "  '[0-10)': 0.0})"
      ]
     },
     "execution_count": 21,
     "metadata": {},
     "output_type": "execute_result"
    }
   ],
   "source": [
    "verify_descrimination(df_, actual, predictions, sensitive_column = 'age', min_percent = 0)"
   ]
  },
  {
   "cell_type": "markdown",
   "id": "42bc8360",
   "metadata": {},
   "source": [
    "Race:"
   ]
  },
  {
   "cell_type": "code",
   "execution_count": 22,
   "id": "9e3e4946",
   "metadata": {},
   "outputs": [],
   "source": [
    "race_map = { 'white' : 'caucasian'\n",
    "             , 'africanamerican' : 'black'\n",
    "             , 'african american' : 'black'\n",
    "             , 'afro american' : 'black'\n",
    "             , 'euro' : 'caucasian'\n",
    "             , 'european' : 'caucasian'\n",
    "             , 'asian' : 'asian'\n",
    "             , 'latino' : 'latino'\n",
    "             , 'hispanic' : 'latino'\n",
    "             , np.nan : 'caucasian'\n",
    "             }\n",
    "\n",
    "df_['race'] = df_['race'].str.lower().replace(race_map)"
   ]
  },
  {
   "cell_type": "code",
   "execution_count": 23,
   "id": "787f450f",
   "metadata": {},
   "outputs": [
    {
     "data": {
      "text/plain": [
       "caucasian    7325\n",
       "black        1757\n",
       "latino        194\n",
       "other         164\n",
       "asian          58\n",
       "Name: race, dtype: int64"
      ]
     },
     "execution_count": 23,
     "metadata": {},
     "output_type": "execute_result"
    }
   ],
   "source": [
    "df_['race'].value_counts()"
   ]
  },
  {
   "cell_type": "code",
   "execution_count": 24,
   "id": "ae03e664",
   "metadata": {},
   "outputs": [
    {
     "data": {
      "text/plain": [
       "(False,\n",
       " 0.3095238095238096,\n",
       " {'caucasian': 0.5423529411764706,\n",
       "  'black': 0.4845360824742268,\n",
       "  'other': 0.4,\n",
       "  'asian': 0.3333333333333333,\n",
       "  'latino': 0.6428571428571429})"
      ]
     },
     "execution_count": 24,
     "metadata": {},
     "output_type": "execute_result"
    }
   ],
   "source": [
    "verify_descrimination(df_, actual, predictions, sensitive_column = 'race', min_percent = 0)"
   ]
  },
  {
   "cell_type": "markdown",
   "id": "c548ee0e",
   "metadata": {},
   "source": [
    "Payer codes:"
   ]
  },
  {
   "cell_type": "code",
   "execution_count": 25,
   "id": "c5caebb8",
   "metadata": {},
   "outputs": [
    {
     "data": {
      "text/plain": [
       "(False,\n",
       " 0.46570605187319886,\n",
       " {'BC': 0.475,\n",
       "  'HM': 0.5,\n",
       "  'MC': 0.6657060518731989,\n",
       "  'CM': 0.5,\n",
       "  'SP': 0.475,\n",
       "  'UN': 0.38095238095238093,\n",
       "  'MD': 0.5333333333333333,\n",
       "  'CP': 0.2,\n",
       "  'OG': 0.3})"
      ]
     },
     "execution_count": 25,
     "metadata": {},
     "output_type": "execute_result"
    }
   ],
   "source": [
    "# df_['payer_code'] = df_['payer_code'].apply(lambda x: x if x == 'SP' else 'Other')\n",
    "\n",
    "verify_descrimination(df_, actual, predictions, sensitive_column = 'payer_code')"
   ]
  },
  {
   "cell_type": "markdown",
   "id": "22fba0a0",
   "metadata": {},
   "source": [
    "Medical specialties:"
   ]
  },
  {
   "cell_type": "code",
   "execution_count": 26,
   "id": "57beb742",
   "metadata": {},
   "outputs": [
    {
     "data": {
      "text/plain": [
       "(False,\n",
       " 0.48181818181818187,\n",
       " {'Family/GeneralPractice': 0.43333333333333335,\n",
       "  'Cardiology': 0.3181818181818182,\n",
       "  'InternalMedicine': 0.536144578313253,\n",
       "  'Surgery-General': 0.6216216216216216,\n",
       "  'Emergency/Trauma': 0.625,\n",
       "  'Radiologist': 0.3333333333333333,\n",
       "  'Orthopedics-Reconstructive': 0.7777777777777778,\n",
       "  'Nephrology': 0.6666666666666666,\n",
       "  'Orthopedics': 0.8})"
      ]
     },
     "execution_count": 26,
     "metadata": {},
     "output_type": "execute_result"
    }
   ],
   "source": [
    "verify_descrimination(df_, actual, predictions, sensitive_column = 'medical_specialty')"
   ]
  },
  {
   "cell_type": "code",
   "execution_count": null,
   "id": "3bab5a51",
   "metadata": {},
   "outputs": [],
   "source": []
  }
 ],
 "metadata": {
  "kernelspec": {
   "display_name": "Python 3 (ipykernel)",
   "language": "python",
   "name": "python3"
  },
  "language_info": {
   "codemirror_mode": {
    "name": "ipython",
    "version": 3
   },
   "file_extension": ".py",
   "mimetype": "text/x-python",
   "name": "python",
   "nbconvert_exporter": "python",
   "pygments_lexer": "ipython3",
   "version": "3.7.12"
  }
 },
 "nbformat": 4,
 "nbformat_minor": 5
}
