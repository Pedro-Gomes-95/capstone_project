{
 "cells": [
  {
   "cell_type": "markdown",
   "id": "ebd91f3b",
   "metadata": {},
   "source": [
    "# Exploratory Data Analysis (Initial Data + First Round)"
   ]
  },
  {
   "cell_type": "markdown",
   "id": "10a6a397",
   "metadata": {},
   "source": [
    "Import the necessary packages:"
   ]
  },
  {
   "cell_type": "code",
   "execution_count": 1,
   "id": "7afcbc41",
   "metadata": {},
   "outputs": [],
   "source": [
    "import pandas as pd\n",
    "import numpy as np\n",
    "import matplotlib.pyplot as plt\n",
    "import seaborn as sns"
   ]
  },
  {
   "cell_type": "markdown",
   "id": "ca538d5b",
   "metadata": {},
   "source": [
    "Read the data, and create a copy of it:"
   ]
  },
  {
   "cell_type": "code",
   "execution_count": 2,
   "id": "5674d4e4",
   "metadata": {},
   "outputs": [],
   "source": [
    "# Initial dataset\n",
    "df_training = pd.read_csv('data/train_data.csv')\n",
    "df_training_ = df_training.copy(deep = True)\n",
    "\n",
    "# First round requests dataset\n",
    "df_fr = pd.read_csv('data/first_batch_requests_data.csv')\n",
    "df_fr_ = df_fr.copy(deep = True)"
   ]
  },
  {
   "cell_type": "markdown",
   "id": "6a46f613",
   "metadata": {},
   "source": [
    "Replace missing values:"
   ]
  },
  {
   "cell_type": "code",
   "execution_count": 3,
   "id": "7fa9943a",
   "metadata": {},
   "outputs": [],
   "source": [
    "df_training_ = df_training_.replace('?', np.nan)\n",
    "df_fr_ = df_fr_.replace('?', np.nan)"
   ]
  },
  {
   "cell_type": "markdown",
   "id": "bf9a584a",
   "metadata": {},
   "source": [
    "Check for abnormal values:"
   ]
  },
  {
   "cell_type": "code",
   "execution_count": 39,
   "id": "481fd59a",
   "metadata": {},
   "outputs": [
    {
     "data": {
      "text/html": [
       "<div>\n",
       "<style scoped>\n",
       "    .dataframe tbody tr th:only-of-type {\n",
       "        vertical-align: middle;\n",
       "    }\n",
       "\n",
       "    .dataframe tbody tr th {\n",
       "        vertical-align: top;\n",
       "    }\n",
       "\n",
       "    .dataframe thead th {\n",
       "        text-align: right;\n",
       "    }\n",
       "</style>\n",
       "<table border=\"1\" class=\"dataframe\">\n",
       "  <thead>\n",
       "    <tr style=\"text-align: right;\">\n",
       "      <th></th>\n",
       "      <th>id</th>\n",
       "      <th>index</th>\n",
       "      <th>admission_id</th>\n",
       "      <th>patient_id</th>\n",
       "      <th>admission_type_code</th>\n",
       "      <th>discharge_disposition_code</th>\n",
       "      <th>admission_source_code</th>\n",
       "      <th>time_in_hospital</th>\n",
       "      <th>num_lab_procedures</th>\n",
       "      <th>num_procedures</th>\n",
       "      <th>num_medications</th>\n",
       "      <th>number_outpatient</th>\n",
       "      <th>number_emergency</th>\n",
       "      <th>number_inpatient</th>\n",
       "      <th>number_diagnoses</th>\n",
       "      <th>hemoglobin_level</th>\n",
       "      <th>probability</th>\n",
       "    </tr>\n",
       "  </thead>\n",
       "  <tbody>\n",
       "    <tr>\n",
       "      <th>count</th>\n",
       "      <td>9498.000000</td>\n",
       "      <td>0.0</td>\n",
       "      <td>9498.000000</td>\n",
       "      <td>9.498000e+03</td>\n",
       "      <td>9355.000000</td>\n",
       "      <td>9428.000000</td>\n",
       "      <td>9498.000000</td>\n",
       "      <td>9498.000000</td>\n",
       "      <td>9320.000000</td>\n",
       "      <td>9498.000000</td>\n",
       "      <td>9197.000000</td>\n",
       "      <td>9498.000000</td>\n",
       "      <td>9498.000000</td>\n",
       "      <td>9498.000000</td>\n",
       "      <td>9498.000000</td>\n",
       "      <td>9498.000000</td>\n",
       "      <td>9498.000000</td>\n",
       "    </tr>\n",
       "    <tr>\n",
       "      <th>mean</th>\n",
       "      <td>4749.500000</td>\n",
       "      <td>NaN</td>\n",
       "      <td>91395.900505</td>\n",
       "      <td>1.084034e+08</td>\n",
       "      <td>2.032496</td>\n",
       "      <td>3.608082</td>\n",
       "      <td>5.742472</td>\n",
       "      <td>4.386081</td>\n",
       "      <td>42.907725</td>\n",
       "      <td>1.352601</td>\n",
       "      <td>16.071001</td>\n",
       "      <td>0.364708</td>\n",
       "      <td>0.189514</td>\n",
       "      <td>0.626027</td>\n",
       "      <td>7.418193</td>\n",
       "      <td>14.187260</td>\n",
       "      <td>0.463377</td>\n",
       "    </tr>\n",
       "    <tr>\n",
       "      <th>std</th>\n",
       "      <td>2741.980762</td>\n",
       "      <td>NaN</td>\n",
       "      <td>5755.074448</td>\n",
       "      <td>7.762869e+07</td>\n",
       "      <td>1.443473</td>\n",
       "      <td>5.251971</td>\n",
       "      <td>4.067169</td>\n",
       "      <td>3.010725</td>\n",
       "      <td>19.913114</td>\n",
       "      <td>1.707041</td>\n",
       "      <td>8.301442</td>\n",
       "      <td>1.192826</td>\n",
       "      <td>0.957828</td>\n",
       "      <td>1.255152</td>\n",
       "      <td>1.949962</td>\n",
       "      <td>1.050344</td>\n",
       "      <td>0.083949</td>\n",
       "    </tr>\n",
       "    <tr>\n",
       "      <th>min</th>\n",
       "      <td>1.000000</td>\n",
       "      <td>NaN</td>\n",
       "      <td>81412.000000</td>\n",
       "      <td>1.036800e+04</td>\n",
       "      <td>1.000000</td>\n",
       "      <td>1.000000</td>\n",
       "      <td>1.000000</td>\n",
       "      <td>1.000000</td>\n",
       "      <td>1.000000</td>\n",
       "      <td>0.000000</td>\n",
       "      <td>1.000000</td>\n",
       "      <td>0.000000</td>\n",
       "      <td>0.000000</td>\n",
       "      <td>0.000000</td>\n",
       "      <td>1.000000</td>\n",
       "      <td>10.900000</td>\n",
       "      <td>0.243607</td>\n",
       "    </tr>\n",
       "    <tr>\n",
       "      <th>25%</th>\n",
       "      <td>2375.250000</td>\n",
       "      <td>NaN</td>\n",
       "      <td>86411.250000</td>\n",
       "      <td>4.673195e+07</td>\n",
       "      <td>1.000000</td>\n",
       "      <td>1.000000</td>\n",
       "      <td>1.000000</td>\n",
       "      <td>2.000000</td>\n",
       "      <td>31.000000</td>\n",
       "      <td>0.000000</td>\n",
       "      <td>10.000000</td>\n",
       "      <td>0.000000</td>\n",
       "      <td>0.000000</td>\n",
       "      <td>0.000000</td>\n",
       "      <td>6.000000</td>\n",
       "      <td>13.400000</td>\n",
       "      <td>0.398849</td>\n",
       "    </tr>\n",
       "    <tr>\n",
       "      <th>50%</th>\n",
       "      <td>4749.500000</td>\n",
       "      <td>NaN</td>\n",
       "      <td>91364.000000</td>\n",
       "      <td>9.112148e+07</td>\n",
       "      <td>1.000000</td>\n",
       "      <td>1.000000</td>\n",
       "      <td>7.000000</td>\n",
       "      <td>4.000000</td>\n",
       "      <td>44.000000</td>\n",
       "      <td>1.000000</td>\n",
       "      <td>15.000000</td>\n",
       "      <td>0.000000</td>\n",
       "      <td>0.000000</td>\n",
       "      <td>0.000000</td>\n",
       "      <td>8.000000</td>\n",
       "      <td>14.100000</td>\n",
       "      <td>0.457912</td>\n",
       "    </tr>\n",
       "    <tr>\n",
       "      <th>75%</th>\n",
       "      <td>7123.750000</td>\n",
       "      <td>NaN</td>\n",
       "      <td>96400.500000</td>\n",
       "      <td>1.752625e+08</td>\n",
       "      <td>3.000000</td>\n",
       "      <td>3.000000</td>\n",
       "      <td>7.000000</td>\n",
       "      <td>6.000000</td>\n",
       "      <td>57.000000</td>\n",
       "      <td>2.000000</td>\n",
       "      <td>20.000000</td>\n",
       "      <td>0.000000</td>\n",
       "      <td>0.000000</td>\n",
       "      <td>1.000000</td>\n",
       "      <td>9.000000</td>\n",
       "      <td>14.900000</td>\n",
       "      <td>0.528287</td>\n",
       "    </tr>\n",
       "    <tr>\n",
       "      <th>max</th>\n",
       "      <td>9498.000000</td>\n",
       "      <td>NaN</td>\n",
       "      <td>101440.000000</td>\n",
       "      <td>3.787316e+08</td>\n",
       "      <td>8.000000</td>\n",
       "      <td>28.000000</td>\n",
       "      <td>20.000000</td>\n",
       "      <td>14.000000</td>\n",
       "      <td>111.000000</td>\n",
       "      <td>6.000000</td>\n",
       "      <td>79.000000</td>\n",
       "      <td>21.000000</td>\n",
       "      <td>63.000000</td>\n",
       "      <td>16.000000</td>\n",
       "      <td>16.000000</td>\n",
       "      <td>18.000000</td>\n",
       "      <td>0.729080</td>\n",
       "    </tr>\n",
       "  </tbody>\n",
       "</table>\n",
       "</div>"
      ],
      "text/plain": [
       "                id  index   admission_id    patient_id  admission_type_code  \\\n",
       "count  9498.000000    0.0    9498.000000  9.498000e+03          9355.000000   \n",
       "mean   4749.500000    NaN   91395.900505  1.084034e+08             2.032496   \n",
       "std    2741.980762    NaN    5755.074448  7.762869e+07             1.443473   \n",
       "min       1.000000    NaN   81412.000000  1.036800e+04             1.000000   \n",
       "25%    2375.250000    NaN   86411.250000  4.673195e+07             1.000000   \n",
       "50%    4749.500000    NaN   91364.000000  9.112148e+07             1.000000   \n",
       "75%    7123.750000    NaN   96400.500000  1.752625e+08             3.000000   \n",
       "max    9498.000000    NaN  101440.000000  3.787316e+08             8.000000   \n",
       "\n",
       "       discharge_disposition_code  admission_source_code  time_in_hospital  \\\n",
       "count                 9428.000000            9498.000000       9498.000000   \n",
       "mean                     3.608082               5.742472          4.386081   \n",
       "std                      5.251971               4.067169          3.010725   \n",
       "min                      1.000000               1.000000          1.000000   \n",
       "25%                      1.000000               1.000000          2.000000   \n",
       "50%                      1.000000               7.000000          4.000000   \n",
       "75%                      3.000000               7.000000          6.000000   \n",
       "max                     28.000000              20.000000         14.000000   \n",
       "\n",
       "       num_lab_procedures  num_procedures  num_medications  number_outpatient  \\\n",
       "count         9320.000000     9498.000000      9197.000000        9498.000000   \n",
       "mean            42.907725        1.352601        16.071001           0.364708   \n",
       "std             19.913114        1.707041         8.301442           1.192826   \n",
       "min              1.000000        0.000000         1.000000           0.000000   \n",
       "25%             31.000000        0.000000        10.000000           0.000000   \n",
       "50%             44.000000        1.000000        15.000000           0.000000   \n",
       "75%             57.000000        2.000000        20.000000           0.000000   \n",
       "max            111.000000        6.000000        79.000000          21.000000   \n",
       "\n",
       "       number_emergency  number_inpatient  number_diagnoses  hemoglobin_level  \\\n",
       "count       9498.000000       9498.000000       9498.000000       9498.000000   \n",
       "mean           0.189514          0.626027          7.418193         14.187260   \n",
       "std            0.957828          1.255152          1.949962          1.050344   \n",
       "min            0.000000          0.000000          1.000000         10.900000   \n",
       "25%            0.000000          0.000000          6.000000         13.400000   \n",
       "50%            0.000000          0.000000          8.000000         14.100000   \n",
       "75%            0.000000          1.000000          9.000000         14.900000   \n",
       "max           63.000000         16.000000         16.000000         18.000000   \n",
       "\n",
       "       probability  \n",
       "count  9498.000000  \n",
       "mean      0.463377  \n",
       "std       0.083949  \n",
       "min       0.243607  \n",
       "25%       0.398849  \n",
       "50%       0.457912  \n",
       "75%       0.528287  \n",
       "max       0.729080  "
      ]
     },
     "execution_count": 39,
     "metadata": {},
     "output_type": "execute_result"
    }
   ],
   "source": [
    "df_fr_.describe()"
   ]
  },
  {
   "cell_type": "markdown",
   "id": "66779519",
   "metadata": {},
   "source": [
    "Race:"
   ]
  },
  {
   "cell_type": "code",
   "execution_count": 9,
   "id": "de9093f3",
   "metadata": {},
   "outputs": [
    {
     "data": {
      "text/plain": [
       "Caucasian           5727\n",
       "AfricanAmerican     1073\n",
       "White                682\n",
       "WHITE                362\n",
       "African American     343\n",
       "European             260\n",
       "Afro American        170\n",
       "Other                164\n",
       "Hispanic             155\n",
       "Black                152\n",
       "EURO                  71\n",
       "Asian                 58\n",
       "Latino                39\n",
       "AFRICANAMERICAN       19\n",
       "Name: race, dtype: int64"
      ]
     },
     "execution_count": 9,
     "metadata": {},
     "output_type": "execute_result"
    }
   ],
   "source": [
    "df_fr_['race'].value_counts()"
   ]
  },
  {
   "cell_type": "markdown",
   "id": "1e9c8de3",
   "metadata": {},
   "source": [
    "Gender"
   ]
  },
  {
   "cell_type": "code",
   "execution_count": 10,
   "id": "5bfbffc2",
   "metadata": {},
   "outputs": [
    {
     "data": {
      "text/plain": [
       "Female             5132\n",
       "Male               4365\n",
       "Unknown/Invalid       1\n",
       "Name: gender, dtype: int64"
      ]
     },
     "execution_count": 10,
     "metadata": {},
     "output_type": "execute_result"
    }
   ],
   "source": [
    "df_fr_['gender'].value_counts()"
   ]
  },
  {
   "cell_type": "markdown",
   "id": "7da59e8d",
   "metadata": {},
   "source": [
    "Age:"
   ]
  },
  {
   "cell_type": "code",
   "execution_count": 12,
   "id": "f0cccd44",
   "metadata": {},
   "outputs": [
    {
     "data": {
      "text/plain": [
       "[70-80)     2423\n",
       "[60-70)     2076\n",
       "[50-60)     1568\n",
       "[80-90)     1467\n",
       "[40-50)      893\n",
       "[30-40)      331\n",
       "[90-100)     241\n",
       "[20-30)      143\n",
       "[10-20)       58\n",
       "[0-10)        10\n",
       "Name: age, dtype: int64"
      ]
     },
     "execution_count": 12,
     "metadata": {},
     "output_type": "execute_result"
    }
   ],
   "source": [
    "df_fr_['age'].value_counts()"
   ]
  },
  {
   "cell_type": "markdown",
   "id": "5c99907f",
   "metadata": {},
   "source": [
    "Weight:"
   ]
  },
  {
   "cell_type": "code",
   "execution_count": 14,
   "id": "462170ce",
   "metadata": {},
   "outputs": [
    {
     "data": {
      "text/plain": [
       "NaN          9201\n",
       "[75-100)      126\n",
       "[50-75)        74\n",
       "[100-125)      67\n",
       "[125-150)      15\n",
       "[25-50)         9\n",
       "[150-175)       3\n",
       "[0-25)          2\n",
       "[175-200)       1\n",
       "Name: weight, dtype: int64"
      ]
     },
     "execution_count": 14,
     "metadata": {},
     "output_type": "execute_result"
    }
   ],
   "source": [
    "df_fr_['weight'].value_counts(dropna = False)"
   ]
  },
  {
   "cell_type": "markdown",
   "id": "5c91020d",
   "metadata": {},
   "source": [
    "Admission code:"
   ]
  },
  {
   "cell_type": "code",
   "execution_count": 15,
   "id": "15c13994",
   "metadata": {},
   "outputs": [
    {
     "data": {
      "text/plain": [
       "array([ 1.,  2.,  3.,  6., nan,  5.,  8.,  7.])"
      ]
     },
     "execution_count": 15,
     "metadata": {},
     "output_type": "execute_result"
    }
   ],
   "source": [
    "df_fr_['admission_type_code'].unique()"
   ]
  },
  {
   "cell_type": "markdown",
   "id": "7d4a4542",
   "metadata": {},
   "source": [
    "Discharge disposition code:"
   ]
  },
  {
   "cell_type": "code",
   "execution_count": 18,
   "id": "3006985f",
   "metadata": {},
   "outputs": [
    {
     "data": {
      "text/plain": [
       "array([ 1.,  2.,  3.,  4.,  5.,  6.,  7.,  8.,  9., 12., 13., 14., 15.,\n",
       "       16., 17., 18., 22., 23., 25., 27., 28., nan])"
      ]
     },
     "execution_count": 18,
     "metadata": {},
     "output_type": "execute_result"
    }
   ],
   "source": [
    "np.sort(df_fr_['discharge_disposition_code'].unique())"
   ]
  },
  {
   "cell_type": "markdown",
   "id": "64304b32",
   "metadata": {},
   "source": [
    "Admission source code:"
   ]
  },
  {
   "cell_type": "code",
   "execution_count": 20,
   "id": "fe434e32",
   "metadata": {},
   "outputs": [
    {
     "data": {
      "text/plain": [
       "array([ 1.,  2.,  3.,  4.,  5.,  6.,  7.,  8.,  9., 10., 17., 20.])"
      ]
     },
     "execution_count": 20,
     "metadata": {},
     "output_type": "execute_result"
    }
   ],
   "source": [
    "np.sort(df_fr_['admission_source_code'].unique())"
   ]
  },
  {
   "cell_type": "markdown",
   "id": "a6407e51",
   "metadata": {},
   "source": [
    "Payer codes:"
   ]
  },
  {
   "cell_type": "code",
   "execution_count": 22,
   "id": "4f511530",
   "metadata": {},
   "outputs": [
    {
     "data": {
      "text/plain": [
       "array([nan, 'BC', 'HM', 'MC', 'CM', 'SP', 'UN', 'MD', 'CP', 'DM', 'OG',\n",
       "       'PO', 'MP', 'CH', 'WC', 'OT', 'SI'], dtype=object)"
      ]
     },
     "execution_count": 22,
     "metadata": {},
     "output_type": "execute_result"
    }
   ],
   "source": [
    "df_fr_['payer_code'].unique()"
   ]
  },
  {
   "cell_type": "markdown",
   "id": "3f8b3246",
   "metadata": {},
   "source": [
    "Prothesis:"
   ]
  },
  {
   "cell_type": "code",
   "execution_count": 24,
   "id": "96c9280b",
   "metadata": {},
   "outputs": [
    {
     "data": {
      "text/plain": [
       "array([False,  True])"
      ]
     },
     "execution_count": 24,
     "metadata": {},
     "output_type": "execute_result"
    }
   ],
   "source": [
    "df_fr_['has_prosthesis'].unique()"
   ]
  },
  {
   "cell_type": "markdown",
   "id": "b78560ae",
   "metadata": {},
   "source": [
    "Vaccination status:"
   ]
  },
  {
   "cell_type": "code",
   "execution_count": 26,
   "id": "93cb1c66",
   "metadata": {},
   "outputs": [
    {
     "data": {
      "text/plain": [
       "array(['Complete', 'Incomplete', 'None'], dtype=object)"
      ]
     },
     "execution_count": 26,
     "metadata": {},
     "output_type": "execute_result"
    }
   ],
   "source": [
    "df_fr_['complete_vaccination_status'].unique()"
   ]
  },
  {
   "cell_type": "markdown",
   "id": "1043047c",
   "metadata": {},
   "source": [
    "Blood type:"
   ]
  },
  {
   "cell_type": "code",
   "execution_count": 28,
   "id": "70892deb",
   "metadata": {},
   "outputs": [
    {
     "data": {
      "text/plain": [
       "array(['A+', 'B+', 'O+', 'O-', 'AB+', 'A-', 'B-', 'AB-'], dtype=object)"
      ]
     },
     "execution_count": 28,
     "metadata": {},
     "output_type": "execute_result"
    }
   ],
   "source": [
    "df_fr_['blood_type'].unique()"
   ]
  },
  {
   "cell_type": "markdown",
   "id": "8c9aac31",
   "metadata": {},
   "source": [
    "Blood transfusion:"
   ]
  },
  {
   "cell_type": "code",
   "execution_count": 30,
   "id": "e177db76",
   "metadata": {},
   "outputs": [
    {
     "data": {
      "text/plain": [
       "array([False,  True])"
      ]
     },
     "execution_count": 30,
     "metadata": {},
     "output_type": "execute_result"
    }
   ],
   "source": [
    "df_fr_['blood_transfusion'].unique()"
   ]
  },
  {
   "cell_type": "markdown",
   "id": "9b69ba30",
   "metadata": {},
   "source": [
    "Max glu serum:"
   ]
  },
  {
   "cell_type": "code",
   "execution_count": 31,
   "id": "b27d23e4",
   "metadata": {},
   "outputs": [
    {
     "data": {
      "text/plain": [
       "array(['Norm', 'None', 'NORM', 'NONE', '>200', '>300'], dtype=object)"
      ]
     },
     "execution_count": 31,
     "metadata": {},
     "output_type": "execute_result"
    }
   ],
   "source": [
    "df_fr_['max_glu_serum'].unique()"
   ]
  },
  {
   "cell_type": "markdown",
   "id": "f7a9ca82",
   "metadata": {},
   "source": [
    "A1Cresult:"
   ]
  },
  {
   "cell_type": "code",
   "execution_count": 32,
   "id": "d362f909",
   "metadata": {},
   "outputs": [
    {
     "data": {
      "text/plain": [
       "array(['None', '>8', '>7', 'Norm'], dtype=object)"
      ]
     },
     "execution_count": 32,
     "metadata": {},
     "output_type": "execute_result"
    }
   ],
   "source": [
    "df_fr_['A1Cresult'].unique()"
   ]
  },
  {
   "cell_type": "markdown",
   "id": "5e4e17cd",
   "metadata": {},
   "source": [
    "Diuretics:"
   ]
  },
  {
   "cell_type": "code",
   "execution_count": 33,
   "id": "be28945f",
   "metadata": {},
   "outputs": [
    {
     "data": {
      "text/plain": [
       "array(['No', 'Yes'], dtype=object)"
      ]
     },
     "execution_count": 33,
     "metadata": {},
     "output_type": "execute_result"
    }
   ],
   "source": [
    "df_fr_['diuretics'].unique()"
   ]
  },
  {
   "cell_type": "markdown",
   "id": "18ca77d9",
   "metadata": {},
   "source": [
    "Insulin:"
   ]
  },
  {
   "cell_type": "code",
   "execution_count": 35,
   "id": "212248f9",
   "metadata": {},
   "outputs": [
    {
     "data": {
      "text/plain": [
       "array(['No', 'Yes'], dtype=object)"
      ]
     },
     "execution_count": 35,
     "metadata": {},
     "output_type": "execute_result"
    }
   ],
   "source": [
    "df_fr_['insulin'].unique()"
   ]
  },
  {
   "cell_type": "markdown",
   "id": "f8255373",
   "metadata": {},
   "source": [
    "Change on medication:"
   ]
  },
  {
   "cell_type": "code",
   "execution_count": 37,
   "id": "1e5c2280",
   "metadata": {},
   "outputs": [
    {
     "data": {
      "text/plain": [
       "array(['No', 'Ch'], dtype=object)"
      ]
     },
     "execution_count": 37,
     "metadata": {},
     "output_type": "execute_result"
    }
   ],
   "source": [
    "df_fr_['change'].unique()"
   ]
  },
  {
   "cell_type": "markdown",
   "id": "c403d9c3",
   "metadata": {},
   "source": [
    "Diabetes medication:"
   ]
  },
  {
   "cell_type": "code",
   "execution_count": 38,
   "id": "e2c01180",
   "metadata": {},
   "outputs": [
    {
     "data": {
      "text/plain": [
       "array(['Yes', 'No'], dtype=object)"
      ]
     },
     "execution_count": 38,
     "metadata": {},
     "output_type": "execute_result"
    }
   ],
   "source": [
    "df_fr_['diabetesMed'].unique()"
   ]
  },
  {
   "cell_type": "markdown",
   "id": "c0ef8799",
   "metadata": {},
   "source": [
    "Dataset comparison:\n",
    "\n",
    "Target variable:"
   ]
  },
  {
   "cell_type": "code",
   "execution_count": 4,
   "id": "0e0fa64e",
   "metadata": {},
   "outputs": [
    {
     "data": {
      "image/png": "[encoded data removed]",
      "text/plain": [
       "<Figure size 360x288 with 1 Axes>"
      ]
     },
     "metadata": {
      "needs_background": "light"
     },
     "output_type": "display_data"
    }
   ],
   "source": [
    "plt.figure(figsize = (5, 4))\n",
    "\n",
    "df_training_['readmitted'].value_counts(normalize = True).plot(kind = 'bar', \n",
    "                                                               align ='edge', \n",
    "                                                               width = -0.2, \n",
    "                                                               label = 'Training Data')\n",
    "\n",
    "df_fr_['actual_readmitted'].value_counts(normalize = True).plot(kind = 'bar', \n",
    "                                                                align ='edge', \n",
    "                                                                width = 0.2, \n",
    "                                                                label = 'New Data',\n",
    "                                                                color = 'C1')\n",
    "\n",
    "plt.xlim([-0.3, 1.3])\n",
    "\n",
    "plt.ylabel('Frequency (%)')\n",
    "plt.xlabel('Readmission')\n",
    "\n",
    "plt.legend()\n",
    "plt.show()"
   ]
  },
  {
   "cell_type": "markdown",
   "id": "94c648b7",
   "metadata": {},
   "source": [
    "Number of inpatient visits:"
   ]
  },
  {
   "cell_type": "code",
   "execution_count": 5,
   "id": "afd5c2d5",
   "metadata": {},
   "outputs": [
    {
     "data": {
      "image/png": "[encoded data removed]",
      "text/plain": [
       "<Figure size 360x288 with 1 Axes>"
      ]
     },
     "metadata": {
      "needs_background": "light"
     },
     "output_type": "display_data"
    }
   ],
   "source": [
    "plt.figure(figsize = (5, 4))\n",
    "\n",
    "df_training_['number_inpatient'].plot(kind = 'hist', density = True, label = 'Training Data', bins = 20)\n",
    "df_fr_['number_inpatient'].plot(kind = 'hist', density = True, label = 'New Data', alpha = .7, bins = 20)\n",
    "\n",
    "#plt.xlim([-0.3, 1.3])\n",
    "\n",
    "plt.ylabel('Frequency (%)')\n",
    "plt.xlabel('Number of inpatient visits')\n",
    "\n",
    "plt.legend()\n",
    "plt.show()"
   ]
  },
  {
   "cell_type": "code",
   "execution_count": 6,
   "id": "3688f2bc",
   "metadata": {},
   "outputs": [
    {
     "data": {
      "text/plain": [
       "readmitted\n",
       "No     0.563948\n",
       "Yes    1.226631\n",
       "Name: number_inpatient, dtype: float64"
      ]
     },
     "execution_count": 6,
     "metadata": {},
     "output_type": "execute_result"
    }
   ],
   "source": [
    "df_training_.groupby('readmitted').mean()['number_inpatient']"
   ]
  },
  {
   "cell_type": "code",
   "execution_count": 7,
   "id": "b8e8ed27",
   "metadata": {},
   "outputs": [
    {
     "data": {
      "text/plain": [
       "actual_readmitted\n",
       "No     0.551876\n",
       "Yes    1.207635\n",
       "Name: number_inpatient, dtype: float64"
      ]
     },
     "execution_count": 7,
     "metadata": {},
     "output_type": "execute_result"
    }
   ],
   "source": [
    "df_fr_.groupby('actual_readmitted').mean()['number_inpatient']"
   ]
  },
  {
   "cell_type": "markdown",
   "id": "71afeae6",
   "metadata": {},
   "source": [
    "Number of medications:"
   ]
  },
  {
   "cell_type": "code",
   "execution_count": 8,
   "id": "aaf986cd",
   "metadata": {},
   "outputs": [
    {
     "data": {
      "image/png": "[encoded data removed]",
      "text/plain": [
       "<Figure size 360x288 with 1 Axes>"
      ]
     },
     "metadata": {
      "needs_background": "light"
     },
     "output_type": "display_data"
    }
   ],
   "source": [
    "plt.figure(figsize = (5, 4))\n",
    "\n",
    "df_training_['num_medications'].plot(kind = 'hist', density = True, label = 'Training Data')\n",
    "df_fr_['num_medications'].plot(kind = 'hist', density = True, label = 'New Data', alpha = .7)\n",
    "\n",
    "#plt.xlim([-0.3, 1.3])\n",
    "\n",
    "plt.ylabel('Frequency (%)')\n",
    "plt.xlabel('Number of medications')\n",
    "\n",
    "plt.legend()\n",
    "plt.show()"
   ]
  },
  {
   "cell_type": "markdown",
   "id": "e77b3206",
   "metadata": {},
   "source": [
    "Number of lab procedures:"
   ]
  },
  {
   "cell_type": "code",
   "execution_count": 9,
   "id": "60a4febb",
   "metadata": {},
   "outputs": [
    {
     "data": {
      "image/png": "[encoded data removed]",
      "text/plain": [
       "<Figure size 360x288 with 1 Axes>"
      ]
     },
     "metadata": {
      "needs_background": "light"
     },
     "output_type": "display_data"
    }
   ],
   "source": [
    "plt.figure(figsize = (5, 4))\n",
    "\n",
    "df_training_['num_lab_procedures'].plot(kind = 'hist', density = True, label = 'Training Data')\n",
    "df_fr_['num_lab_procedures'].plot(kind = 'hist', density = True, label = 'New Data', alpha = .7)\n",
    "\n",
    "#plt.xlim([-0.3, 1.3])\n",
    "\n",
    "plt.ylabel('Frequency (%)')\n",
    "plt.xlabel('Number of lab procedures')\n",
    "\n",
    "plt.legend()\n",
    "plt.show()"
   ]
  },
  {
   "cell_type": "code",
   "execution_count": 10,
   "id": "3d00b5c6",
   "metadata": {},
   "outputs": [
    {
     "data": {
      "text/plain": [
       "readmitted\n",
       "No     42.937934\n",
       "Yes    44.132713\n",
       "Name: num_lab_procedures, dtype: float64"
      ]
     },
     "execution_count": 10,
     "metadata": {},
     "output_type": "execute_result"
    }
   ],
   "source": [
    "df_training_.groupby('readmitted').mean()['num_lab_procedures']"
   ]
  },
  {
   "cell_type": "code",
   "execution_count": 11,
   "id": "aa5b1b72",
   "metadata": {},
   "outputs": [
    {
     "data": {
      "text/plain": [
       "actual_readmitted\n",
       "No     42.702673\n",
       "Yes    44.517569\n",
       "Name: num_lab_procedures, dtype: float64"
      ]
     },
     "execution_count": 11,
     "metadata": {},
     "output_type": "execute_result"
    }
   ],
   "source": [
    "df_fr_.groupby('actual_readmitted').mean()['num_lab_procedures']"
   ]
  },
  {
   "cell_type": "markdown",
   "id": "a25d72bb",
   "metadata": {},
   "source": [
    "Age:"
   ]
  },
  {
   "cell_type": "code",
   "execution_count": 12,
   "id": "eec3f306",
   "metadata": {},
   "outputs": [
    {
     "data": {
      "image/png": "[encoded data removed]",
      "text/plain": [
       "<Figure size 360x288 with 1 Axes>"
      ]
     },
     "metadata": {
      "needs_background": "light"
     },
     "output_type": "display_data"
    }
   ],
   "source": [
    "plt.figure(figsize = (5, 4))\n",
    "\n",
    "df_training_['age'].value_counts(normalize = True).sort_index().plot(kind = 'bar', \n",
    "                                                               align ='edge', \n",
    "                                                               width = -0.2, \n",
    "                                                               label = 'Training Data')\n",
    "\n",
    "df_fr_['age'].value_counts(normalize = True).sort_index().plot(kind = 'bar', \n",
    "                                                                align ='edge', \n",
    "                                                                width = 0.2, \n",
    "                                                                label = 'New Data',\n",
    "                                                                color = 'C1')\n",
    "\n",
    "#plt.xlim([-0.3, 1.3])\n",
    "\n",
    "plt.ylabel('Frequency (%)')\n",
    "plt.xlabel('Age')\n",
    "\n",
    "plt.legend()\n",
    "plt.show()"
   ]
  },
  {
   "cell_type": "markdown",
   "id": "6595b6f7",
   "metadata": {},
   "source": [
    "Discharge disposition code:"
   ]
  },
  {
   "cell_type": "code",
   "execution_count": 13,
   "id": "dc65c8ac",
   "metadata": {},
   "outputs": [
    {
     "data": {
      "image/png": "[encoded data removed]",
      "text/plain": [
       "<Figure size 360x288 with 1 Axes>"
      ]
     },
     "metadata": {
      "needs_background": "light"
     },
     "output_type": "display_data"
    }
   ],
   "source": [
    "plt.figure(figsize = (5, 4))\n",
    "\n",
    "df_training_['discharge_disposition_code'].value_counts(normalize = True).sort_values(ascending = False)[:16].plot(kind = 'bar', \n",
    "                                                               align ='edge', \n",
    "                                                               width = -0.2, \n",
    "                                                               label = 'Training Data')\n",
    "\n",
    "df_fr_['discharge_disposition_code'].value_counts(normalize = True).sort_values(ascending = False)[:16].plot(kind = 'bar', \n",
    "                                                                align ='edge', \n",
    "                                                                width = 0.2, \n",
    "                                                                label = 'New Data',\n",
    "                                                                color = 'C1')\n",
    "\n",
    "#plt.xlim([-0.3, 1.3])\n",
    "\n",
    "plt.ylabel('Frequency (%)')\n",
    "plt.xlabel('Age')\n",
    "\n",
    "plt.legend()\n",
    "plt.show()"
   ]
  },
  {
   "cell_type": "code",
   "execution_count": 14,
   "id": "2175d723",
   "metadata": {},
   "outputs": [
    {
     "name": "stdout",
     "output_type": "stream",
     "text": [
      "[nan]\n"
     ]
    }
   ],
   "source": [
    "old_disposition_codes = df_training_['discharge_disposition_code'].unique()\n",
    "new_disposition_codes = df_fr_['discharge_disposition_code'].unique()\n",
    "\n",
    "unknown_disposition_codes = [code for code in new_disposition_codes if code not in old_disposition_codes]\n",
    "\n",
    "print(unknown_disposition_codes)"
   ]
  },
  {
   "cell_type": "markdown",
   "id": "ca5e0e18",
   "metadata": {},
   "source": [
    "There are no unknown disposition codes."
   ]
  },
  {
   "cell_type": "code",
   "execution_count": 15,
   "id": "12a7b512",
   "metadata": {},
   "outputs": [],
   "source": [
    "discarge_disposition_code_map = { '1.0' : '1.0',\n",
    "                     '2.0' : '3.0',\n",
    "                     '3.0' : '3.0',\n",
    "                     '4.0' : '3.0',\n",
    "                     '5.0' : '3.0',\n",
    "                     '6.0' : '1.0',\n",
    "                     '7.0' : '7.0',\n",
    "                     '8.0' : '1.0',\n",
    "                     '9.0' : '9.0',\n",
    "                     '10.0' : '3.0',\n",
    "                     '11.0' : '11.0',\n",
    "                     '12.0' : '12.0',\n",
    "                     '13.0' : '1.0',\n",
    "                     '14.0' : '3.0',\n",
    "                     '15.0' : '15.0',\n",
    "                     '16.0' : '16.0',\n",
    "                     '17.0' : '17.0',\n",
    "                     '18.0' : '18.0',\n",
    "                     '19.0' : '19.0',\n",
    "                     '20.0' : '20.0',\n",
    "                     '21.0' : '21.0',\n",
    "                     '22.0' : '22.0',\n",
    "                     '23.0' : '3.0',\n",
    "                     '24.0' : '3.0',\n",
    "                     '25.0' : '18.0',\n",
    "                     '26.0' : '18.0',\n",
    "                     '27.0' : '3.0',\n",
    "                     '28.0' : '3.0',\n",
    "                     '29.0' : '3.0',\n",
    "                     '30.0' : '3.0' }\n",
    "\n",
    "df_training_['discharge_disposition_code'] = df_training_['discharge_disposition_code'].apply(float).apply(str)\n",
    "df_fr_['discharge_disposition_code'] = df_fr_['discharge_disposition_code'].apply(float).apply(str)\n",
    "\n",
    "df_training_['discharge_disposition_code'] = df_training_['discharge_disposition_code'].replace(discarge_disposition_code_map)\n",
    "df_fr_['discharge_disposition_code'] = df_fr_['discharge_disposition_code'].replace(discarge_disposition_code_map)"
   ]
  },
  {
   "cell_type": "code",
   "execution_count": 16,
   "id": "3b1df048",
   "metadata": {},
   "outputs": [
    {
     "data": {
      "text/html": [
       "<div>\n",
       "<style scoped>\n",
       "    .dataframe tbody tr th:only-of-type {\n",
       "        vertical-align: middle;\n",
       "    }\n",
       "\n",
       "    .dataframe tbody tr th {\n",
       "        vertical-align: top;\n",
       "    }\n",
       "\n",
       "    .dataframe thead th {\n",
       "        text-align: right;\n",
       "    }\n",
       "</style>\n",
       "<table border=\"1\" class=\"dataframe\">\n",
       "  <thead>\n",
       "    <tr style=\"text-align: right;\">\n",
       "      <th>discharge_disposition_code</th>\n",
       "      <th>1.0</th>\n",
       "      <th>15.0</th>\n",
       "      <th>17.0</th>\n",
       "      <th>18.0</th>\n",
       "      <th>22.0</th>\n",
       "      <th>3.0</th>\n",
       "      <th>7.0</th>\n",
       "      <th>9.0</th>\n",
       "      <th>nan</th>\n",
       "    </tr>\n",
       "    <tr>\n",
       "      <th>actual_readmitted</th>\n",
       "      <th></th>\n",
       "      <th></th>\n",
       "      <th></th>\n",
       "      <th></th>\n",
       "      <th></th>\n",
       "      <th></th>\n",
       "      <th></th>\n",
       "      <th></th>\n",
       "      <th></th>\n",
       "    </tr>\n",
       "  </thead>\n",
       "  <tbody>\n",
       "    <tr>\n",
       "      <th>No</th>\n",
       "      <td>0.898655</td>\n",
       "      <td>0.75</td>\n",
       "      <td>1.0</td>\n",
       "      <td>0.905376</td>\n",
       "      <td>0.677966</td>\n",
       "      <td>0.861019</td>\n",
       "      <td>0.836364</td>\n",
       "      <td>0.0</td>\n",
       "      <td>0.871429</td>\n",
       "    </tr>\n",
       "    <tr>\n",
       "      <th>Yes</th>\n",
       "      <td>0.101345</td>\n",
       "      <td>0.25</td>\n",
       "      <td>0.0</td>\n",
       "      <td>0.094624</td>\n",
       "      <td>0.322034</td>\n",
       "      <td>0.138981</td>\n",
       "      <td>0.163636</td>\n",
       "      <td>1.0</td>\n",
       "      <td>0.128571</td>\n",
       "    </tr>\n",
       "  </tbody>\n",
       "</table>\n",
       "</div>"
      ],
      "text/plain": [
       "discharge_disposition_code       1.0  15.0  17.0      18.0      22.0  \\\n",
       "actual_readmitted                                                      \n",
       "No                          0.898655  0.75   1.0  0.905376  0.677966   \n",
       "Yes                         0.101345  0.25   0.0  0.094624  0.322034   \n",
       "\n",
       "discharge_disposition_code       3.0       7.0  9.0       nan  \n",
       "actual_readmitted                                              \n",
       "No                          0.861019  0.836364  0.0  0.871429  \n",
       "Yes                         0.138981  0.163636  1.0  0.128571  "
      ]
     },
     "execution_count": 16,
     "metadata": {},
     "output_type": "execute_result"
    }
   ],
   "source": [
    "disposition_codes_common = df_training_['discharge_disposition_code'].value_counts().head(10).index\n",
    "\n",
    "disposition_codes_old = df_training_[df_training_['discharge_disposition_code'].isin(disposition_codes_common)]\n",
    "disposition_codes_new = df_fr_[df_fr_['discharge_disposition_code'].isin(disposition_codes_common)]\n",
    "\n",
    "pd.crosstab(disposition_codes_new['actual_readmitted'], disposition_codes_new['discharge_disposition_code'], normalize=\"columns\")"
   ]
  },
  {
   "cell_type": "code",
   "execution_count": 17,
   "id": "2c3b06db",
   "metadata": {},
   "outputs": [
    {
     "data": {
      "text/html": [
       "<div>\n",
       "<style scoped>\n",
       "    .dataframe tbody tr th:only-of-type {\n",
       "        vertical-align: middle;\n",
       "    }\n",
       "\n",
       "    .dataframe tbody tr th {\n",
       "        vertical-align: top;\n",
       "    }\n",
       "\n",
       "    .dataframe thead th {\n",
       "        text-align: right;\n",
       "    }\n",
       "</style>\n",
       "<table border=\"1\" class=\"dataframe\">\n",
       "  <thead>\n",
       "    <tr style=\"text-align: right;\">\n",
       "      <th>discharge_disposition_code</th>\n",
       "      <th>1.0</th>\n",
       "      <th>11.0</th>\n",
       "      <th>15.0</th>\n",
       "      <th>17.0</th>\n",
       "      <th>18.0</th>\n",
       "      <th>22.0</th>\n",
       "      <th>3.0</th>\n",
       "      <th>7.0</th>\n",
       "      <th>9.0</th>\n",
       "      <th>nan</th>\n",
       "    </tr>\n",
       "    <tr>\n",
       "      <th>readmitted</th>\n",
       "      <th></th>\n",
       "      <th></th>\n",
       "      <th></th>\n",
       "      <th></th>\n",
       "      <th></th>\n",
       "      <th></th>\n",
       "      <th></th>\n",
       "      <th></th>\n",
       "      <th></th>\n",
       "      <th></th>\n",
       "    </tr>\n",
       "  </thead>\n",
       "  <tbody>\n",
       "    <tr>\n",
       "      <th>No</th>\n",
       "      <td>0.901653</td>\n",
       "      <td>1.0</td>\n",
       "      <td>0.509804</td>\n",
       "      <td>1.0</td>\n",
       "      <td>0.880972</td>\n",
       "      <td>0.733544</td>\n",
       "      <td>0.849201</td>\n",
       "      <td>0.865613</td>\n",
       "      <td>0.611111</td>\n",
       "      <td>0.873905</td>\n",
       "    </tr>\n",
       "    <tr>\n",
       "      <th>Yes</th>\n",
       "      <td>0.098347</td>\n",
       "      <td>0.0</td>\n",
       "      <td>0.490196</td>\n",
       "      <td>0.0</td>\n",
       "      <td>0.119028</td>\n",
       "      <td>0.266456</td>\n",
       "      <td>0.150799</td>\n",
       "      <td>0.134387</td>\n",
       "      <td>0.388889</td>\n",
       "      <td>0.126095</td>\n",
       "    </tr>\n",
       "  </tbody>\n",
       "</table>\n",
       "</div>"
      ],
      "text/plain": [
       "discharge_disposition_code       1.0  11.0      15.0  17.0      18.0  \\\n",
       "readmitted                                                             \n",
       "No                          0.901653   1.0  0.509804   1.0  0.880972   \n",
       "Yes                         0.098347   0.0  0.490196   0.0  0.119028   \n",
       "\n",
       "discharge_disposition_code      22.0       3.0       7.0       9.0       nan  \n",
       "readmitted                                                                    \n",
       "No                          0.733544  0.849201  0.865613  0.611111  0.873905  \n",
       "Yes                         0.266456  0.150799  0.134387  0.388889  0.126095  "
      ]
     },
     "execution_count": 17,
     "metadata": {},
     "output_type": "execute_result"
    }
   ],
   "source": [
    "pd.crosstab(disposition_codes_old['readmitted'], disposition_codes_old['discharge_disposition_code'], normalize=\"columns\")"
   ]
  },
  {
   "cell_type": "markdown",
   "id": "4ff008bc",
   "metadata": {},
   "source": [
    "Medical specialties:"
   ]
  },
  {
   "cell_type": "code",
   "execution_count": 18,
   "id": "90a09246",
   "metadata": {},
   "outputs": [
    {
     "name": "stdout",
     "output_type": "stream",
     "text": [
      "[nan, 'Surgery-PlasticwithinHeadandNeck']\n"
     ]
    }
   ],
   "source": [
    "old_specialties = df_training_['medical_specialty'].unique()\n",
    "new_specialties = df_fr_['medical_specialty'].unique()\n",
    "\n",
    "unknown_specialties = [s for s in new_specialties if s not in old_specialties]\n",
    "\n",
    "print(unknown_specialties)"
   ]
  },
  {
   "cell_type": "code",
   "execution_count": 19,
   "id": "ba7b32ce",
   "metadata": {},
   "outputs": [
    {
     "data": {
      "text/html": [
       "<div>\n",
       "<style scoped>\n",
       "    .dataframe tbody tr th:only-of-type {\n",
       "        vertical-align: middle;\n",
       "    }\n",
       "\n",
       "    .dataframe tbody tr th {\n",
       "        vertical-align: top;\n",
       "    }\n",
       "\n",
       "    .dataframe thead th {\n",
       "        text-align: right;\n",
       "    }\n",
       "</style>\n",
       "<table border=\"1\" class=\"dataframe\">\n",
       "  <thead>\n",
       "    <tr style=\"text-align: right;\">\n",
       "      <th></th>\n",
       "      <th>id</th>\n",
       "      <th>index</th>\n",
       "      <th>admission_id</th>\n",
       "      <th>patient_id</th>\n",
       "      <th>race</th>\n",
       "      <th>gender</th>\n",
       "      <th>age</th>\n",
       "      <th>weight</th>\n",
       "      <th>admission_type_code</th>\n",
       "      <th>discharge_disposition_code</th>\n",
       "      <th>...</th>\n",
       "      <th>blood_transfusion</th>\n",
       "      <th>max_glu_serum</th>\n",
       "      <th>A1Cresult</th>\n",
       "      <th>diuretics</th>\n",
       "      <th>insulin</th>\n",
       "      <th>change</th>\n",
       "      <th>diabetesMed</th>\n",
       "      <th>probability</th>\n",
       "      <th>predicted_readmitted</th>\n",
       "      <th>actual_readmitted</th>\n",
       "    </tr>\n",
       "  </thead>\n",
       "  <tbody>\n",
       "    <tr>\n",
       "      <th>2101</th>\n",
       "      <td>2234</td>\n",
       "      <td>NaN</td>\n",
       "      <td>88332.0</td>\n",
       "      <td>115864256.0</td>\n",
       "      <td>European</td>\n",
       "      <td>Male</td>\n",
       "      <td>[40-50)</td>\n",
       "      <td>NaN</td>\n",
       "      <td>6.0</td>\n",
       "      <td>1.0</td>\n",
       "      <td>...</td>\n",
       "      <td>False</td>\n",
       "      <td>NONE</td>\n",
       "      <td>None</td>\n",
       "      <td>No</td>\n",
       "      <td>No</td>\n",
       "      <td>No</td>\n",
       "      <td>Yes</td>\n",
       "      <td>0.350299</td>\n",
       "      <td>No</td>\n",
       "      <td>No</td>\n",
       "    </tr>\n",
       "  </tbody>\n",
       "</table>\n",
       "<p>1 rows × 38 columns</p>\n",
       "</div>"
      ],
      "text/plain": [
       "        id  index  admission_id   patient_id      race gender      age weight  \\\n",
       "2101  2234    NaN       88332.0  115864256.0  European   Male  [40-50)    NaN   \n",
       "\n",
       "      admission_type_code discharge_disposition_code  ...  blood_transfusion  \\\n",
       "2101                  6.0                        1.0  ...              False   \n",
       "\n",
       "      max_glu_serum A1Cresult diuretics  insulin change  diabetesMed  \\\n",
       "2101           NONE      None        No       No     No          Yes   \n",
       "\n",
       "      probability  predicted_readmitted  actual_readmitted  \n",
       "2101     0.350299                    No                 No  \n",
       "\n",
       "[1 rows x 38 columns]"
      ]
     },
     "execution_count": 19,
     "metadata": {},
     "output_type": "execute_result"
    }
   ],
   "source": [
    "df_fr_[df_fr_['medical_specialty'] == 'Surgery-PlasticwithinHeadandNeck']"
   ]
  },
  {
   "cell_type": "code",
   "execution_count": 20,
   "id": "e924c290",
   "metadata": {},
   "outputs": [
    {
     "data": {
      "text/html": [
       "<div>\n",
       "<style scoped>\n",
       "    .dataframe tbody tr th:only-of-type {\n",
       "        vertical-align: middle;\n",
       "    }\n",
       "\n",
       "    .dataframe tbody tr th {\n",
       "        vertical-align: top;\n",
       "    }\n",
       "\n",
       "    .dataframe thead th {\n",
       "        text-align: right;\n",
       "    }\n",
       "</style>\n",
       "<table border=\"1\" class=\"dataframe\">\n",
       "  <thead>\n",
       "    <tr style=\"text-align: right;\">\n",
       "      <th>medical_specialty</th>\n",
       "      <th>Cardiology</th>\n",
       "      <th>Emergency/Trauma</th>\n",
       "      <th>Family/GeneralPractice</th>\n",
       "      <th>Gastroenterology</th>\n",
       "      <th>InternalMedicine</th>\n",
       "      <th>Nephrology</th>\n",
       "      <th>ObstetricsandGynecology</th>\n",
       "      <th>Oncology</th>\n",
       "      <th>Orthopedics</th>\n",
       "      <th>Orthopedics-Reconstructive</th>\n",
       "      <th>Pediatrics</th>\n",
       "      <th>PhysicalMedicineandRehabilitation</th>\n",
       "      <th>Psychiatry</th>\n",
       "      <th>Pulmonology</th>\n",
       "      <th>Radiologist</th>\n",
       "      <th>Surgery-Cardiovascular/Thoracic</th>\n",
       "      <th>Surgery-General</th>\n",
       "      <th>Surgery-Neuro</th>\n",
       "      <th>Surgery-Vascular</th>\n",
       "      <th>Urology</th>\n",
       "    </tr>\n",
       "    <tr>\n",
       "      <th>actual_readmitted</th>\n",
       "      <th></th>\n",
       "      <th></th>\n",
       "      <th></th>\n",
       "      <th></th>\n",
       "      <th></th>\n",
       "      <th></th>\n",
       "      <th></th>\n",
       "      <th></th>\n",
       "      <th></th>\n",
       "      <th></th>\n",
       "      <th></th>\n",
       "      <th></th>\n",
       "      <th></th>\n",
       "      <th></th>\n",
       "      <th></th>\n",
       "      <th></th>\n",
       "      <th></th>\n",
       "      <th></th>\n",
       "      <th></th>\n",
       "      <th></th>\n",
       "    </tr>\n",
       "  </thead>\n",
       "  <tbody>\n",
       "    <tr>\n",
       "      <th>No</th>\n",
       "      <td>0.912</td>\n",
       "      <td>0.88172</td>\n",
       "      <td>0.875</td>\n",
       "      <td>0.925926</td>\n",
       "      <td>0.875094</td>\n",
       "      <td>0.825</td>\n",
       "      <td>0.95</td>\n",
       "      <td>0.727273</td>\n",
       "      <td>0.928058</td>\n",
       "      <td>0.931298</td>\n",
       "      <td>1.0</td>\n",
       "      <td>0.863636</td>\n",
       "      <td>0.827586</td>\n",
       "      <td>0.902439</td>\n",
       "      <td>0.903226</td>\n",
       "      <td>0.96875</td>\n",
       "      <td>0.871972</td>\n",
       "      <td>0.979592</td>\n",
       "      <td>0.895833</td>\n",
       "      <td>0.917808</td>\n",
       "    </tr>\n",
       "    <tr>\n",
       "      <th>Yes</th>\n",
       "      <td>0.088</td>\n",
       "      <td>0.11828</td>\n",
       "      <td>0.125</td>\n",
       "      <td>0.074074</td>\n",
       "      <td>0.124906</td>\n",
       "      <td>0.175</td>\n",
       "      <td>0.05</td>\n",
       "      <td>0.272727</td>\n",
       "      <td>0.071942</td>\n",
       "      <td>0.068702</td>\n",
       "      <td>0.0</td>\n",
       "      <td>0.136364</td>\n",
       "      <td>0.172414</td>\n",
       "      <td>0.097561</td>\n",
       "      <td>0.096774</td>\n",
       "      <td>0.03125</td>\n",
       "      <td>0.128028</td>\n",
       "      <td>0.020408</td>\n",
       "      <td>0.104167</td>\n",
       "      <td>0.082192</td>\n",
       "    </tr>\n",
       "  </tbody>\n",
       "</table>\n",
       "</div>"
      ],
      "text/plain": [
       "medical_specialty  Cardiology  Emergency/Trauma  Family/GeneralPractice  \\\n",
       "actual_readmitted                                                         \n",
       "No                      0.912           0.88172                   0.875   \n",
       "Yes                     0.088           0.11828                   0.125   \n",
       "\n",
       "medical_specialty  Gastroenterology  InternalMedicine  Nephrology  \\\n",
       "actual_readmitted                                                   \n",
       "No                         0.925926          0.875094       0.825   \n",
       "Yes                        0.074074          0.124906       0.175   \n",
       "\n",
       "medical_specialty  ObstetricsandGynecology  Oncology  Orthopedics  \\\n",
       "actual_readmitted                                                   \n",
       "No                                    0.95  0.727273     0.928058   \n",
       "Yes                                   0.05  0.272727     0.071942   \n",
       "\n",
       "medical_specialty  Orthopedics-Reconstructive  Pediatrics  \\\n",
       "actual_readmitted                                           \n",
       "No                                   0.931298         1.0   \n",
       "Yes                                  0.068702         0.0   \n",
       "\n",
       "medical_specialty  PhysicalMedicineandRehabilitation  Psychiatry  Pulmonology  \\\n",
       "actual_readmitted                                                               \n",
       "No                                          0.863636    0.827586     0.902439   \n",
       "Yes                                         0.136364    0.172414     0.097561   \n",
       "\n",
       "medical_specialty  Radiologist  Surgery-Cardiovascular/Thoracic  \\\n",
       "actual_readmitted                                                 \n",
       "No                    0.903226                          0.96875   \n",
       "Yes                   0.096774                          0.03125   \n",
       "\n",
       "medical_specialty  Surgery-General  Surgery-Neuro  Surgery-Vascular   Urology  \n",
       "actual_readmitted                                                              \n",
       "No                        0.871972       0.979592          0.895833  0.917808  \n",
       "Yes                       0.128028       0.020408          0.104167  0.082192  "
      ]
     },
     "execution_count": 20,
     "metadata": {},
     "output_type": "execute_result"
    }
   ],
   "source": [
    "specialties_common = df_training_['medical_specialty'].value_counts().head(20).index\n",
    "\n",
    "specialties_old = df_training_[df_training_['medical_specialty'].isin(specialties_common)]\n",
    "specialties_new = df_fr_[df_fr_['medical_specialty'].isin(specialties_common)]\n",
    "\n",
    "pd.crosstab(specialties_new['actual_readmitted'], specialties_new['medical_specialty'], normalize=\"columns\")"
   ]
  },
  {
   "cell_type": "code",
   "execution_count": 21,
   "id": "14cc4ea0",
   "metadata": {},
   "outputs": [
    {
     "data": {
      "text/html": [
       "<div>\n",
       "<style scoped>\n",
       "    .dataframe tbody tr th:only-of-type {\n",
       "        vertical-align: middle;\n",
       "    }\n",
       "\n",
       "    .dataframe tbody tr th {\n",
       "        vertical-align: top;\n",
       "    }\n",
       "\n",
       "    .dataframe thead th {\n",
       "        text-align: right;\n",
       "    }\n",
       "</style>\n",
       "<table border=\"1\" class=\"dataframe\">\n",
       "  <thead>\n",
       "    <tr style=\"text-align: right;\">\n",
       "      <th>medical_specialty</th>\n",
       "      <th>Cardiology</th>\n",
       "      <th>Emergency/Trauma</th>\n",
       "      <th>Family/GeneralPractice</th>\n",
       "      <th>Gastroenterology</th>\n",
       "      <th>InternalMedicine</th>\n",
       "      <th>Nephrology</th>\n",
       "      <th>ObstetricsandGynecology</th>\n",
       "      <th>Oncology</th>\n",
       "      <th>Orthopedics</th>\n",
       "      <th>Orthopedics-Reconstructive</th>\n",
       "      <th>Pediatrics</th>\n",
       "      <th>PhysicalMedicineandRehabilitation</th>\n",
       "      <th>Psychiatry</th>\n",
       "      <th>Pulmonology</th>\n",
       "      <th>Radiologist</th>\n",
       "      <th>Surgery-Cardiovascular/Thoracic</th>\n",
       "      <th>Surgery-General</th>\n",
       "      <th>Surgery-Neuro</th>\n",
       "      <th>Surgery-Vascular</th>\n",
       "      <th>Urology</th>\n",
       "    </tr>\n",
       "    <tr>\n",
       "      <th>readmitted</th>\n",
       "      <th></th>\n",
       "      <th></th>\n",
       "      <th></th>\n",
       "      <th></th>\n",
       "      <th></th>\n",
       "      <th></th>\n",
       "      <th></th>\n",
       "      <th></th>\n",
       "      <th></th>\n",
       "      <th></th>\n",
       "      <th></th>\n",
       "      <th></th>\n",
       "      <th></th>\n",
       "      <th></th>\n",
       "      <th></th>\n",
       "      <th></th>\n",
       "      <th></th>\n",
       "      <th></th>\n",
       "      <th></th>\n",
       "      <th></th>\n",
       "    </tr>\n",
       "  </thead>\n",
       "  <tbody>\n",
       "    <tr>\n",
       "      <th>No</th>\n",
       "      <td>0.920665</td>\n",
       "      <td>0.888889</td>\n",
       "      <td>0.883482</td>\n",
       "      <td>0.88172</td>\n",
       "      <td>0.889771</td>\n",
       "      <td>0.842186</td>\n",
       "      <td>0.949153</td>\n",
       "      <td>0.810714</td>\n",
       "      <td>0.894545</td>\n",
       "      <td>0.923547</td>\n",
       "      <td>0.933649</td>\n",
       "      <td>0.852349</td>\n",
       "      <td>0.885757</td>\n",
       "      <td>0.895714</td>\n",
       "      <td>0.907996</td>\n",
       "      <td>0.929791</td>\n",
       "      <td>0.893651</td>\n",
       "      <td>0.924933</td>\n",
       "      <td>0.849315</td>\n",
       "      <td>0.897959</td>\n",
       "    </tr>\n",
       "    <tr>\n",
       "      <th>Yes</th>\n",
       "      <td>0.079335</td>\n",
       "      <td>0.111111</td>\n",
       "      <td>0.116518</td>\n",
       "      <td>0.11828</td>\n",
       "      <td>0.110229</td>\n",
       "      <td>0.157814</td>\n",
       "      <td>0.050847</td>\n",
       "      <td>0.189286</td>\n",
       "      <td>0.105455</td>\n",
       "      <td>0.076453</td>\n",
       "      <td>0.066351</td>\n",
       "      <td>0.147651</td>\n",
       "      <td>0.114243</td>\n",
       "      <td>0.104286</td>\n",
       "      <td>0.092004</td>\n",
       "      <td>0.070209</td>\n",
       "      <td>0.106349</td>\n",
       "      <td>0.075067</td>\n",
       "      <td>0.150685</td>\n",
       "      <td>0.102041</td>\n",
       "    </tr>\n",
       "  </tbody>\n",
       "</table>\n",
       "</div>"
      ],
      "text/plain": [
       "medical_specialty  Cardiology  Emergency/Trauma  Family/GeneralPractice  \\\n",
       "readmitted                                                                \n",
       "No                   0.920665          0.888889                0.883482   \n",
       "Yes                  0.079335          0.111111                0.116518   \n",
       "\n",
       "medical_specialty  Gastroenterology  InternalMedicine  Nephrology  \\\n",
       "readmitted                                                          \n",
       "No                          0.88172          0.889771    0.842186   \n",
       "Yes                         0.11828          0.110229    0.157814   \n",
       "\n",
       "medical_specialty  ObstetricsandGynecology  Oncology  Orthopedics  \\\n",
       "readmitted                                                          \n",
       "No                                0.949153  0.810714     0.894545   \n",
       "Yes                               0.050847  0.189286     0.105455   \n",
       "\n",
       "medical_specialty  Orthopedics-Reconstructive  Pediatrics  \\\n",
       "readmitted                                                  \n",
       "No                                   0.923547    0.933649   \n",
       "Yes                                  0.076453    0.066351   \n",
       "\n",
       "medical_specialty  PhysicalMedicineandRehabilitation  Psychiatry  Pulmonology  \\\n",
       "readmitted                                                                      \n",
       "No                                          0.852349    0.885757     0.895714   \n",
       "Yes                                         0.147651    0.114243     0.104286   \n",
       "\n",
       "medical_specialty  Radiologist  Surgery-Cardiovascular/Thoracic  \\\n",
       "readmitted                                                        \n",
       "No                    0.907996                         0.929791   \n",
       "Yes                   0.092004                         0.070209   \n",
       "\n",
       "medical_specialty  Surgery-General  Surgery-Neuro  Surgery-Vascular   Urology  \n",
       "readmitted                                                                     \n",
       "No                        0.893651       0.924933          0.849315  0.897959  \n",
       "Yes                       0.106349       0.075067          0.150685  0.102041  "
      ]
     },
     "execution_count": 21,
     "metadata": {},
     "output_type": "execute_result"
    }
   ],
   "source": [
    "pd.crosstab(specialties_old['readmitted'], specialties_old['medical_specialty'], normalize=\"columns\")"
   ]
  }
 ],
 "metadata": {
  "kernelspec": {
   "display_name": "Python 3 (ipykernel)",
   "language": "python",
   "name": "python3"
  },
  "language_info": {
   "codemirror_mode": {
    "name": "ipython",
    "version": 3
   },
   "file_extension": ".py",
   "mimetype": "text/x-python",
   "name": "python",
   "nbconvert_exporter": "python",
   "pygments_lexer": "ipython3",
   "version": "3.7.12"
  }
 },
 "nbformat": 4,
 "nbformat_minor": 5
}
