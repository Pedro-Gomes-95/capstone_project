{
 "cells": [
  {
   "cell_type": "markdown",
   "id": "7c3b6b6e",
   "metadata": {},
   "source": [
    "# Feature Engineering & Model"
   ]
  },
  {
   "cell_type": "markdown",
   "id": "04efce00",
   "metadata": {},
   "source": [
    "Import the necessary packages:"
   ]
  },
  {
   "cell_type": "code",
   "execution_count": 22,
   "id": "8630a9e5",
   "metadata": {},
   "outputs": [],
   "source": [
    "import re\n",
    "import pickle\n",
    "import pandas as pd\n",
    "import numpy as np\n",
    "\n",
    "# Plotting\n",
    "import seaborn as sns\n",
    "import matplotlib.pyplot as plt\n",
    "\n",
    "# Scaling\n",
    "from sklearn.preprocessing import StandardScaler\n",
    "\n",
    "# Train-test split and Grid Search\n",
    "from sklearn.model_selection import train_test_split, GridSearchCV\n",
    "\n",
    "from sklearn.compose import ColumnTransformer\n",
    "from sklearn.impute import SimpleImputer\n",
    "from sklearn.pipeline import make_pipeline, Pipeline\n",
    "from sklearn.base import BaseEstimator, TransformerMixin\n",
    "from sklearn.inspection import plot_partial_dependence\n",
    "\n",
    "# Feature Engine\n",
    "from feature_engine.selection import DropFeatures\n",
    "from feature_engine.imputation import CategoricalImputer, MeanMedianImputer, ArbitraryNumberImputer\n",
    "from feature_engine.encoding import OneHotEncoder, RareLabelEncoder\n",
    "\n",
    "# Classifiers\n",
    "from sklearn.linear_model import LogisticRegression\n",
    "from sklearn.tree import DecisionTreeClassifier\n",
    "from sklearn.ensemble import RandomForestClassifier, GradientBoostingClassifier\n",
    "from xgboost import XGBClassifier\n",
    "\n",
    "# SMOTE\n",
    "from imblearn.over_sampling import SMOTE\n",
    "\n",
    "# Metrics\n",
    "from sklearn.metrics import ( accuracy_score, precision_score, recall_score, roc_auc_score, roc_curve,\n",
    "                              f1_score, classification_report, precision_recall_curve,\n",
    "                              confusion_matrix )\n",
    "\n",
    "# Feature Selection\n",
    "from mlxtend.feature_selection import SequentialFeatureSelector as SFS\n",
    "\n",
    "# Utils\n",
    "from utils import *"
   ]
  },
  {
   "cell_type": "markdown",
   "id": "5e986f1b",
   "metadata": {},
   "source": [
    "Read the data, and create a copy of it:"
   ]
  },
  {
   "cell_type": "code",
   "execution_count": 9,
   "id": "ca71a46b",
   "metadata": {},
   "outputs": [],
   "source": [
    "df = pd.read_csv('data/train_data.csv')\n",
    "df_ = df.copy(deep = True)\n",
    "\n",
    "df_ = df_.replace('?', np.nan)\n",
    "\n",
    "# df_['total_visits'] = df_['number_inpatient'] + df_['number_outpatient'] + df_['number_emergency']"
   ]
  },
  {
   "cell_type": "markdown",
   "id": "99906ca7",
   "metadata": {},
   "source": [
    "Train-test split:"
   ]
  },
  {
   "cell_type": "code",
   "execution_count": 10,
   "id": "1a6cbef0",
   "metadata": {},
   "outputs": [],
   "source": [
    "target = 'readmitted'\n",
    "\n",
    "X = df_.drop(columns = target)\n",
    "y = df_[target].apply(lambda x: False if x == 'No' else True)\n",
    "\n",
    "X_train, X_test, y_train, y_test = train_test_split(X, \n",
    "                                                    y, \n",
    "                                                    test_size = 0.2, \n",
    "                                                    random_state = 42, \n",
    "                                                    stratify = y)"
   ]
  },
  {
   "cell_type": "code",
   "execution_count": 11,
   "id": "94830a9d",
   "metadata": {},
   "outputs": [],
   "source": [
    "# df_test = pd.concat([X_test, y_test], axis = 1)\n",
    "\n",
    "# df_test.to_csv('data/test_data.csv')"
   ]
  },
  {
   "cell_type": "markdown",
   "id": "88c4a922",
   "metadata": {},
   "source": [
    "Drop unknown genders, and vaccination statuses:"
   ]
  },
  {
   "cell_type": "code",
   "execution_count": 12,
   "id": "a4d98eda",
   "metadata": {},
   "outputs": [
    {
     "name": "stdout",
     "output_type": "stream",
     "text": [
      "65129\n",
      "64875\n"
     ]
    }
   ],
   "source": [
    "print(X_train.shape[0])\n",
    "\n",
    "X_train = X_train[X_train['gender'] != 'Unknown/Invalid']\n",
    "X_train = X_train[X_train['complete_vaccination_status'] != 'None']\n",
    "# X_train = X_train[X_train['discharge_disposition_code'] != 11.0 ]\n",
    "\n",
    "print(X_train.shape[0])\n",
    "\n",
    "y_train = y_train[y_train.index.isin(X_train.index)]"
   ]
  },
  {
   "cell_type": "markdown",
   "id": "a123c73a",
   "metadata": {},
   "source": [
    "## Feature Engineering"
   ]
  },
  {
   "cell_type": "markdown",
   "id": "2538cbde",
   "metadata": {},
   "source": [
    "We need to take the following steps in the feature engineering pipeline:\n",
    "\n",
    "1. Drop the 'admission_id', 'patient_id', 'weight' columns;\n",
    "2. Make corrections to the 'race' column;\n",
    "3. Drop the 'Unknown' gender in the 'gender' column;"
   ]
  },
  {
   "cell_type": "code",
   "execution_count": 13,
   "id": "033a1c2a",
   "metadata": {},
   "outputs": [],
   "source": [
    "features_to_drop = ['admission_id',\n",
    "                    'patient_id',\n",
    "                    'weight',\n",
    "                    'medical_specialty',\n",
    "                    'payer_code',\n",
    "                    'blood_type',\n",
    "                    'has_prosthesis',\n",
    "                    #'diag_1',\n",
    "                    #'diag_2',\n",
    "                    #'diag_3',\n",
    "                    'race',\n",
    "                    'age',\n",
    "                    'gender',\n",
    "                   ]\n",
    "\n",
    "categorical_features = [ #'race',\n",
    "                         #'gender',\n",
    "                        'admission_type_code',\n",
    "                        'discharge_disposition_code',\n",
    "                        'admission_source_code',\n",
    "                        'complete_vaccination_status', # Need to think about this one\n",
    "                        'blood_transfusion',\n",
    "                        'max_glu_serum',\n",
    "                        'A1Cresult',\n",
    "                        'diuretics',\n",
    "                        'insulin',\n",
    "                        'change',\n",
    "                        'diabetesMed',\n",
    "                        'diag_1',\n",
    "                        'diag_2',\n",
    "                        'diag_3',\n",
    "                       ]\n",
    "\n",
    "categorical_features_ohe_2mf = [# 'gender',\n",
    "                               'complete_vaccination_status']\n",
    "\n",
    "numerical_features_imputation = ['num_medications',\n",
    "                                 'num_lab_procedures',\n",
    "                                 'num_procedures',\n",
    "                                 'number_diagnoses',\n",
    "                                 'time_in_hospital',\n",
    "                                 'number_outpatient',\n",
    "                                 'number_emergency',\n",
    "                                 'number_inpatient',\n",
    "                                 'number_diagnoses',\n",
    "                                ]\n",
    "\n",
    "numerical_features = [# 'age',\n",
    "                      # 'time_in_hospital',\n",
    "                      # 'num_lab_procedures',\n",
    "                      # 'num_procedures',\n",
    "                      # 'num_medications',\n",
    "                      # 'number_outpatient',\n",
    "                      # 'number_emergency',\n",
    "                      # 'number_inpatient',\n",
    "                      # 'number_diagnoses',\n",
    "                      'hemoglobin_level',\n",
    "                     ]"
   ]
  },
  {
   "cell_type": "markdown",
   "id": "99fca212",
   "metadata": {},
   "source": [
    "Pipeline:"
   ]
  },
  {
   "cell_type": "code",
   "execution_count": 14,
   "id": "81a1f5bf",
   "metadata": {},
   "outputs": [],
   "source": [
    "pipe = Pipeline([    \n",
    "    # Remove unwanted columns\n",
    "    ('drop', DropFeatures(features_to_drop = features_to_drop)),\n",
    "    \n",
    "    # Correct type of columns\n",
    "    ('object', CastString()),\n",
    "    \n",
    "    # Correct the race column\n",
    "    # ('race', CorrectRace()),\n",
    "    \n",
    "    # Map the age column\n",
    "    # ('age', ConvertAge()),\n",
    "    \n",
    "    # Correct the admission type column\n",
    "    ('admission_type', CorrectAdmissionTypeCode()),\n",
    "    \n",
    "    # Correct the discharge disposition code column\n",
    "    ('discharge_code', CorrectDischargeDispositionCode()),\n",
    "    \n",
    "    # Correct the admission source code column\n",
    "    ('admission_code', CorrectAdmissionSourceCode()),\n",
    "    \n",
    "    # Correct the max glu serum column\n",
    "    ('max_glu_serum', CorrectMaxGluSerum()),\n",
    "     \n",
    "    # Correct the A1CResult column\n",
    "    ('a1cresult', CorrectA1CResult()),\n",
    "    \n",
    "    # Correct the diag_1, diag_2 and diag_3 columns\n",
    "    ('diag_x', ConvertDiag()),\n",
    "    \n",
    "    # Impute the categorical features with the mode\n",
    "    ('categorical_imputer', CategoricalImputer(imputation_method = 'frequent',\n",
    "                                                variables = categorical_features)),\n",
    "    \n",
    "    # Impute the numerical features with the median\n",
    "    ('numerical_imputer_median', MeanMedianImputer(imputation_method = 'median',\n",
    "                                            variables = numerical_features)),\n",
    "     \n",
    "    ('numerical_imputer_0', ArbitraryNumberImputer(arbitrary_number = 0,\n",
    "                                                 variables = numerical_features_imputation)),\n",
    "    \n",
    "    # Rare label encoding\n",
    "    ('rare', RareLabelEncoder(tol = 0.01, \n",
    "                              n_categories = 2,\n",
    "                              variables = categorical_features)),\n",
    "    \n",
    "    # One-hot encoding\n",
    "    ('ohe', OneHotEncoder(variables = [f for f in categorical_features if f not in categorical_features_ohe_2mf])),\n",
    "    \n",
    "    # One-hot encoding of top 2\n",
    "    ('ohe_diag', OneHotEncoder(top_categories = 2,\n",
    "                              variables = categorical_features_ohe_2mf)),\n",
    "    \n",
    "    # Model\n",
    "    # ('clf', RandomForestClassifier(# n_estimators = 1000,\n",
    "    #                                # max_depth = 10,\n",
    "    #                                # class_weight = 'balanced',\n",
    "    #                                random_state = 42,\n",
    "    #                                n_jobs = -1))\n",
    "\n",
    "])"
   ]
  },
  {
   "cell_type": "code",
   "execution_count": 15,
   "id": "b44e40e6",
   "metadata": {},
   "outputs": [
    {
     "name": "stderr",
     "output_type": "stream",
     "text": [
      "/home/pgomes/.virtualenvs/blu15/lib/python3.7/site-packages/feature_engine/encoding/rare_label.py:164: UserWarning: The number of unique categories for variable complete_vaccination_status is less than that indicated in n_categories. Thus, all categories will be considered frequent\n",
      "  \"considered frequent\".format(var)\n",
      "/home/pgomes/.virtualenvs/blu15/lib/python3.7/site-packages/feature_engine/encoding/rare_label.py:164: UserWarning: The number of unique categories for variable blood_transfusion is less than that indicated in n_categories. Thus, all categories will be considered frequent\n",
      "  \"considered frequent\".format(var)\n",
      "/home/pgomes/.virtualenvs/blu15/lib/python3.7/site-packages/feature_engine/encoding/rare_label.py:164: UserWarning: The number of unique categories for variable diuretics is less than that indicated in n_categories. Thus, all categories will be considered frequent\n",
      "  \"considered frequent\".format(var)\n",
      "/home/pgomes/.virtualenvs/blu15/lib/python3.7/site-packages/feature_engine/encoding/rare_label.py:164: UserWarning: The number of unique categories for variable insulin is less than that indicated in n_categories. Thus, all categories will be considered frequent\n",
      "  \"considered frequent\".format(var)\n",
      "/home/pgomes/.virtualenvs/blu15/lib/python3.7/site-packages/feature_engine/encoding/rare_label.py:164: UserWarning: The number of unique categories for variable change is less than that indicated in n_categories. Thus, all categories will be considered frequent\n",
      "  \"considered frequent\".format(var)\n",
      "/home/pgomes/.virtualenvs/blu15/lib/python3.7/site-packages/feature_engine/encoding/rare_label.py:164: UserWarning: The number of unique categories for variable diabetesMed is less than that indicated in n_categories. Thus, all categories will be considered frequent\n",
      "  \"considered frequent\".format(var)\n"
     ]
    },
    {
     "data": {
      "text/html": [
       "<div>\n",
       "<style scoped>\n",
       "    .dataframe tbody tr th:only-of-type {\n",
       "        vertical-align: middle;\n",
       "    }\n",
       "\n",
       "    .dataframe tbody tr th {\n",
       "        vertical-align: top;\n",
       "    }\n",
       "\n",
       "    .dataframe thead th {\n",
       "        text-align: right;\n",
       "    }\n",
       "</style>\n",
       "<table border=\"1\" class=\"dataframe\">\n",
       "  <thead>\n",
       "    <tr style=\"text-align: right;\">\n",
       "      <th></th>\n",
       "      <th>time_in_hospital</th>\n",
       "      <th>num_lab_procedures</th>\n",
       "      <th>num_procedures</th>\n",
       "      <th>num_medications</th>\n",
       "      <th>number_outpatient</th>\n",
       "      <th>number_emergency</th>\n",
       "      <th>number_inpatient</th>\n",
       "      <th>number_diagnoses</th>\n",
       "      <th>hemoglobin_level</th>\n",
       "      <th>admission_type_code_1.0</th>\n",
       "      <th>...</th>\n",
       "      <th>diag_3_780-799</th>\n",
       "      <th>diag_3_320-389</th>\n",
       "      <th>diag_3_800-999</th>\n",
       "      <th>diag_3_140-239</th>\n",
       "      <th>diag_3_280-289</th>\n",
       "      <th>diag_3_Unknown</th>\n",
       "      <th>diag_3_0-139</th>\n",
       "      <th>diag_3_Rare</th>\n",
       "      <th>complete_vaccination_status_Complete</th>\n",
       "      <th>complete_vaccination_status_Incomplete</th>\n",
       "    </tr>\n",
       "  </thead>\n",
       "  <tbody>\n",
       "    <tr>\n",
       "      <th>6400</th>\n",
       "      <td>6</td>\n",
       "      <td>82.0</td>\n",
       "      <td>0</td>\n",
       "      <td>17.0</td>\n",
       "      <td>0</td>\n",
       "      <td>0</td>\n",
       "      <td>0</td>\n",
       "      <td>9</td>\n",
       "      <td>15.4</td>\n",
       "      <td>1</td>\n",
       "      <td>...</td>\n",
       "      <td>0</td>\n",
       "      <td>0</td>\n",
       "      <td>0</td>\n",
       "      <td>0</td>\n",
       "      <td>0</td>\n",
       "      <td>0</td>\n",
       "      <td>0</td>\n",
       "      <td>0</td>\n",
       "      <td>1</td>\n",
       "      <td>0</td>\n",
       "    </tr>\n",
       "    <tr>\n",
       "      <th>4000</th>\n",
       "      <td>9</td>\n",
       "      <td>53.0</td>\n",
       "      <td>5</td>\n",
       "      <td>41.0</td>\n",
       "      <td>0</td>\n",
       "      <td>0</td>\n",
       "      <td>2</td>\n",
       "      <td>9</td>\n",
       "      <td>13.8</td>\n",
       "      <td>1</td>\n",
       "      <td>...</td>\n",
       "      <td>0</td>\n",
       "      <td>0</td>\n",
       "      <td>0</td>\n",
       "      <td>0</td>\n",
       "      <td>0</td>\n",
       "      <td>0</td>\n",
       "      <td>0</td>\n",
       "      <td>0</td>\n",
       "      <td>1</td>\n",
       "      <td>0</td>\n",
       "    </tr>\n",
       "    <tr>\n",
       "      <th>39818</th>\n",
       "      <td>1</td>\n",
       "      <td>41.0</td>\n",
       "      <td>2</td>\n",
       "      <td>13.0</td>\n",
       "      <td>0</td>\n",
       "      <td>0</td>\n",
       "      <td>0</td>\n",
       "      <td>9</td>\n",
       "      <td>13.6</td>\n",
       "      <td>0</td>\n",
       "      <td>...</td>\n",
       "      <td>0</td>\n",
       "      <td>0</td>\n",
       "      <td>0</td>\n",
       "      <td>0</td>\n",
       "      <td>0</td>\n",
       "      <td>0</td>\n",
       "      <td>0</td>\n",
       "      <td>0</td>\n",
       "      <td>1</td>\n",
       "      <td>0</td>\n",
       "    </tr>\n",
       "    <tr>\n",
       "      <th>23698</th>\n",
       "      <td>3</td>\n",
       "      <td>70.0</td>\n",
       "      <td>1</td>\n",
       "      <td>0.0</td>\n",
       "      <td>0</td>\n",
       "      <td>0</td>\n",
       "      <td>0</td>\n",
       "      <td>8</td>\n",
       "      <td>14.1</td>\n",
       "      <td>1</td>\n",
       "      <td>...</td>\n",
       "      <td>0</td>\n",
       "      <td>0</td>\n",
       "      <td>0</td>\n",
       "      <td>0</td>\n",
       "      <td>0</td>\n",
       "      <td>0</td>\n",
       "      <td>0</td>\n",
       "      <td>0</td>\n",
       "      <td>1</td>\n",
       "      <td>0</td>\n",
       "    </tr>\n",
       "    <tr>\n",
       "      <th>71883</th>\n",
       "      <td>2</td>\n",
       "      <td>20.0</td>\n",
       "      <td>0</td>\n",
       "      <td>13.0</td>\n",
       "      <td>0</td>\n",
       "      <td>0</td>\n",
       "      <td>0</td>\n",
       "      <td>8</td>\n",
       "      <td>13.2</td>\n",
       "      <td>1</td>\n",
       "      <td>...</td>\n",
       "      <td>0</td>\n",
       "      <td>0</td>\n",
       "      <td>0</td>\n",
       "      <td>0</td>\n",
       "      <td>0</td>\n",
       "      <td>0</td>\n",
       "      <td>0</td>\n",
       "      <td>0</td>\n",
       "      <td>1</td>\n",
       "      <td>0</td>\n",
       "    </tr>\n",
       "  </tbody>\n",
       "</table>\n",
       "<p>5 rows × 92 columns</p>\n",
       "</div>"
      ],
      "text/plain": [
       "       time_in_hospital  num_lab_procedures  num_procedures  num_medications  \\\n",
       "6400                  6                82.0               0             17.0   \n",
       "4000                  9                53.0               5             41.0   \n",
       "39818                 1                41.0               2             13.0   \n",
       "23698                 3                70.0               1              0.0   \n",
       "71883                 2                20.0               0             13.0   \n",
       "\n",
       "       number_outpatient  number_emergency  number_inpatient  \\\n",
       "6400                   0                 0                 0   \n",
       "4000                   0                 0                 2   \n",
       "39818                  0                 0                 0   \n",
       "23698                  0                 0                 0   \n",
       "71883                  0                 0                 0   \n",
       "\n",
       "       number_diagnoses  hemoglobin_level  admission_type_code_1.0  ...  \\\n",
       "6400                  9              15.4                        1  ...   \n",
       "4000                  9              13.8                        1  ...   \n",
       "39818                 9              13.6                        0  ...   \n",
       "23698                 8              14.1                        1  ...   \n",
       "71883                 8              13.2                        1  ...   \n",
       "\n",
       "       diag_3_780-799  diag_3_320-389  diag_3_800-999  diag_3_140-239  \\\n",
       "6400                0               0               0               0   \n",
       "4000                0               0               0               0   \n",
       "39818               0               0               0               0   \n",
       "23698               0               0               0               0   \n",
       "71883               0               0               0               0   \n",
       "\n",
       "       diag_3_280-289  diag_3_Unknown  diag_3_0-139  diag_3_Rare  \\\n",
       "6400                0               0             0            0   \n",
       "4000                0               0             0            0   \n",
       "39818               0               0             0            0   \n",
       "23698               0               0             0            0   \n",
       "71883               0               0             0            0   \n",
       "\n",
       "       complete_vaccination_status_Complete  \\\n",
       "6400                                      1   \n",
       "4000                                      1   \n",
       "39818                                     1   \n",
       "23698                                     1   \n",
       "71883                                     1   \n",
       "\n",
       "       complete_vaccination_status_Incomplete  \n",
       "6400                                        0  \n",
       "4000                                        0  \n",
       "39818                                       0  \n",
       "23698                                       0  \n",
       "71883                                       0  \n",
       "\n",
       "[5 rows x 92 columns]"
      ]
     },
     "execution_count": 15,
     "metadata": {},
     "output_type": "execute_result"
    }
   ],
   "source": [
    "X_train_tf = pipe.fit_transform(X_train)\n",
    "X_train_tf.head()\n",
    "\n",
    "# X_train_tf = pipe.fit_transform(X_train)\n",
    "# \n",
    "# sm = SMOTE(random_state = 42)\n",
    "# train_input_new, train_output_new = sm.fit_sample(X_train_tf, y_train)\n",
    "\n",
    "# pipe.fit(X_train, y_train)"
   ]
  },
  {
   "cell_type": "code",
   "execution_count": 16,
   "id": "989d9c98",
   "metadata": {},
   "outputs": [
    {
     "data": {
      "text/plain": [
       "RandomForestClassifier(class_weight='balanced', max_depth=10, n_estimators=1000,\n",
       "                       random_state=42)"
      ]
     },
     "execution_count": 16,
     "metadata": {},
     "output_type": "execute_result"
    }
   ],
   "source": [
    "clf = RandomForestClassifier(n_estimators = 1000, \n",
    "                             max_depth = 10,\n",
    "                             class_weight = 'balanced',\n",
    "                             criterion = 'gini',\n",
    "                             random_state = 42)\n",
    "\n",
    "clf.fit(X_train_tf, y_train)\n",
    "\n",
    "# clf = LogisticRegression(penalty = 'l1',\n",
    "#                          C = 1e-1,\n",
    "#                          # class_weight = 'balanced',\n",
    "#                          solver = 'liblinear', \n",
    "#                          random_state = 42)\n",
    "\n",
    "# clf.fit(train_input_new, train_output_new)"
   ]
  },
  {
   "cell_type": "code",
   "execution_count": 17,
   "id": "a9e284a2",
   "metadata": {},
   "outputs": [],
   "source": [
    "X_test_tf = pipe.transform(X_test)"
   ]
  },
  {
   "cell_type": "code",
   "execution_count": 18,
   "id": "0dbbef73",
   "metadata": {},
   "outputs": [
    {
     "name": "stdout",
     "output_type": "stream",
     "text": [
      "              precision    recall  f1-score   support\n",
      "\n",
      "       False       0.92      0.69      0.79     14469\n",
      "        True       0.18      0.55      0.27      1814\n",
      "\n",
      "    accuracy                           0.67     16283\n",
      "   macro avg       0.55      0.62      0.53     16283\n",
      "weighted avg       0.84      0.67      0.73     16283\n",
      "\n",
      "Accuracy: 0.6923776493256262\n",
      "Precision: 0.2118275674696613\n",
      "Recall: 0.6471157836491908\n",
      "F1-Score: 0.3191757923105789\n",
      "\n",
      "\n",
      "Accuracy: 0.6700853651047104\n",
      "Precision: 0.17980561555075594\n",
      "Recall: 0.5507166482910695\n",
      "F1-Score: 0.27109905020352787\n"
     ]
    }
   ],
   "source": [
    "y_pred_test = clf.predict(X_test_tf)\n",
    "y_pred_train = clf.predict(X_train_tf)\n",
    "\n",
    "# y_pred_test = pipe.predict(X_test)\n",
    "# y_pred_train = pipe.predict(X_train)\n",
    "\n",
    "print(classification_report(y_test, y_pred_test))\n",
    "\n",
    "print('Accuracy:', accuracy_score(y_train, y_pred_train))\n",
    "print('Precision:', precision_score(y_train, y_pred_train))\n",
    "print('Recall:', recall_score(y_train, y_pred_train))\n",
    "print('F1-Score:', f1_score(y_train, y_pred_train))\n",
    "print('\\n')\n",
    "print('Accuracy:', accuracy_score(y_test, y_pred_test))\n",
    "print('Precision:', precision_score(y_test, y_pred_test))\n",
    "print('Recall:', recall_score(y_test, y_pred_test))\n",
    "print('F1-Score:', f1_score(y_test, y_pred_test))"
   ]
  },
  {
   "cell_type": "code",
   "execution_count": 19,
   "id": "d370d8a0",
   "metadata": {},
   "outputs": [
    {
     "data": {
      "image/png": "[encoded data removed]",
      "text/plain": [
       "<Figure size 288x144 with 1 Axes>"
      ]
     },
     "metadata": {
      "needs_background": "light"
     },
     "output_type": "display_data"
    }
   ],
   "source": [
    "cm = confusion_matrix(y_test, y_pred_test)\n",
    "\n",
    "plt.figure(figsize = (4, 2))\n",
    "\n",
    "ax = plt.subplot()\n",
    "sns.heatmap(cm, annot = True, \n",
    "            fmt = 'g', \n",
    "            cmap = 'Blues',\n",
    "            ax = ax, cbar = False ); \n",
    "\n",
    "# labels, title and ticks\n",
    "ax.set_xlabel('Predicted labels');ax.set_ylabel('True labels'); \n",
    "# ax.set_title('Confusion Matrix'); \n",
    "ax.xaxis.set_ticklabels(['No', 'Yes']); ax.yaxis.set_ticklabels(['No', 'Yes']);"
   ]
  },
  {
   "cell_type": "code",
   "execution_count": 20,
   "id": "f4091af7",
   "metadata": {},
   "outputs": [],
   "source": [
    "y_pred_proba_test = clf.predict_proba(X_test_tf)[:, 1]"
   ]
  },
  {
   "cell_type": "code",
   "execution_count": 24,
   "id": "a81efda9",
   "metadata": {},
   "outputs": [],
   "source": [
    "pickle.dump(y_pred_proba_test, open(\"data/y_pred_predictions.pickle\", \"wb\"))\n",
    "pickle.dump(y_pred_test, open(\"data/y_pred_test.pickle\", \"wb\"))"
   ]
  },
  {
   "cell_type": "code",
   "execution_count": 13,
   "id": "7a202ad9",
   "metadata": {},
   "outputs": [
    {
     "name": "stdout",
     "output_type": "stream",
     "text": [
      "No Skill: ROC AUC=0.500\n",
      "Logistic: ROC AUC=0.662\n"
     ]
    },
    {
     "data": {
      "image/png": "[encoded data removed]",
      "text/plain": [
       "<Figure size 360x288 with 1 Axes>"
      ]
     },
     "metadata": {
      "needs_background": "light"
     },
     "output_type": "display_data"
    }
   ],
   "source": [
    "ns_probs = [0 for _ in range(X_test.shape[0])]\n",
    "\n",
    "# calculate scores\n",
    "ns_auc = roc_auc_score(y_test, ns_probs)\n",
    "lr_auc = roc_auc_score(y_test, y_pred_proba_test)\n",
    "\n",
    "# summarize scores\n",
    "print('No Skill: ROC AUC=%.3f' % (ns_auc))\n",
    "print('Logistic: ROC AUC=%.3f' % (lr_auc))\n",
    "\n",
    "# calculate roc curves\n",
    "ns_fpr, ns_tpr, _ = roc_curve(y_test, ns_probs)\n",
    "lr_fpr, lr_tpr, _ = roc_curve(y_test, y_pred_proba_test)\n",
    "\n",
    "plt.figure(figsize = (5, 4))\n",
    "\n",
    "# plot the roc curve for the model\n",
    "plt.plot(ns_fpr, ns_tpr, linestyle='--', label = 'Random guessing')\n",
    "plt.plot(lr_fpr, lr_tpr, marker='.', label = 'Model')\n",
    "\n",
    "# axis labels\n",
    "plt.xlabel('False Positive Rate')\n",
    "plt.ylabel('True Positive Rate')\n",
    "\n",
    "# show the legend\n",
    "plt.legend()\n",
    "\n",
    "# show the title\n",
    "plt.title('ROC Curve')\n",
    "\n",
    "# show the plot\n",
    "plt.show()"
   ]
  },
  {
   "cell_type": "code",
   "execution_count": 24,
   "id": "b875ab18",
   "metadata": {},
   "outputs": [
    {
     "data": {
      "image/png": "[encoded data removed]",
      "text/plain": [
       "<Figure size 432x288 with 1 Axes>"
      ]
     },
     "metadata": {
      "needs_background": "light"
     },
     "output_type": "display_data"
    }
   ],
   "source": [
    "X_train_tf[(y_train != y_pred_train) & (y_train == False)]['number_inpatient'].plot(kind = 'hist', bins = 50)\n",
    "\n",
    "plt.show()"
   ]
  },
  {
   "cell_type": "code",
   "execution_count": 28,
   "id": "82c04f64",
   "metadata": {},
   "outputs": [
    {
     "data": {
      "image/png": "[encoded data removed]",
      "text/plain": [
       "<Figure size 432x288 with 1 Axes>"
      ]
     },
     "metadata": {
      "needs_background": "light"
     },
     "output_type": "display_data"
    }
   ],
   "source": [
    "X_test_tf[(y_test != y_pred_test) & (y_test == False)]['number_inpatient'].plot(kind = 'hist', bins = 20)\n",
    "\n",
    "plt.show()"
   ]
  },
  {
   "cell_type": "code",
   "execution_count": 30,
   "id": "9472d818",
   "metadata": {},
   "outputs": [
    {
     "data": {
      "text/plain": [
       "0    0.541365\n",
       "1    0.458635\n",
       "Name: discharge_disposition_code_1.0, dtype: float64"
      ]
     },
     "execution_count": 30,
     "metadata": {},
     "output_type": "execute_result"
    }
   ],
   "source": [
    "X_test_tf[(y_test != y_pred_test) & (y_test == False)]['discharge_disposition_code_1.0'].value_counts(normalize = True)"
   ]
  },
  {
   "cell_type": "markdown",
   "id": "85fe43e7",
   "metadata": {},
   "source": [
    "## Feature importances"
   ]
  },
  {
   "cell_type": "code",
   "execution_count": 15,
   "id": "23c03673",
   "metadata": {},
   "outputs": [
    {
     "data": {
      "image/png": "[encoded data removed]",
      "text/plain": [
       "<Figure size 1080x288 with 1 Axes>"
      ]
     },
     "metadata": {
      "needs_background": "light"
     },
     "output_type": "display_data"
    }
   ],
   "source": [
    "fi = pd.Series(clf.feature_importances_, index = X_train_tf.columns).sort_values(ascending = False)[:50]\n",
    "\n",
    "plt.figure(figsize = (15,4))\n",
    "fi.plot.bar()\n",
    "\n",
    "plt.xticks(rotation = 80)\n",
    "\n",
    "plt.xlabel('Feature')\n",
    "plt.ylabel('Feature importance')\n",
    "\n",
    "plt.title('Feature importances of the 25 most important features')\n",
    "\n",
    "plt.show()"
   ]
  },
  {
   "cell_type": "code",
   "execution_count": 112,
   "id": "09f0b2a5",
   "metadata": {},
   "outputs": [
    {
     "data": {
      "text/plain": [
       "<Figure size 360x288 with 0 Axes>"
      ]
     },
     "metadata": {},
     "output_type": "display_data"
    },
    {
     "data": {
      "image/png": "[encoded data removed]",
      "text/plain": [
       "<Figure size 432x288 with 2 Axes>"
      ]
     },
     "metadata": {
      "needs_background": "light"
     },
     "output_type": "display_data"
    }
   ],
   "source": [
    "plt.figure(figsize = (5, 4))\n",
    "\n",
    "plot_partial_dependence(clf, X_train_tf, features = [6])\n",
    "\n",
    "plt.xlabel('Number of inpatient visits')\n",
    "plt.ylabel('Partial dependence')\n",
    "\n",
    "plt.title('Partial dependence plot of the number of inpatient visits')\n",
    "\n",
    "plt.yticks(np.arange(0.4, 0.62, 0.02))\n",
    "plt.ylim([0.39, 0.61])\n",
    "\n",
    "plt.show()"
   ]
  },
  {
   "cell_type": "code",
   "execution_count": 80,
   "id": "805f0f2d",
   "metadata": {},
   "outputs": [
    {
     "data": {
      "image/png": "[encoded data removed]",
      "text/plain": [
       "<Figure size 432x288 with 2 Axes>"
      ]
     },
     "metadata": {
      "needs_background": "light"
     },
     "output_type": "display_data"
    }
   ],
   "source": [
    "plot_partial_dependence(clf, X_train_tf, features = [14])\n",
    "\n",
    "plt.show()"
   ]
  },
  {
   "cell_type": "code",
   "execution_count": 88,
   "id": "92a93e63",
   "metadata": {},
   "outputs": [
    {
     "data": {
      "image/png": "[encoded data removed]",
      "text/plain": [
       "<Figure size 432x288 with 2 Axes>"
      ]
     },
     "metadata": {
      "needs_background": "light"
     },
     "output_type": "display_data"
    }
   ],
   "source": [
    "plot_partial_dependence(clf, X_train_tf, features = [13])\n",
    "\n",
    "plt.show()"
   ]
  },
  {
   "cell_type": "code",
   "execution_count": 91,
   "id": "e6463228",
   "metadata": {},
   "outputs": [
    {
     "data": {
      "text/plain": [
       "<Figure size 360x288 with 0 Axes>"
      ]
     },
     "metadata": {},
     "output_type": "display_data"
    },
    {
     "data": {
      "image/png": "[encoded data removed]",
      "text/plain": [
       "<Figure size 432x288 with 2 Axes>"
      ]
     },
     "metadata": {
      "needs_background": "light"
     },
     "output_type": "display_data"
    }
   ],
   "source": [
    "plt.figure(figsize = (5, 4))\n",
    "\n",
    "plot_partial_dependence(clf, X_train_tf, features = [3])\n",
    "\n",
    "plt.xlabel('Number of administered medications')\n",
    "plt.ylabel('Partial dependence')\n",
    "\n",
    "plt.title('Partial dependence plot of \\n the number of administered medications')\n",
    "\n",
    "# plt.yticks(np.arange(0.4, 0.62, 0.02))\n",
    "# plt.ylim([0.39, 0.61])\n",
    "\n",
    "plt.show()"
   ]
  },
  {
   "cell_type": "code",
   "execution_count": null,
   "id": "fe9e59ca",
   "metadata": {},
   "outputs": [],
   "source": [
    "plt.gcf()"
   ]
  },
  {
   "cell_type": "code",
   "execution_count": 80,
   "id": "af4238ab",
   "metadata": {},
   "outputs": [
    {
     "data": {
      "image/png": "[encoded data removed]",
      "text/plain": [
       "<Figure size 432x288 with 1 Axes>"
      ]
     },
     "metadata": {
      "needs_background": "light"
     },
     "output_type": "display_data"
    }
   ],
   "source": [
    "X_train_tf['number_outpatient'].plot(kind = 'hist')\n",
    "\n",
    "plt.show()"
   ]
  },
  {
   "cell_type": "code",
   "execution_count": 81,
   "id": "a66ad231",
   "metadata": {},
   "outputs": [
    {
     "data": {
      "image/png": "[encoded data removed]",
      "text/plain": [
       "<Figure size 432x288 with 1 Axes>"
      ]
     },
     "metadata": {
      "needs_background": "light"
     },
     "output_type": "display_data"
    }
   ],
   "source": [
    "X_test_tf['number_diagnoses'].plot(kind = 'hist')\n",
    "\n",
    "plt.show()"
   ]
  },
  {
   "cell_type": "code",
   "execution_count": 101,
   "id": "a6caa794",
   "metadata": {},
   "outputs": [
    {
     "data": {
      "text/plain": [
       "0    53.746435\n",
       "1    46.253565\n",
       "Name: change_Ch, dtype: float64"
      ]
     },
     "execution_count": 101,
     "metadata": {},
     "output_type": "execute_result"
    }
   ],
   "source": [
    "X_train_tf['change_Ch'].value_counts(normalize = True)*100"
   ]
  },
  {
   "cell_type": "code",
   "execution_count": 103,
   "id": "18ed2098",
   "metadata": {},
   "outputs": [
    {
     "data": {
      "text/plain": [
       "0    53.816864\n",
       "1    46.183136\n",
       "Name: change_Ch, dtype: float64"
      ]
     },
     "execution_count": 103,
     "metadata": {},
     "output_type": "execute_result"
    }
   ],
   "source": [
    "X_test_tf['change_Ch'].value_counts(normalize = True)*100"
   ]
  },
  {
   "cell_type": "code",
   "execution_count": 139,
   "id": "36a8b52e",
   "metadata": {},
   "outputs": [
    {
     "name": "stdout",
     "output_type": "stream",
     "text": [
      "admission_type_code_1.0 8.04 7.85\n",
      "admission_type_code_5.0 1.24 1.26\n",
      "admission_type_code_3.0 1.86 2.03\n",
      "admission_type_code_Rare 0.0 0.0\n",
      "discharge_disposition_code_1.0 7.08 7.0\n",
      "discharge_disposition_code_11.0 0.0 0.0\n",
      "discharge_disposition_code_3.0 2.78 2.91\n",
      "discharge_disposition_code_18.0 0.64 0.6\n",
      "discharge_disposition_code_22.0 0.52 0.52\n",
      "discharge_disposition_code_Rare 0.13 0.11\n",
      "admission_source_code_7.0 6.63 6.45\n",
      "admission_source_code_4.0 1.26 1.38\n",
      "admission_source_code_1.0 3.21 3.26\n",
      "admission_source_code_Rare 0.04 0.05\n",
      "blood_transfusion_False 9.74 9.8\n",
      "blood_transfusion_True 1.4 1.34\n",
      "max_glu_serum_none 10.49 10.49\n",
      "max_glu_serum_normal 0.29 0.29\n",
      "max_glu_serum_abnormal 0.37 0.36\n",
      "A1Cresult_abnormal 1.22 0.98\n",
      "A1Cresult_none 9.48 9.67\n",
      "A1Cresult_normal 0.45 0.49\n",
      "diuretics_No 10.93 10.89\n",
      "diuretics_Yes 0.21 0.25\n",
      "insulin_Yes 6.57 6.7\n",
      "insulin_No 4.58 4.44\n",
      "change_Ch 5.46 5.42\n",
      "change_No 5.68 5.72\n",
      "diabetesMed_Yes 8.93 9.02\n",
      "diabetesMed_No 2.22 2.12\n",
      "diag_1_390-459 3.42 3.36\n",
      "diag_1_580-629 0.54 0.55\n",
      "diag_1_780-799 0.66 0.66\n",
      "diag_1_280-289 0.14 0.18\n",
      "diag_1_800-999 0.84 0.9\n",
      "diag_1_520-579 0.92 0.99\n",
      "diag_1_240-279 1.47 1.31\n",
      "diag_1_E-V 0.26 0.23\n",
      "diag_1_460-519 1.09 1.09\n",
      "diag_1_680-709 0.24 0.23\n",
      "diag_1_710-739 0.44 0.57\n",
      "diag_1_140-239 0.35 0.31\n",
      "diag_1_0-139 0.32 0.32\n",
      "diag_1_290-319 0.28 0.26\n",
      "diag_1_320-389 0.11 0.12\n",
      "diag_1_Rare 0.05 0.06\n",
      "diag_2_460-519 1.05 1.0\n",
      "diag_2_580-629 0.93 0.86\n",
      "diag_2_390-459 3.35 3.33\n",
      "diag_2_240-279 2.14 2.24\n",
      "diag_2_780-799 0.44 0.52\n",
      "diag_2_520-579 0.46 0.51\n",
      "diag_2_710-739 0.15 0.25\n",
      "diag_2_680-709 0.49 0.42\n",
      "diag_2_800-999 0.27 0.29\n",
      "diag_2_Unknown 0.22 0.25\n",
      "diag_2_280-289 0.26 0.36\n",
      "diag_2_290-319 0.27 0.25\n",
      "diag_2_0-139 0.25 0.18\n",
      "diag_2_140-239 0.39 0.31\n",
      "diag_2_E-V 0.29 0.2\n",
      "diag_2_Rare 0.03 0.01\n",
      "diag_2_320-389 0.15 0.17\n",
      "diag_3_240-279 2.74 2.57\n",
      "diag_3_390-459 3.09 3.33\n",
      "diag_3_460-519 0.84 0.73\n",
      "diag_3_580-629 0.83 0.93\n",
      "diag_3_520-579 0.45 0.34\n",
      "diag_3_710-739 0.2 0.22\n",
      "diag_3_680-709 0.33 0.31\n",
      "diag_3_E-V 0.48 0.62\n",
      "diag_3_290-319 0.34 0.37\n",
      "diag_3_780-799 0.56 0.5\n",
      "diag_3_320-389 0.21 0.25\n",
      "diag_3_800-999 0.23 0.18\n",
      "diag_3_140-239 0.27 0.24\n",
      "diag_3_280-289 0.27 0.28\n",
      "diag_3_Unknown 0.1 0.04\n",
      "diag_3_0-139 0.2 0.18\n",
      "diag_3_Rare 0.02 0.03\n",
      "complete_vaccination_status_Complete 9.21 9.2\n",
      "complete_vaccination_status_Incomplete 1.93 1.91\n"
     ]
    }
   ],
   "source": [
    "cols_to_analyse = ['admission_type_code_1.0', 'admission_type_code_5.0',\n",
    "       'admission_type_code_3.0', 'admission_type_code_Rare',\n",
    "       'discharge_disposition_code_1.0', 'discharge_disposition_code_11.0',\n",
    "       'discharge_disposition_code_3.0', 'discharge_disposition_code_18.0',\n",
    "       'discharge_disposition_code_22.0', 'discharge_disposition_code_Rare',\n",
    "       'admission_source_code_7.0', 'admission_source_code_4.0',\n",
    "       'admission_source_code_1.0', 'admission_source_code_Rare',\n",
    "       'blood_transfusion_False', 'blood_transfusion_True',\n",
    "       'max_glu_serum_none', 'max_glu_serum_normal', 'max_glu_serum_abnormal',\n",
    "       'A1Cresult_abnormal', 'A1Cresult_none', 'A1Cresult_normal',\n",
    "       'diuretics_No', 'diuretics_Yes', 'insulin_Yes', 'insulin_No',\n",
    "       'change_Ch', 'change_No', 'diabetesMed_Yes', 'diabetesMed_No',\n",
    "       'diag_1_390-459', 'diag_1_580-629', 'diag_1_780-799', 'diag_1_280-289',\n",
    "       'diag_1_800-999', 'diag_1_520-579', 'diag_1_240-279', 'diag_1_E-V',\n",
    "       'diag_1_460-519', 'diag_1_680-709', 'diag_1_710-739', 'diag_1_140-239',\n",
    "       'diag_1_0-139', 'diag_1_290-319', 'diag_1_320-389', 'diag_1_Rare',\n",
    "       'diag_2_460-519', 'diag_2_580-629', 'diag_2_390-459', 'diag_2_240-279',\n",
    "       'diag_2_780-799', 'diag_2_520-579', 'diag_2_710-739', 'diag_2_680-709',\n",
    "       'diag_2_800-999', 'diag_2_Unknown', 'diag_2_280-289', 'diag_2_290-319',\n",
    "       'diag_2_0-139', 'diag_2_140-239', 'diag_2_E-V', 'diag_2_Rare',\n",
    "       'diag_2_320-389', 'diag_3_240-279', 'diag_3_390-459', 'diag_3_460-519',\n",
    "       'diag_3_580-629', 'diag_3_520-579', 'diag_3_710-739', 'diag_3_680-709',\n",
    "       'diag_3_E-V', 'diag_3_290-319', 'diag_3_780-799', 'diag_3_320-389',\n",
    "       'diag_3_800-999', 'diag_3_140-239', 'diag_3_280-289', 'diag_3_Unknown',\n",
    "       'diag_3_0-139', 'diag_3_Rare', 'complete_vaccination_status_Complete',\n",
    "       'complete_vaccination_status_Incomplete']\n",
    "\n",
    "len_Xtrain = X_train.shape[0]\n",
    "len_Xtest = X_test.shape[0]\n",
    "\n",
    "for col in cols_to_analyse:\n",
    "    train_set_counts = X_train_tf[y_train][col].sum()*100/len_Xtrain\n",
    "    test_set_counts = X_test_tf[y_test][col].sum()*100/len_Xtest\n",
    "    \n",
    "    # if np.abs(train_set_counts - test_set_counts) > \n",
    "    \n",
    "    print(col, np.round(train_set_counts,2), np.round(test_set_counts, 2))\n",
    "    \n",
    "    # print(col, abs(np.round(train_set_counts,2) - np.round(test_set_counts, 2)))"
   ]
  },
  {
   "cell_type": "code",
   "execution_count": 138,
   "id": "d820247d",
   "metadata": {},
   "outputs": [
    {
     "name": "stdout",
     "output_type": "stream",
     "text": [
      "time_in_hospital\n",
      "4.0 4.0\n",
      "4.752247890441279 4.762403528114664\n",
      "3.0039467667740234 3.068674883092575\n",
      "num_lab_procedures\n",
      "45.0 44.0\n",
      "43.53755706183428 42.72657111356119\n",
      "19.931166320033256 19.906349676887935\n",
      "num_procedures\n",
      "1.0 1.0\n",
      "1.278738414718495 1.3202866593164277\n",
      "1.6379282072688301 1.654176790870153\n",
      "num_medications\n",
      "15.0 16.0\n",
      "16.37487895974547 16.40848952590959\n",
      "8.404284473548337 8.53106032189614\n",
      "number_outpatient\n",
      "0.0 0.0\n",
      "0.423710056716005 0.4829106945975744\n",
      "1.2750628583677739 1.362359458340573\n",
      "number_emergency\n",
      "0.0 0.0\n",
      "0.3480426061695947 0.4178610804851158\n",
      "1.4232983511206958 1.4800123173322588\n",
      "number_inpatient\n",
      "1.0 0.0\n",
      "1.2240973855305022 1.2386990077177509\n",
      "1.9358472201599113 2.076002582723326\n",
      "number_diagnoses\n",
      "9.0 9.0\n",
      "7.7050767741043025 7.646637265711136\n",
      "1.7679909152391993 1.7465582714423704\n",
      "hemoglobin_level\n",
      "14.1 14.1\n",
      "14.191492599253007 14.187706725468578\n",
      "1.0618938451196507 1.0610529430851965\n"
     ]
    }
   ],
   "source": [
    "num_cols_to_analyse = ['time_in_hospital', 'num_lab_procedures', 'num_procedures',\n",
    "       'num_medications', 'number_outpatient', 'number_emergency',\n",
    "       'number_inpatient', 'number_diagnoses', 'hemoglobin_level']\n",
    "\n",
    "for col in num_cols_to_analyse:\n",
    "    median_train = X_train_tf[y_train][col].median()\n",
    "    mean_train = X_train_tf[y_train][col].mean()\n",
    "    std_train = X_train_tf[y_train][col].std()\n",
    "    \n",
    "    median_test = X_test_tf[y_test][col].median()\n",
    "    mean_test = X_test_tf[y_test][col].mean()\n",
    "    std_test = X_test_tf[y_test][col].std()\n",
    "    \n",
    "    print(col)\n",
    "    print(median_train, median_test)\n",
    "    print(mean_train, mean_test)\n",
    "    print(std_train, std_test)"
   ]
  },
  {
   "cell_type": "markdown",
   "id": "35927e5b",
   "metadata": {},
   "source": [
    "## Grid Search for best Precision"
   ]
  },
  {
   "cell_type": "code",
   "execution_count": 12,
   "id": "67c31b02",
   "metadata": {},
   "outputs": [
    {
     "name": "stdout",
     "output_type": "stream",
     "text": [
      "Fitting 5 folds for each of 24 candidates, totalling 120 fits\n"
     ]
    },
    {
     "data": {
      "text/plain": [
       "GridSearchCV(cv=5, estimator=RandomForestClassifier(random_state=42), n_jobs=-1,\n",
       "             param_grid={'class_weight': [None, 'balanced'],\n",
       "                         'max_depth': [None, 5, 10, 15],\n",
       "                         'n_estimators': [250, 500, 1000]},\n",
       "             scoring='precision', verbose=5)"
      ]
     },
     "execution_count": 12,
     "metadata": {},
     "output_type": "execute_result"
    },
    {
     "name": "stderr",
     "output_type": "stream",
     "text": [
      "/home/pgomes/.virtualenvs/blu15/lib/python3.7/site-packages/sklearn/metrics/_classification.py:1248: UndefinedMetricWarning: Precision is ill-defined and being set to 0.0 due to no predicted samples. Use `zero_division` parameter to control this behavior.\n",
      "  _warn_prf(average, modifier, msg_start, len(result))\n",
      "/home/pgomes/.virtualenvs/blu15/lib/python3.7/site-packages/sklearn/metrics/_classification.py:1248: UndefinedMetricWarning: Precision is ill-defined and being set to 0.0 due to no predicted samples. Use `zero_division` parameter to control this behavior.\n",
      "  _warn_prf(average, modifier, msg_start, len(result))\n",
      "/home/pgomes/.virtualenvs/blu15/lib/python3.7/site-packages/sklearn/metrics/_classification.py:1248: UndefinedMetricWarning: Precision is ill-defined and being set to 0.0 due to no predicted samples. Use `zero_division` parameter to control this behavior.\n",
      "  _warn_prf(average, modifier, msg_start, len(result))\n"
     ]
    },
    {
     "name": "stdout",
     "output_type": "stream",
     "text": [
      "[CV 2/5] END class_weight=None, max_depth=None, n_estimators=250;, score=0.714 total time=  55.9s\n",
      "[CV 3/5] END class_weight=None, max_depth=None, n_estimators=1000;, score=0.857 total time= 4.2min\n",
      "[CV 2/5] END class_weight=None, max_depth=10, n_estimators=250;, score=0.000 total time=  27.1s\n",
      "[CV 2/5] END class_weight=None, max_depth=10, n_estimators=500;, score=0.000 total time= 1.0min\n",
      "[CV 2/5] END class_weight=None, max_depth=15, n_estimators=250;, score=1.000 total time=  41.6s\n",
      "[CV 5/5] END class_weight=None, max_depth=15, n_estimators=250;, score=0.000 total time=  43.4s\n",
      "[CV 4/5] END class_weight=None, max_depth=15, n_estimators=500;, score=1.000 total time= 1.3min\n",
      "[CV 1/5] END class_weight=balanced, max_depth=None, n_estimators=250;, score=0.571 total time= 1.0min\n",
      "[CV 4/5] END class_weight=balanced, max_depth=None, n_estimators=250;, score=1.000 total time=  58.1s\n",
      "[CV 1/5] END class_weight=balanced, max_depth=None, n_estimators=1000;, score=0.800 total time= 4.5min\n",
      "[CV 3/5] END class_weight=balanced, max_depth=10, n_estimators=250;, score=0.187 total time=  27.7s\n",
      "[CV 3/5] END class_weight=balanced, max_depth=10, n_estimators=500;, score=0.190 total time=  55.6s\n",
      "[CV 1/5] END class_weight=balanced, max_depth=15, n_estimators=250;, score=0.198 total time=  37.6s\n",
      "[CV 4/5] END class_weight=balanced, max_depth=15, n_estimators=250;, score=0.207 total time=  38.6s\n",
      "[CV 3/5] END class_weight=balanced, max_depth=15, n_estimators=500;, score=0.219 total time= 1.4min\n",
      "[CV 4/5] END class_weight=None, max_depth=None, n_estimators=250;, score=0.625 total time=  55.2s\n",
      "[CV 4/5] END class_weight=None, max_depth=None, n_estimators=500;, score=0.600 total time= 1.9min\n",
      "[CV 1/5] END class_weight=None, max_depth=5, n_estimators=500;, score=0.000 total time=  27.6s\n",
      "[CV 4/5] END class_weight=None, max_depth=5, n_estimators=500;, score=0.000 total time=  28.6s\n",
      "[CV 2/5] END class_weight=None, max_depth=5, n_estimators=1000;, score=0.000 total time= 1.1min\n",
      "[CV 5/5] END class_weight=None, max_depth=5, n_estimators=1000;, score=0.000 total time=  55.3s\n",
      "[CV 1/5] END class_weight=None, max_depth=10, n_estimators=1000;, score=0.000 total time= 1.9min\n",
      "[CV 2/5] END class_weight=None, max_depth=15, n_estimators=500;, score=0.667 total time= 1.3min\n",
      "[CV 5/5] END class_weight=None, max_depth=15, n_estimators=1000;, score=0.000 total time= 2.6min\n",
      "[CV 3/5] END class_weight=balanced, max_depth=None, n_estimators=1000;, score=1.000 total time= 4.3min\n",
      "[CV 4/5] END class_weight=balanced, max_depth=10, n_estimators=250;, score=0.178 total time=  26.9s\n",
      "[CV 5/5] END class_weight=balanced, max_depth=10, n_estimators=500;, score=0.189 total time=  55.5s\n",
      "[CV 2/5] END class_weight=balanced, max_depth=15, n_estimators=250;, score=0.200 total time=  37.6s\n",
      "[CV 5/5] END class_weight=balanced, max_depth=15, n_estimators=250;, score=0.218 total time=  38.6s\n",
      "[CV 4/5] END class_weight=balanced, max_depth=15, n_estimators=500;, score=0.206 total time= 1.3min\n"
     ]
    },
    {
     "name": "stderr",
     "output_type": "stream",
     "text": [
      "/home/pgomes/.virtualenvs/blu15/lib/python3.7/site-packages/sklearn/metrics/_classification.py:1248: UndefinedMetricWarning: Precision is ill-defined and being set to 0.0 due to no predicted samples. Use `zero_division` parameter to control this behavior.\n",
      "  _warn_prf(average, modifier, msg_start, len(result))\n",
      "/home/pgomes/.virtualenvs/blu15/lib/python3.7/site-packages/sklearn/metrics/_classification.py:1248: UndefinedMetricWarning: Precision is ill-defined and being set to 0.0 due to no predicted samples. Use `zero_division` parameter to control this behavior.\n",
      "  _warn_prf(average, modifier, msg_start, len(result))\n",
      "/home/pgomes/.virtualenvs/blu15/lib/python3.7/site-packages/sklearn/metrics/_classification.py:1248: UndefinedMetricWarning: Precision is ill-defined and being set to 0.0 due to no predicted samples. Use `zero_division` parameter to control this behavior.\n",
      "  _warn_prf(average, modifier, msg_start, len(result))\n",
      "/home/pgomes/.virtualenvs/blu15/lib/python3.7/site-packages/sklearn/metrics/_classification.py:1248: UndefinedMetricWarning: Precision is ill-defined and being set to 0.0 due to no predicted samples. Use `zero_division` parameter to control this behavior.\n",
      "  _warn_prf(average, modifier, msg_start, len(result))\n",
      "/home/pgomes/.virtualenvs/blu15/lib/python3.7/site-packages/sklearn/metrics/_classification.py:1248: UndefinedMetricWarning: Precision is ill-defined and being set to 0.0 due to no predicted samples. Use `zero_division` parameter to control this behavior.\n",
      "  _warn_prf(average, modifier, msg_start, len(result))\n",
      "/home/pgomes/.virtualenvs/blu15/lib/python3.7/site-packages/sklearn/metrics/_classification.py:1248: UndefinedMetricWarning: Precision is ill-defined and being set to 0.0 due to no predicted samples. Use `zero_division` parameter to control this behavior.\n",
      "  _warn_prf(average, modifier, msg_start, len(result))\n"
     ]
    },
    {
     "name": "stdout",
     "output_type": "stream",
     "text": [
      "[CV 2/5] END class_weight=None, max_depth=None, n_estimators=500;, score=0.667 total time= 1.9min\n",
      "[CV 4/5] END class_weight=None, max_depth=None, n_estimators=1000;, score=0.667 total time= 4.4min\n",
      "[CV 2/5] END class_weight=None, max_depth=10, n_estimators=1000;, score=0.000 total time= 1.9min\n",
      "[CV 1/5] END class_weight=None, max_depth=15, n_estimators=1000;, score=1.000 total time= 2.7min\n",
      "[CV 3/5] END class_weight=balanced, max_depth=None, n_estimators=500;, score=1.000 total time= 2.0min\n",
      "[CV 1/5] END class_weight=balanced, max_depth=5, n_estimators=250;, score=0.166 total time=  14.5s\n",
      "[CV 2/5] END class_weight=balanced, max_depth=5, n_estimators=250;, score=0.172 total time=  14.2s\n",
      "[CV 5/5] END class_weight=balanced, max_depth=5, n_estimators=250;, score=0.181 total time=  13.7s\n",
      "[CV 3/5] END class_weight=balanced, max_depth=5, n_estimators=500;, score=0.177 total time=  27.9s\n",
      "[CV 1/5] END class_weight=balanced, max_depth=5, n_estimators=1000;, score=0.166 total time=  56.2s\n",
      "[CV 4/5] END class_weight=balanced, max_depth=5, n_estimators=1000;, score=0.167 total time=  59.1s\n",
      "[CV 1/5] END class_weight=balanced, max_depth=10, n_estimators=500;, score=0.175 total time=  54.8s\n",
      "[CV 2/5] END class_weight=balanced, max_depth=10, n_estimators=1000;, score=0.180 total time= 1.8min\n",
      "[CV 5/5] END class_weight=balanced, max_depth=15, n_estimators=500;, score=0.216 total time= 1.4min\n"
     ]
    },
    {
     "name": "stderr",
     "output_type": "stream",
     "text": [
      "/home/pgomes/.virtualenvs/blu15/lib/python3.7/site-packages/sklearn/metrics/_classification.py:1248: UndefinedMetricWarning: Precision is ill-defined and being set to 0.0 due to no predicted samples. Use `zero_division` parameter to control this behavior.\n",
      "  _warn_prf(average, modifier, msg_start, len(result))\n"
     ]
    }
   ],
   "source": [
    "%timeit\n",
    "\n",
    "clf = RandomForestClassifier(random_state = 42)\n",
    "\n",
    "param_grid = { 'n_estimators' : [250, 500, 1000],\n",
    "               'max_depth' : [None, 5, 10, 15],\n",
    "               'class_weight' : [None, 'balanced']\n",
    "}\n",
    "\n",
    "grid_search = GridSearchCV(clf, \n",
    "                           param_grid,\n",
    "                           cv = 5, \n",
    "                           n_jobs = -1, \n",
    "                           scoring = 'precision',\n",
    "                           verbose = 5)\n",
    "\n",
    "grid_search.fit(X_train_tf, y_train)"
   ]
  },
  {
   "cell_type": "code",
   "execution_count": 13,
   "id": "7104d4f7",
   "metadata": {},
   "outputs": [
    {
     "name": "stdout",
     "output_type": "stream",
     "text": [
      "0.8099999999999999 {'class_weight': 'balanced', 'max_depth': None, 'n_estimators': 1000}\n",
      "              precision    recall  f1-score   support\n",
      "\n",
      "       False       0.89      1.00      0.94     14469\n",
      "        True       0.57      0.00      0.00      1814\n",
      "\n",
      "    accuracy                           0.89     16283\n",
      "   macro avg       0.73      0.50      0.47     16283\n",
      "weighted avg       0.85      0.89      0.84     16283\n",
      "\n",
      "Accuracy: 1.0\n",
      "Precision: 1.0\n",
      "Recall: 1.0\n",
      "F1-Score: 1.0\n",
      "\n",
      "\n",
      "Accuracy: 0.8886568814100596\n",
      "Precision: 0.5714285714285714\n",
      "Recall: 0.002205071664829107\n",
      "F1-Score: 0.004393190554640308\n"
     ]
    },
    {
     "name": "stderr",
     "output_type": "stream",
     "text": [
      "/home/pgomes/.virtualenvs/blu15/lib/python3.7/site-packages/sklearn/metrics/_classification.py:1248: UndefinedMetricWarning: Precision is ill-defined and being set to 0.0 due to no predicted samples. Use `zero_division` parameter to control this behavior.\n",
      "  _warn_prf(average, modifier, msg_start, len(result))\n",
      "/home/pgomes/.virtualenvs/blu15/lib/python3.7/site-packages/sklearn/metrics/_classification.py:1248: UndefinedMetricWarning: Precision is ill-defined and being set to 0.0 due to no predicted samples. Use `zero_division` parameter to control this behavior.\n",
      "  _warn_prf(average, modifier, msg_start, len(result))\n",
      "/home/pgomes/.virtualenvs/blu15/lib/python3.7/site-packages/sklearn/metrics/_classification.py:1248: UndefinedMetricWarning: Precision is ill-defined and being set to 0.0 due to no predicted samples. Use `zero_division` parameter to control this behavior.\n",
      "  _warn_prf(average, modifier, msg_start, len(result))\n",
      "/home/pgomes/.virtualenvs/blu15/lib/python3.7/site-packages/sklearn/metrics/_classification.py:1248: UndefinedMetricWarning: Precision is ill-defined and being set to 0.0 due to no predicted samples. Use `zero_division` parameter to control this behavior.\n",
      "  _warn_prf(average, modifier, msg_start, len(result))\n",
      "/home/pgomes/.virtualenvs/blu15/lib/python3.7/site-packages/sklearn/metrics/_classification.py:1248: UndefinedMetricWarning: Precision is ill-defined and being set to 0.0 due to no predicted samples. Use `zero_division` parameter to control this behavior.\n",
      "  _warn_prf(average, modifier, msg_start, len(result))\n",
      "/home/pgomes/.virtualenvs/blu15/lib/python3.7/site-packages/sklearn/metrics/_classification.py:1248: UndefinedMetricWarning: Precision is ill-defined and being set to 0.0 due to no predicted samples. Use `zero_division` parameter to control this behavior.\n",
      "  _warn_prf(average, modifier, msg_start, len(result))\n"
     ]
    },
    {
     "name": "stdout",
     "output_type": "stream",
     "text": [
      "[CV 1/5] END class_weight=None, max_depth=None, n_estimators=250;, score=0.600 total time=  55.6s\n",
      "[CV 5/5] END class_weight=None, max_depth=None, n_estimators=500;, score=0.600 total time= 1.9min\n",
      "[CV 5/5] END class_weight=None, max_depth=5, n_estimators=250;, score=0.000 total time=  13.8s\n",
      "[CV 3/5] END class_weight=None, max_depth=5, n_estimators=500;, score=0.000 total time=  27.9s\n",
      "[CV 1/5] END class_weight=None, max_depth=5, n_estimators=1000;, score=0.000 total time=  58.3s\n",
      "[CV 4/5] END class_weight=None, max_depth=5, n_estimators=1000;, score=0.000 total time=  56.1s\n",
      "[CV 1/5] END class_weight=None, max_depth=10, n_estimators=500;, score=0.000 total time=  58.3s\n",
      "[CV 4/5] END class_weight=None, max_depth=10, n_estimators=1000;, score=0.000 total time= 1.9min\n",
      "[CV 2/5] END class_weight=None, max_depth=15, n_estimators=1000;, score=0.667 total time= 2.6min\n",
      "[CV 2/5] END class_weight=balanced, max_depth=None, n_estimators=500;, score=0.600 total time= 2.0min\n",
      "[CV 5/5] END class_weight=balanced, max_depth=None, n_estimators=1000;, score=0.500 total time= 4.3min\n",
      "[CV 4/5] END class_weight=balanced, max_depth=10, n_estimators=1000;, score=0.179 total time= 1.8min\n",
      "[CV 2/5] END class_weight=balanced, max_depth=15, n_estimators=1000;, score=0.204 total time= 2.4min\n"
     ]
    },
    {
     "name": "stderr",
     "output_type": "stream",
     "text": [
      "/home/pgomes/.virtualenvs/blu15/lib/python3.7/site-packages/sklearn/metrics/_classification.py:1248: UndefinedMetricWarning: Precision is ill-defined and being set to 0.0 due to no predicted samples. Use `zero_division` parameter to control this behavior.\n",
      "  _warn_prf(average, modifier, msg_start, len(result))\n",
      "/home/pgomes/.virtualenvs/blu15/lib/python3.7/site-packages/sklearn/metrics/_classification.py:1248: UndefinedMetricWarning: Precision is ill-defined and being set to 0.0 due to no predicted samples. Use `zero_division` parameter to control this behavior.\n",
      "  _warn_prf(average, modifier, msg_start, len(result))\n"
     ]
    },
    {
     "name": "stdout",
     "output_type": "stream",
     "text": [
      "[CV 3/5] END class_weight=None, max_depth=None, n_estimators=500;, score=0.889 total time= 1.9min\n",
      "[CV 5/5] END class_weight=None, max_depth=None, n_estimators=1000;, score=0.600 total time= 4.3min\n",
      "[CV 3/5] END class_weight=None, max_depth=10, n_estimators=1000;, score=0.000 total time= 1.9min\n",
      "[CV 5/5] END class_weight=None, max_depth=15, n_estimators=500;, score=0.000 total time= 1.4min\n",
      "[CV 3/5] END class_weight=balanced, max_depth=None, n_estimators=250;, score=0.800 total time= 1.0min\n",
      "[CV 1/5] END class_weight=balanced, max_depth=None, n_estimators=500;, score=0.667 total time= 2.0min\n",
      "[CV 4/5] END class_weight=balanced, max_depth=None, n_estimators=1000;, score=1.000 total time= 4.4min\n",
      "[CV 3/5] END class_weight=balanced, max_depth=10, n_estimators=1000;, score=0.188 total time= 1.8min\n",
      "[CV 1/5] END class_weight=balanced, max_depth=15, n_estimators=1000;, score=0.195 total time= 2.5min\n",
      "[CV 3/5] END class_weight=None, max_depth=None, n_estimators=250;, score=0.889 total time=  55.5s\n",
      "[CV 1/5] END class_weight=None, max_depth=None, n_estimators=1000;, score=0.556 total time= 4.3min\n",
      "[CV 4/5] END class_weight=None, max_depth=10, n_estimators=250;, score=0.000 total time=  27.0s\n",
      "[CV 4/5] END class_weight=None, max_depth=10, n_estimators=500;, score=0.000 total time=  56.9s\n",
      "[CV 1/5] END class_weight=None, max_depth=15, n_estimators=250;, score=1.000 total time=  42.1s\n",
      "[CV 4/5] END class_weight=None, max_depth=15, n_estimators=250;, score=1.000 total time=  43.7s\n",
      "[CV 3/5] END class_weight=None, max_depth=15, n_estimators=500;, score=0.000 total time= 1.4min\n",
      "[CV 2/5] END class_weight=balanced, max_depth=None, n_estimators=250;, score=0.600 total time= 1.0min\n",
      "[CV 5/5] END class_weight=balanced, max_depth=None, n_estimators=250;, score=0.600 total time=  58.6s\n",
      "[CV 2/5] END class_weight=balanced, max_depth=None, n_estimators=1000;, score=0.750 total time= 4.5min\n",
      "[CV 2/5] END class_weight=balanced, max_depth=10, n_estimators=250;, score=0.180 total time=  27.2s\n",
      "[CV 2/5] END class_weight=balanced, max_depth=10, n_estimators=500;, score=0.179 total time=  54.9s\n",
      "[CV 5/5] END class_weight=balanced, max_depth=10, n_estimators=1000;, score=0.189 total time= 1.9min\n",
      "[CV 3/5] END class_weight=balanced, max_depth=15, n_estimators=1000;, score=0.217 total time= 2.4min\n"
     ]
    },
    {
     "name": "stderr",
     "output_type": "stream",
     "text": [
      "/home/pgomes/.virtualenvs/blu15/lib/python3.7/site-packages/sklearn/metrics/_classification.py:1248: UndefinedMetricWarning: Precision is ill-defined and being set to 0.0 due to no predicted samples. Use `zero_division` parameter to control this behavior.\n",
      "  _warn_prf(average, modifier, msg_start, len(result))\n",
      "/home/pgomes/.virtualenvs/blu15/lib/python3.7/site-packages/sklearn/metrics/_classification.py:1248: UndefinedMetricWarning: Precision is ill-defined and being set to 0.0 due to no predicted samples. Use `zero_division` parameter to control this behavior.\n",
      "  _warn_prf(average, modifier, msg_start, len(result))\n",
      "/home/pgomes/.virtualenvs/blu15/lib/python3.7/site-packages/sklearn/metrics/_classification.py:1248: UndefinedMetricWarning: Precision is ill-defined and being set to 0.0 due to no predicted samples. Use `zero_division` parameter to control this behavior.\n",
      "  _warn_prf(average, modifier, msg_start, len(result))\n"
     ]
    },
    {
     "name": "stdout",
     "output_type": "stream",
     "text": [
      "[CV 5/5] END class_weight=None, max_depth=None, n_estimators=250;, score=0.600 total time=  55.3s\n",
      "[CV 2/5] END class_weight=None, max_depth=None, n_estimators=1000;, score=0.800 total time= 4.2min\n",
      "[CV 3/5] END class_weight=None, max_depth=10, n_estimators=250;, score=0.000 total time=  27.6s\n",
      "[CV 3/5] END class_weight=None, max_depth=10, n_estimators=500;, score=0.000 total time=  57.0s\n",
      "[CV 5/5] END class_weight=None, max_depth=10, n_estimators=1000;, score=0.000 total time= 2.0min\n",
      "[CV 3/5] END class_weight=None, max_depth=15, n_estimators=1000;, score=0.000 total time= 2.7min\n",
      "[CV 4/5] END class_weight=balanced, max_depth=None, n_estimators=500;, score=1.000 total time= 2.0min\n",
      "[CV 3/5] END class_weight=balanced, max_depth=5, n_estimators=250;, score=0.177 total time=  14.5s\n",
      "[CV 1/5] END class_weight=balanced, max_depth=5, n_estimators=500;, score=0.166 total time=  27.7s\n",
      "[CV 4/5] END class_weight=balanced, max_depth=5, n_estimators=500;, score=0.168 total time=  28.1s\n",
      "[CV 2/5] END class_weight=balanced, max_depth=5, n_estimators=1000;, score=0.173 total time=  57.5s\n",
      "[CV 5/5] END class_weight=balanced, max_depth=5, n_estimators=1000;, score=0.181 total time=  57.4s\n",
      "[CV 4/5] END class_weight=balanced, max_depth=10, n_estimators=500;, score=0.179 total time=  57.0s\n",
      "[CV 3/5] END class_weight=balanced, max_depth=15, n_estimators=250;, score=0.217 total time=  38.4s\n",
      "[CV 1/5] END class_weight=balanced, max_depth=15, n_estimators=500;, score=0.195 total time= 1.4min\n",
      "[CV 4/5] END class_weight=balanced, max_depth=15, n_estimators=1000;, score=0.213 total time= 2.2min\n"
     ]
    },
    {
     "name": "stderr",
     "output_type": "stream",
     "text": [
      "/home/pgomes/.virtualenvs/blu15/lib/python3.7/site-packages/sklearn/metrics/_classification.py:1248: UndefinedMetricWarning: Precision is ill-defined and being set to 0.0 due to no predicted samples. Use `zero_division` parameter to control this behavior.\n",
      "  _warn_prf(average, modifier, msg_start, len(result))\n",
      "/home/pgomes/.virtualenvs/blu15/lib/python3.7/site-packages/sklearn/metrics/_classification.py:1248: UndefinedMetricWarning: Precision is ill-defined and being set to 0.0 due to no predicted samples. Use `zero_division` parameter to control this behavior.\n",
      "  _warn_prf(average, modifier, msg_start, len(result))\n",
      "/home/pgomes/.virtualenvs/blu15/lib/python3.7/site-packages/sklearn/metrics/_classification.py:1248: UndefinedMetricWarning: Precision is ill-defined and being set to 0.0 due to no predicted samples. Use `zero_division` parameter to control this behavior.\n",
      "  _warn_prf(average, modifier, msg_start, len(result))\n",
      "/home/pgomes/.virtualenvs/blu15/lib/python3.7/site-packages/sklearn/metrics/_classification.py:1248: UndefinedMetricWarning: Precision is ill-defined and being set to 0.0 due to no predicted samples. Use `zero_division` parameter to control this behavior.\n",
      "  _warn_prf(average, modifier, msg_start, len(result))\n",
      "/home/pgomes/.virtualenvs/blu15/lib/python3.7/site-packages/sklearn/metrics/_classification.py:1248: UndefinedMetricWarning: Precision is ill-defined and being set to 0.0 due to no predicted samples. Use `zero_division` parameter to control this behavior.\n",
      "  _warn_prf(average, modifier, msg_start, len(result))\n",
      "/home/pgomes/.virtualenvs/blu15/lib/python3.7/site-packages/sklearn/metrics/_classification.py:1248: UndefinedMetricWarning: Precision is ill-defined and being set to 0.0 due to no predicted samples. Use `zero_division` parameter to control this behavior.\n",
      "  _warn_prf(average, modifier, msg_start, len(result))\n",
      "/home/pgomes/.virtualenvs/blu15/lib/python3.7/site-packages/sklearn/metrics/_classification.py:1248: UndefinedMetricWarning: Precision is ill-defined and being set to 0.0 due to no predicted samples. Use `zero_division` parameter to control this behavior.\n",
      "  _warn_prf(average, modifier, msg_start, len(result))\n",
      "/home/pgomes/.virtualenvs/blu15/lib/python3.7/site-packages/sklearn/metrics/_classification.py:1248: UndefinedMetricWarning: Precision is ill-defined and being set to 0.0 due to no predicted samples. Use `zero_division` parameter to control this behavior.\n",
      "  _warn_prf(average, modifier, msg_start, len(result))\n",
      "/home/pgomes/.virtualenvs/blu15/lib/python3.7/site-packages/sklearn/metrics/_classification.py:1248: UndefinedMetricWarning: Precision is ill-defined and being set to 0.0 due to no predicted samples. Use `zero_division` parameter to control this behavior.\n",
      "  _warn_prf(average, modifier, msg_start, len(result))\n",
      "/home/pgomes/.virtualenvs/blu15/lib/python3.7/site-packages/sklearn/metrics/_classification.py:1248: UndefinedMetricWarning: Precision is ill-defined and being set to 0.0 due to no predicted samples. Use `zero_division` parameter to control this behavior.\n",
      "  _warn_prf(average, modifier, msg_start, len(result))\n",
      "/home/pgomes/.virtualenvs/blu15/lib/python3.7/site-packages/sklearn/metrics/_classification.py:1248: UndefinedMetricWarning: Precision is ill-defined and being set to 0.0 due to no predicted samples. Use `zero_division` parameter to control this behavior.\n",
      "  _warn_prf(average, modifier, msg_start, len(result))\n",
      "/home/pgomes/.virtualenvs/blu15/lib/python3.7/site-packages/sklearn/metrics/_classification.py:1248: UndefinedMetricWarning: Precision is ill-defined and being set to 0.0 due to no predicted samples. Use `zero_division` parameter to control this behavior.\n",
      "  _warn_prf(average, modifier, msg_start, len(result))\n",
      "/home/pgomes/.virtualenvs/blu15/lib/python3.7/site-packages/sklearn/metrics/_classification.py:1248: UndefinedMetricWarning: Precision is ill-defined and being set to 0.0 due to no predicted samples. Use `zero_division` parameter to control this behavior.\n",
      "  _warn_prf(average, modifier, msg_start, len(result))\n",
      "/home/pgomes/.virtualenvs/blu15/lib/python3.7/site-packages/sklearn/metrics/_classification.py:1248: UndefinedMetricWarning: Precision is ill-defined and being set to 0.0 due to no predicted samples. Use `zero_division` parameter to control this behavior.\n",
      "  _warn_prf(average, modifier, msg_start, len(result))\n",
      "/home/pgomes/.virtualenvs/blu15/lib/python3.7/site-packages/sklearn/metrics/_classification.py:1248: UndefinedMetricWarning: Precision is ill-defined and being set to 0.0 due to no predicted samples. Use `zero_division` parameter to control this behavior.\n",
      "  _warn_prf(average, modifier, msg_start, len(result))\n",
      "/home/pgomes/.virtualenvs/blu15/lib/python3.7/site-packages/sklearn/metrics/_classification.py:1248: UndefinedMetricWarning: Precision is ill-defined and being set to 0.0 due to no predicted samples. Use `zero_division` parameter to control this behavior.\n",
      "  _warn_prf(average, modifier, msg_start, len(result))\n"
     ]
    },
    {
     "name": "stdout",
     "output_type": "stream",
     "text": [
      "[CV 1/5] END class_weight=None, max_depth=None, n_estimators=500;, score=0.600 total time= 1.9min\n",
      "[CV 1/5] END class_weight=None, max_depth=5, n_estimators=250;, score=0.000 total time=  15.0s\n",
      "[CV 2/5] END class_weight=None, max_depth=5, n_estimators=250;, score=0.000 total time=  13.6s\n",
      "[CV 3/5] END class_weight=None, max_depth=5, n_estimators=250;, score=0.000 total time=  13.5s\n",
      "[CV 4/5] END class_weight=None, max_depth=5, n_estimators=250;, score=0.000 total time=  13.1s\n",
      "[CV 2/5] END class_weight=None, max_depth=5, n_estimators=500;, score=0.000 total time=  27.3s\n",
      "[CV 5/5] END class_weight=None, max_depth=5, n_estimators=500;, score=0.000 total time=  28.6s\n",
      "[CV 3/5] END class_weight=None, max_depth=5, n_estimators=1000;, score=0.000 total time= 1.0min\n",
      "[CV 1/5] END class_weight=None, max_depth=10, n_estimators=250;, score=0.000 total time=  28.6s\n",
      "[CV 5/5] END class_weight=None, max_depth=10, n_estimators=250;, score=0.000 total time=  26.4s\n",
      "[CV 5/5] END class_weight=None, max_depth=10, n_estimators=500;, score=0.000 total time=  57.4s\n",
      "[CV 3/5] END class_weight=None, max_depth=15, n_estimators=250;, score=0.000 total time=  40.8s\n",
      "[CV 1/5] END class_weight=None, max_depth=15, n_estimators=500;, score=1.000 total time= 1.4min\n",
      "[CV 4/5] END class_weight=None, max_depth=15, n_estimators=1000;, score=0.000 total time= 2.6min\n",
      "[CV 5/5] END class_weight=balanced, max_depth=None, n_estimators=500;, score=0.250 total time= 2.1min\n",
      "[CV 4/5] END class_weight=balanced, max_depth=5, n_estimators=250;, score=0.166 total time=  14.4s\n",
      "[CV 2/5] END class_weight=balanced, max_depth=5, n_estimators=500;, score=0.174 total time=  28.5s\n",
      "[CV 5/5] END class_weight=balanced, max_depth=5, n_estimators=500;, score=0.181 total time=  27.4s\n",
      "[CV 3/5] END class_weight=balanced, max_depth=5, n_estimators=1000;, score=0.176 total time=  57.1s\n",
      "[CV 1/5] END class_weight=balanced, max_depth=10, n_estimators=250;, score=0.175 total time=  27.3s\n",
      "[CV 5/5] END class_weight=balanced, max_depth=10, n_estimators=250;, score=0.189 total time=  26.6s\n",
      "[CV 1/5] END class_weight=balanced, max_depth=10, n_estimators=1000;, score=0.176 total time= 1.9min\n",
      "[CV 2/5] END class_weight=balanced, max_depth=15, n_estimators=500;, score=0.202 total time= 1.3min\n",
      "[CV 5/5] END class_weight=balanced, max_depth=15, n_estimators=1000;, score=0.216 total time= 2.0min\n"
     ]
    }
   ],
   "source": [
    "print(grid_search.best_score_, grid_search.best_params_)\n",
    "\n",
    "y_pred_test = grid_search.predict(pipe.transform(X_test))\n",
    "y_pred_train = grid_search.predict(X_train_tf)\n",
    "\n",
    "print(classification_report(y_test, y_pred_test))\n",
    "\n",
    "print('Accuracy:', accuracy_score(y_train, y_pred_train))\n",
    "print('Precision:', precision_score(y_train, y_pred_train))\n",
    "print('Recall:', recall_score(y_train, y_pred_train))\n",
    "print('F1-Score:', f1_score(y_train, y_pred_train))\n",
    "print('\\n')\n",
    "print('Accuracy:', accuracy_score(y_test, y_pred_test))\n",
    "print('Precision:', precision_score(y_test, y_pred_test))\n",
    "print('Recall:', recall_score(y_test, y_pred_test))\n",
    "print('F1-Score:', f1_score(y_test, y_pred_test))"
   ]
  },
  {
   "cell_type": "code",
   "execution_count": null,
   "id": "c2a2444f",
   "metadata": {},
   "outputs": [],
   "source": [
    "%config"
   ]
  },
  {
   "cell_type": "markdown",
   "id": "87c88f34",
   "metadata": {},
   "source": [
    "## Grid search for best F1 Score"
   ]
  },
  {
   "cell_type": "code",
   "execution_count": 42,
   "id": "39e167d3",
   "metadata": {},
   "outputs": [
    {
     "name": "stdout",
     "output_type": "stream",
     "text": [
      "Fitting 5 folds for each of 24 candidates, totalling 120 fits\n"
     ]
    },
    {
     "data": {
      "text/plain": [
       "GridSearchCV(cv=5, estimator=RandomForestClassifier(random_state=42), n_jobs=-1,\n",
       "             param_grid={'class_weight': [None, 'balanced'],\n",
       "                         'max_depth': [None, 5, 10, 15],\n",
       "                         'n_estimators': [250, 500, 1000]},\n",
       "             scoring='f1', verbose=5)"
      ]
     },
     "execution_count": 42,
     "metadata": {},
     "output_type": "execute_result"
    }
   ],
   "source": [
    "%timeit\n",
    "\n",
    "clf = RandomForestClassifier(random_state = 42)\n",
    "\n",
    "param_grid = { 'n_estimators' : [250, 500, 1000],\n",
    "               'max_depth' : [None, 5, 10, 15],\n",
    "               'class_weight' : [None, 'balanced']\n",
    "}\n",
    "\n",
    "grid_search = GridSearchCV(clf, \n",
    "                           param_grid,\n",
    "                           cv = 5, \n",
    "                           n_jobs = -1, \n",
    "                           scoring = 'f1',\n",
    "                           verbose = 5)\n",
    "\n",
    "grid_search.fit(X_train_tf, y_train)"
   ]
  },
  {
   "cell_type": "code",
   "execution_count": 43,
   "id": "217a7cab",
   "metadata": {},
   "outputs": [
    {
     "name": "stdout",
     "output_type": "stream",
     "text": [
      "0.27226852931023593 {'class_weight': 'balanced', 'max_depth': 10, 'n_estimators': 1000}\n",
      "[CV 1/5] END class_weight=None, max_depth=None, n_estimators=500;, score=0.008 total time= 1.9min\n",
      "[CV 4/5] END class_weight=None, max_depth=None, n_estimators=1000;, score=0.008 total time= 4.1min\n",
      "[CV 2/5] END class_weight=None, max_depth=10, n_estimators=1000;, score=0.000 total time= 1.8min\n",
      "[CV 5/5] END class_weight=None, max_depth=15, n_estimators=500;, score=0.000 total time= 1.3min\n",
      "[CV 3/5] END class_weight=balanced, max_depth=None, n_estimators=250;, score=0.006 total time= 1.0min\n",
      "[CV 1/5] END class_weight=balanced, max_depth=None, n_estimators=500;, score=0.006 total time= 2.0min\n",
      "[CV 4/5] END class_weight=balanced, max_depth=None, n_estimators=1000;, score=0.001 total time= 4.3min\n",
      "[CV 2/5] END class_weight=balanced, max_depth=10, n_estimators=1000;, score=0.270 total time= 1.8min\n",
      "[CV 4/5] END class_weight=balanced, max_depth=15, n_estimators=500;, score=0.242 total time= 1.3min\n",
      "[CV 4/5] END class_weight=None, max_depth=None, n_estimators=250;, score=0.007 total time=  56.2s\n",
      "[CV 5/5] END class_weight=None, max_depth=None, n_estimators=500;, score=0.008 total time= 1.9min\n",
      "[CV 2/5] END class_weight=None, max_depth=5, n_estimators=500;, score=0.000 total time=  27.6s\n",
      "[CV 5/5] END class_weight=None, max_depth=5, n_estimators=500;, score=0.000 total time=  28.5s\n",
      "[CV 3/5] END class_weight=None, max_depth=5, n_estimators=1000;, score=0.000 total time=  57.2s\n",
      "[CV 1/5] END class_weight=None, max_depth=10, n_estimators=250;, score=0.000 total time=  27.7s\n",
      "[CV 5/5] END class_weight=None, max_depth=10, n_estimators=250;, score=0.000 total time=  26.6s\n",
      "[CV 1/5] END class_weight=None, max_depth=10, n_estimators=1000;, score=0.000 total time= 1.8min\n",
      "[CV 2/5] END class_weight=None, max_depth=15, n_estimators=500;, score=0.003 total time= 1.3min\n",
      "[CV 5/5] END class_weight=None, max_depth=15, n_estimators=1000;, score=0.000 total time= 2.6min\n",
      "[CV 3/5] END class_weight=balanced, max_depth=None, n_estimators=1000;, score=0.006 total time= 4.3min\n",
      "[CV 4/5] END class_weight=balanced, max_depth=10, n_estimators=250;, score=0.267 total time=  26.8s\n",
      "[CV 5/5] END class_weight=balanced, max_depth=10, n_estimators=500;, score=0.280 total time=  54.0s\n",
      "[CV 2/5] END class_weight=balanced, max_depth=15, n_estimators=250;, score=0.242 total time=  38.0s\n",
      "[CV 4/5] END class_weight=balanced, max_depth=15, n_estimators=250;, score=0.245 total time=  39.3s\n",
      "[CV 3/5] END class_weight=balanced, max_depth=15, n_estimators=500;, score=0.258 total time= 1.4min\n",
      "[CV 1/5] END class_weight=None, max_depth=None, n_estimators=250;, score=0.008 total time=  56.8s\n",
      "[CV 1/5] END class_weight=None, max_depth=None, n_estimators=1000;, score=0.007 total time= 4.0min\n",
      "[CV 3/5] END class_weight=None, max_depth=10, n_estimators=250;, score=0.000 total time=  27.7s\n",
      "[CV 3/5] END class_weight=None, max_depth=10, n_estimators=500;, score=0.000 total time=  55.4s\n",
      "[CV 1/5] END class_weight=None, max_depth=15, n_estimators=250;, score=0.001 total time=  40.5s\n",
      "[CV 4/5] END class_weight=None, max_depth=15, n_estimators=250;, score=0.001 total time=  40.7s\n",
      "[CV 3/5] END class_weight=None, max_depth=15, n_estimators=500;, score=0.000 total time= 1.3min\n",
      "[CV 1/5] END class_weight=balanced, max_depth=None, n_estimators=250;, score=0.006 total time= 1.0min\n",
      "[CV 4/5] END class_weight=balanced, max_depth=None, n_estimators=250;, score=0.006 total time=  58.4s\n",
      "[CV 5/5] END class_weight=balanced, max_depth=None, n_estimators=500;, score=0.001 total time= 2.1min\n",
      "[CV 4/5] END class_weight=balanced, max_depth=5, n_estimators=250;, score=0.262 total time=  15.6s\n",
      "[CV 2/5] END class_weight=balanced, max_depth=5, n_estimators=500;, score=0.271 total time=  27.9s\n",
      "[CV 5/5] END class_weight=balanced, max_depth=5, n_estimators=500;, score=0.281 total time=  27.8s\n",
      "[CV 3/5] END class_weight=balanced, max_depth=5, n_estimators=1000;, score=0.275 total time=  57.3s\n",
      "[CV 1/5] END class_weight=balanced, max_depth=10, n_estimators=250;, score=0.259 total time=  26.8s\n",
      "[CV 3/5] END class_weight=balanced, max_depth=10, n_estimators=250;, score=0.279 total time=  26.2s\n",
      "[CV 4/5] END class_weight=balanced, max_depth=10, n_estimators=500;, score=0.269 total time=  55.7s\n",
      "[CV 1/5] END class_weight=balanced, max_depth=15, n_estimators=250;, score=0.234 total time=  39.8s\n",
      "[CV 5/5] END class_weight=balanced, max_depth=15, n_estimators=250;, score=0.256 total time=  40.6s\n",
      "[CV 5/5] END class_weight=balanced, max_depth=15, n_estimators=500;, score=0.254 total time= 1.4min\n",
      "              precision    recall  f1-score   support\n",
      "\n",
      "       False       0.92      0.68      0.79     14469\n",
      "        True       0.18      0.55      0.27      1814\n",
      "\n",
      "    accuracy                           0.67     16283\n",
      "   macro avg       0.55      0.62      0.53     16283\n",
      "weighted avg       0.84      0.67      0.73     16283\n",
      "\n",
      "Accuracy: 0.6927321772639692\n",
      "Precision: 0.21207451389203644\n",
      "Recall: 0.6472541153686541\n",
      "F1-Score: 0.31947289362283215\n",
      "\n",
      "\n",
      "Accuracy: 0.6687342627279985\n",
      "Precision: 0.17840459935321595\n",
      "Recall: 0.5474090407938258\n",
      "F1-Score: 0.26910569105691057\n"
     ]
    }
   ],
   "source": [
    "print(grid_search.best_score_, grid_search.best_params_)\n",
    "\n",
    "y_pred_test = grid_search.predict(pipe.transform(X_test))\n",
    "y_pred_train = grid_search.predict(X_train_tf)\n",
    "\n",
    "print(classification_report(y_test, y_pred_test))\n",
    "\n",
    "print('Accuracy:', accuracy_score(y_train, y_pred_train))\n",
    "print('Precision:', precision_score(y_train, y_pred_train))\n",
    "print('Recall:', recall_score(y_train, y_pred_train))\n",
    "print('F1-Score:', f1_score(y_train, y_pred_train))\n",
    "print('\\n')\n",
    "print('Accuracy:', accuracy_score(y_test, y_pred_test))\n",
    "print('Precision:', precision_score(y_test, y_pred_test))\n",
    "print('Recall:', recall_score(y_test, y_pred_test))\n",
    "print('F1-Score:', f1_score(y_test, y_pred_test))"
   ]
  },
  {
   "cell_type": "code",
   "execution_count": 44,
   "id": "f92ccf8c",
   "metadata": {},
   "outputs": [
    {
     "data": {
      "image/png": "[encoded data removed]",
      "text/plain": [
       "<Figure size 288x216 with 1 Axes>"
      ]
     },
     "metadata": {
      "needs_background": "light"
     },
     "output_type": "display_data"
    },
    {
     "name": "stdout",
     "output_type": "stream",
     "text": [
      "[CV 5/5] END class_weight=None, max_depth=None, n_estimators=250;, score=0.012 total time=  56.6s\n",
      "[CV 2/5] END class_weight=None, max_depth=None, n_estimators=1000;, score=0.006 total time= 4.0min\n",
      "[CV 2/5] END class_weight=None, max_depth=10, n_estimators=250;, score=0.000 total time=  27.7s\n",
      "[CV 2/5] END class_weight=None, max_depth=10, n_estimators=500;, score=0.000 total time=  54.5s\n",
      "[CV 5/5] END class_weight=None, max_depth=10, n_estimators=1000;, score=0.000 total time= 1.9min\n",
      "[CV 3/5] END class_weight=None, max_depth=15, n_estimators=1000;, score=0.000 total time= 2.7min\n",
      "[CV 4/5] END class_weight=balanced, max_depth=None, n_estimators=500;, score=0.003 total time= 2.0min\n",
      "[CV 2/5] END class_weight=balanced, max_depth=5, n_estimators=250;, score=0.268 total time=  14.2s\n",
      "[CV 5/5] END class_weight=balanced, max_depth=5, n_estimators=250;, score=0.281 total time=  13.9s\n",
      "[CV 3/5] END class_weight=balanced, max_depth=5, n_estimators=500;, score=0.276 total time=  27.6s\n",
      "[CV 1/5] END class_weight=balanced, max_depth=5, n_estimators=1000;, score=0.258 total time=  56.3s\n",
      "[CV 4/5] END class_weight=balanced, max_depth=5, n_estimators=1000;, score=0.263 total time=  56.6s\n",
      "[CV 1/5] END class_weight=balanced, max_depth=10, n_estimators=500;, score=0.259 total time=  53.2s\n",
      "[CV 3/5] END class_weight=balanced, max_depth=10, n_estimators=1000;, score=0.281 total time= 1.8min\n",
      "[CV 1/5] END class_weight=balanced, max_depth=15, n_estimators=1000;, score=0.229 total time= 2.3min\n",
      "[CV 2/5] END class_weight=None, max_depth=None, n_estimators=250;, score=0.007 total time=  54.9s\n",
      "[CV 4/5] END class_weight=None, max_depth=None, n_estimators=500;, score=0.004 total time= 1.9min\n",
      "[CV 1/5] END class_weight=None, max_depth=5, n_estimators=500;, score=0.000 total time=  27.9s\n",
      "[CV 4/5] END class_weight=None, max_depth=5, n_estimators=500;, score=0.000 total time=  27.7s\n",
      "[CV 2/5] END class_weight=None, max_depth=5, n_estimators=1000;, score=0.000 total time=  56.5s\n",
      "[CV 5/5] END class_weight=None, max_depth=5, n_estimators=1000;, score=0.000 total time=  56.9s\n",
      "[CV 5/5] END class_weight=None, max_depth=10, n_estimators=500;, score=0.000 total time=  53.2s\n",
      "[CV 3/5] END class_weight=None, max_depth=15, n_estimators=250;, score=0.000 total time=  38.2s\n",
      "[CV 5/5] END class_weight=None, max_depth=15, n_estimators=250;, score=0.000 total time=  37.7s\n",
      "[CV 4/5] END class_weight=None, max_depth=15, n_estimators=500;, score=0.001 total time= 1.3min\n",
      "[CV 2/5] END class_weight=balanced, max_depth=None, n_estimators=250;, score=0.004 total time= 1.0min\n",
      "[CV 5/5] END class_weight=balanced, max_depth=None, n_estimators=250;, score=0.004 total time=  59.5s\n",
      "[CV 1/5] END class_weight=balanced, max_depth=None, n_estimators=1000;, score=0.006 total time= 4.2min\n",
      "[CV 2/5] END class_weight=balanced, max_depth=10, n_estimators=250;, score=0.270 total time=  29.2s\n",
      "[CV 2/5] END class_weight=balanced, max_depth=10, n_estimators=500;, score=0.269 total time=  55.3s\n",
      "[CV 4/5] END class_weight=balanced, max_depth=10, n_estimators=1000;, score=0.269 total time= 1.9min\n",
      "[CV 2/5] END class_weight=balanced, max_depth=15, n_estimators=1000;, score=0.245 total time= 2.2min\n",
      "[CV 2/5] END class_weight=None, max_depth=None, n_estimators=500;, score=0.006 total time= 1.9min\n",
      "[CV 1/5] END class_weight=None, max_depth=5, n_estimators=250;, score=0.000 total time=  13.9s\n",
      "[CV 2/5] END class_weight=None, max_depth=5, n_estimators=250;, score=0.000 total time=  13.1s\n",
      "[CV 3/5] END class_weight=None, max_depth=5, n_estimators=250;, score=0.000 total time=  13.4s\n",
      "[CV 4/5] END class_weight=None, max_depth=5, n_estimators=250;, score=0.000 total time=  13.0s\n",
      "[CV 5/5] END class_weight=None, max_depth=5, n_estimators=250;, score=0.000 total time=  13.5s\n",
      "[CV 3/5] END class_weight=None, max_depth=5, n_estimators=500;, score=0.000 total time=  27.3s\n",
      "[CV 1/5] END class_weight=None, max_depth=5, n_estimators=1000;, score=0.000 total time=  56.7s\n",
      "[CV 4/5] END class_weight=None, max_depth=5, n_estimators=1000;, score=0.000 total time=  56.0s\n",
      "[CV 1/5] END class_weight=None, max_depth=10, n_estimators=500;, score=0.000 total time=  53.2s\n",
      "[CV 4/5] END class_weight=None, max_depth=10, n_estimators=1000;, score=0.000 total time= 1.8min\n",
      "[CV 2/5] END class_weight=None, max_depth=15, n_estimators=1000;, score=0.003 total time= 2.6min\n",
      "[CV 3/5] END class_weight=balanced, max_depth=None, n_estimators=500;, score=0.006 total time= 2.0min\n",
      "[CV 1/5] END class_weight=balanced, max_depth=5, n_estimators=250;, score=0.258 total time=  13.8s\n",
      "[CV 3/5] END class_weight=balanced, max_depth=5, n_estimators=250;, score=0.276 total time=  14.7s\n",
      "[CV 1/5] END class_weight=balanced, max_depth=5, n_estimators=500;, score=0.258 total time=  28.3s\n",
      "[CV 4/5] END class_weight=balanced, max_depth=5, n_estimators=500;, score=0.263 total time=  27.8s\n",
      "[CV 2/5] END class_weight=balanced, max_depth=5, n_estimators=1000;, score=0.271 total time=  56.7s\n",
      "[CV 5/5] END class_weight=balanced, max_depth=5, n_estimators=1000;, score=0.281 total time=  55.7s\n",
      "[CV 3/5] END class_weight=balanced, max_depth=10, n_estimators=500;, score=0.282 total time=  57.2s\n",
      "[CV 5/5] END class_weight=balanced, max_depth=10, n_estimators=1000;, score=0.279 total time= 1.8min\n",
      "[CV 3/5] END class_weight=balanced, max_depth=15, n_estimators=1000;, score=0.255 total time= 2.1min\n",
      "[CV 3/5] END class_weight=None, max_depth=None, n_estimators=500;, score=0.011 total time= 1.9min\n",
      "[CV 5/5] END class_weight=None, max_depth=None, n_estimators=1000;, score=0.008 total time= 4.2min\n",
      "[CV 3/5] END class_weight=None, max_depth=10, n_estimators=1000;, score=0.000 total time= 1.8min\n",
      "[CV 1/5] END class_weight=None, max_depth=15, n_estimators=1000;, score=0.001 total time= 2.7min\n",
      "[CV 2/5] END class_weight=balanced, max_depth=None, n_estimators=500;, score=0.004 total time= 2.0min\n",
      "[CV 5/5] END class_weight=balanced, max_depth=None, n_estimators=1000;, score=0.004 total time= 4.5min\n",
      "[CV 3/5] END class_weight=balanced, max_depth=15, n_estimators=250;, score=0.255 total time=  39.8s\n",
      "[CV 1/5] END class_weight=balanced, max_depth=15, n_estimators=500;, score=0.230 total time= 1.3min\n",
      "[CV 4/5] END class_weight=balanced, max_depth=15, n_estimators=1000;, score=0.249 total time= 2.0min\n",
      "[CV 3/5] END class_weight=None, max_depth=None, n_estimators=250;, score=0.011 total time=  57.9s\n",
      "[CV 3/5] END class_weight=None, max_depth=None, n_estimators=1000;, score=0.008 total time= 4.2min\n",
      "[CV 4/5] END class_weight=None, max_depth=10, n_estimators=250;, score=0.000 total time=  27.3s\n",
      "[CV 4/5] END class_weight=None, max_depth=10, n_estimators=500;, score=0.000 total time=  54.5s\n",
      "[CV 2/5] END class_weight=None, max_depth=15, n_estimators=250;, score=0.003 total time=  40.6s\n",
      "[CV 1/5] END class_weight=None, max_depth=15, n_estimators=500;, score=0.001 total time= 1.3min\n",
      "[CV 4/5] END class_weight=None, max_depth=15, n_estimators=1000;, score=0.000 total time= 2.7min\n",
      "[CV 2/5] END class_weight=balanced, max_depth=None, n_estimators=1000;, score=0.004 total time= 4.5min\n",
      "[CV 5/5] END class_weight=balanced, max_depth=10, n_estimators=250;, score=0.281 total time=  28.3s\n",
      "[CV 1/5] END class_weight=balanced, max_depth=10, n_estimators=1000;, score=0.262 total time= 1.8min\n",
      "[CV 2/5] END class_weight=balanced, max_depth=15, n_estimators=500;, score=0.244 total time= 1.4min\n",
      "[CV 5/5] END class_weight=balanced, max_depth=15, n_estimators=1000;, score=0.253 total time= 1.8min\n"
     ]
    }
   ],
   "source": [
    "cm = confusion_matrix(y_test, y_pred_test)\n",
    "\n",
    "plt.figure(figsize = (4,3))\n",
    "\n",
    "ax = plt.subplot()\n",
    "sns.heatmap(cm, annot = True, \n",
    "            fmt = 'g', \n",
    "            cmap = 'Blues',\n",
    "            ax = ax, cbar = False ); \n",
    "\n",
    "# labels, title and ticks\n",
    "ax.set_xlabel('Predicted labels');ax.set_ylabel('True labels'); \n",
    "# ax.set_title('Confusion Matrix'); \n",
    "ax.xaxis.set_ticklabels(['No', 'Yes']); ax.yaxis.set_ticklabels(['No', 'Yes']);"
   ]
  },
  {
   "cell_type": "markdown",
   "id": "cb29d2f3",
   "metadata": {},
   "source": [
    "## Grid Search for ROC-AUC"
   ]
  },
  {
   "cell_type": "code",
   "execution_count": 45,
   "id": "08b0a4d4",
   "metadata": {},
   "outputs": [
    {
     "name": "stdout",
     "output_type": "stream",
     "text": [
      "Fitting 5 folds for each of 24 candidates, totalling 120 fits\n"
     ]
    },
    {
     "data": {
      "text/plain": [
       "GridSearchCV(cv=5, estimator=RandomForestClassifier(random_state=42), n_jobs=-1,\n",
       "             param_grid={'class_weight': [None, 'balanced'],\n",
       "                         'max_depth': [None, 5, 10, 15],\n",
       "                         'n_estimators': [250, 500, 1000]},\n",
       "             scoring='roc_auc', verbose=5)"
      ]
     },
     "execution_count": 45,
     "metadata": {},
     "output_type": "execute_result"
    }
   ],
   "source": [
    "%timeit\n",
    "\n",
    "clf = RandomForestClassifier(random_state = 42)\n",
    "\n",
    "param_grid = { 'n_estimators' : [250, 500, 1000],\n",
    "               'max_depth' : [None, 5, 10, 15],\n",
    "               'class_weight' : [None, 'balanced']\n",
    "}\n",
    "\n",
    "grid_search = GridSearchCV(clf, \n",
    "                           param_grid,\n",
    "                           cv = 5, \n",
    "                           n_jobs = -1, \n",
    "                           scoring = 'roc_auc',\n",
    "                           verbose = 5)\n",
    "\n",
    "grid_search.fit(X_train_tf, y_train)"
   ]
  },
  {
   "cell_type": "code",
   "execution_count": 46,
   "id": "b2eca1f2",
   "metadata": {},
   "outputs": [
    {
     "name": "stdout",
     "output_type": "stream",
     "text": [
      "0.6688832164342958 {'class_weight': None, 'max_depth': 10, 'n_estimators': 1000}\n",
      "              precision    recall  f1-score   support\n",
      "\n",
      "       False       0.89      1.00      0.94     14469\n",
      "        True       0.00      0.00      0.00      1814\n",
      "\n",
      "    accuracy                           0.89     16283\n",
      "   macro avg       0.44      0.50      0.47     16283\n",
      "weighted avg       0.79      0.89      0.84     16283\n",
      "\n",
      "Accuracy: 0.8885703275529865\n",
      "Precision: 0.0\n",
      "Recall: 0.0\n",
      "F1-Score: 0.0\n",
      "\n",
      "\n",
      "Accuracy: 0.8885954676656636\n",
      "Precision: 0.0\n",
      "Recall: 0.0\n",
      "F1-Score: 0.0\n"
     ]
    },
    {
     "name": "stderr",
     "output_type": "stream",
     "text": [
      "/home/pgomes/.virtualenvs/blu15/lib/python3.7/site-packages/sklearn/metrics/_classification.py:1248: UndefinedMetricWarning: Precision and F-score are ill-defined and being set to 0.0 in labels with no predicted samples. Use `zero_division` parameter to control this behavior.\n",
      "  _warn_prf(average, modifier, msg_start, len(result))\n",
      "/home/pgomes/.virtualenvs/blu15/lib/python3.7/site-packages/sklearn/metrics/_classification.py:1248: UndefinedMetricWarning: Precision and F-score are ill-defined and being set to 0.0 in labels with no predicted samples. Use `zero_division` parameter to control this behavior.\n",
      "  _warn_prf(average, modifier, msg_start, len(result))\n",
      "/home/pgomes/.virtualenvs/blu15/lib/python3.7/site-packages/sklearn/metrics/_classification.py:1248: UndefinedMetricWarning: Precision and F-score are ill-defined and being set to 0.0 in labels with no predicted samples. Use `zero_division` parameter to control this behavior.\n",
      "  _warn_prf(average, modifier, msg_start, len(result))\n",
      "/home/pgomes/.virtualenvs/blu15/lib/python3.7/site-packages/sklearn/metrics/_classification.py:1248: UndefinedMetricWarning: Precision is ill-defined and being set to 0.0 due to no predicted samples. Use `zero_division` parameter to control this behavior.\n",
      "  _warn_prf(average, modifier, msg_start, len(result))\n",
      "/home/pgomes/.virtualenvs/blu15/lib/python3.7/site-packages/sklearn/metrics/_classification.py:1248: UndefinedMetricWarning: Precision is ill-defined and being set to 0.0 due to no predicted samples. Use `zero_division` parameter to control this behavior.\n",
      "  _warn_prf(average, modifier, msg_start, len(result))\n"
     ]
    },
    {
     "name": "stdout",
     "output_type": "stream",
     "text": [
      "[CV 2/5] END class_weight=None, max_depth=None, n_estimators=500;, score=0.654 total time= 1.8min\n",
      "[CV 1/5] END class_weight=None, max_depth=5, n_estimators=250;, score=0.648 total time=  12.9s\n",
      "[CV 2/5] END class_weight=None, max_depth=5, n_estimators=250;, score=0.667 total time=  13.1s\n",
      "[CV 3/5] END class_weight=None, max_depth=5, n_estimators=250;, score=0.671 total time=  12.9s\n",
      "[CV 4/5] END class_weight=None, max_depth=5, n_estimators=250;, score=0.655 total time=  13.5s\n",
      "[CV 5/5] END class_weight=None, max_depth=5, n_estimators=250;, score=0.673 total time=  15.7s\n",
      "[CV 3/5] END class_weight=None, max_depth=5, n_estimators=500;, score=0.671 total time=  28.7s\n",
      "[CV 1/5] END class_weight=None, max_depth=5, n_estimators=1000;, score=0.648 total time= 1.0min\n",
      "[CV 4/5] END class_weight=None, max_depth=5, n_estimators=1000;, score=0.656 total time=  58.3s\n",
      "[CV 1/5] END class_weight=None, max_depth=10, n_estimators=500;, score=0.654 total time= 1.0min\n",
      "[CV 4/5] END class_weight=None, max_depth=10, n_estimators=1000;, score=0.662 total time= 1.9min\n",
      "[CV 2/5] END class_weight=None, max_depth=15, n_estimators=1000;, score=0.673 total time= 2.6min\n",
      "[CV 3/5] END class_weight=balanced, max_depth=None, n_estimators=500;, score=0.654 total time= 2.1min\n",
      "[CV 1/5] END class_weight=balanced, max_depth=5, n_estimators=250;, score=0.652 total time=  15.1s\n",
      "[CV 2/5] END class_weight=balanced, max_depth=5, n_estimators=250;, score=0.661 total time=  15.5s\n",
      "[CV 4/5] END class_weight=balanced, max_depth=5, n_estimators=250;, score=0.653 total time=  14.6s\n",
      "[CV 2/5] END class_weight=balanced, max_depth=5, n_estimators=500;, score=0.662 total time=  29.2s\n",
      "[CV 5/5] END class_weight=balanced, max_depth=5, n_estimators=500;, score=0.678 total time=  29.0s\n",
      "[CV 3/5] END class_weight=balanced, max_depth=5, n_estimators=1000;, score=0.674 total time= 1.1min\n",
      "[CV 1/5] END class_weight=balanced, max_depth=10, n_estimators=250;, score=0.653 total time=  30.3s\n",
      "[CV 2/5] END class_weight=balanced, max_depth=10, n_estimators=250;, score=0.666 total time=  40.8s\n",
      "[CV 3/5] END class_weight=balanced, max_depth=10, n_estimators=500;, score=0.674 total time= 1.7min\n",
      "[CV 2/5] END class_weight=balanced, max_depth=15, n_estimators=250;, score=0.649 total time= 1.1min\n",
      "[CV 4/5] END class_weight=balanced, max_depth=15, n_estimators=250;, score=0.651 total time= 1.1min\n",
      "[CV 3/5] END class_weight=balanced, max_depth=15, n_estimators=500;, score=0.660 total time= 2.2min\n",
      "[CV 3/5] END class_weight=None, max_depth=None, n_estimators=500;, score=0.645 total time= 1.8min\n",
      "[CV 5/5] END class_weight=None, max_depth=None, n_estimators=1000;, score=0.659 total time= 4.4min\n",
      "[CV 2/5] END class_weight=None, max_depth=10, n_estimators=1000;, score=0.673 total time= 2.0min\n",
      "[CV 4/5] END class_weight=None, max_depth=15, n_estimators=500;, score=0.658 total time= 1.4min\n",
      "[CV 2/5] END class_weight=balanced, max_depth=None, n_estimators=250;, score=0.655 total time= 1.0min\n",
      "[CV 5/5] END class_weight=balanced, max_depth=None, n_estimators=250;, score=0.652 total time= 1.0min\n",
      "[CV 2/5] END class_weight=balanced, max_depth=None, n_estimators=1000;, score=0.657 total time= 4.8min\n",
      "[CV 3/5] END class_weight=balanced, max_depth=10, n_estimators=250;, score=0.672 total time=  50.3s\n",
      "[CV 5/5] END class_weight=balanced, max_depth=10, n_estimators=500;, score=0.677 total time= 1.5min\n",
      "[CV 1/5] END class_weight=balanced, max_depth=15, n_estimators=250;, score=0.643 total time= 1.1min\n",
      "[CV 5/5] END class_weight=balanced, max_depth=15, n_estimators=250;, score=0.658 total time= 1.1min\n",
      "[CV 4/5] END class_weight=balanced, max_depth=15, n_estimators=500;, score=0.652 total time= 2.3min\n",
      "[CV 3/5] END class_weight=None, max_depth=None, n_estimators=250;, score=0.642 total time=  57.5s\n",
      "[CV 3/5] END class_weight=None, max_depth=None, n_estimators=1000;, score=0.647 total time= 4.3min\n",
      "[CV 4/5] END class_weight=None, max_depth=10, n_estimators=250;, score=0.663 total time=  28.8s\n",
      "[CV 4/5] END class_weight=None, max_depth=10, n_estimators=500;, score=0.662 total time= 1.0min\n",
      "[CV 2/5] END class_weight=None, max_depth=15, n_estimators=250;, score=0.670 total time=  43.5s\n",
      "[CV 5/5] END class_weight=None, max_depth=15, n_estimators=250;, score=0.676 total time=  42.4s\n",
      "[CV 5/5] END class_weight=None, max_depth=15, n_estimators=500;, score=0.676 total time= 1.4min\n",
      "[CV 3/5] END class_weight=balanced, max_depth=None, n_estimators=250;, score=0.650 total time= 1.0min\n",
      "[CV 1/5] END class_weight=balanced, max_depth=None, n_estimators=500;, score=0.638 total time= 2.1min\n",
      "[CV 4/5] END class_weight=balanced, max_depth=None, n_estimators=1000;, score=0.645 total time= 5.2min\n",
      "[CV 2/5] END class_weight=balanced, max_depth=10, n_estimators=1000;, score=0.667 total time= 3.1min\n",
      "[CV 5/5] END class_weight=balanced, max_depth=15, n_estimators=500;, score=0.659 total time= 2.3min\n",
      "[CV 5/5] END class_weight=None, max_depth=None, n_estimators=250;, score=0.655 total time=  56.6s\n",
      "[CV 5/5] END class_weight=None, max_depth=None, n_estimators=500;, score=0.659 total time= 1.9min\n",
      "[CV 2/5] END class_weight=None, max_depth=5, n_estimators=500;, score=0.667 total time=  32.0s\n",
      "[CV 5/5] END class_weight=None, max_depth=5, n_estimators=500;, score=0.674 total time=  28.1s\n",
      "[CV 3/5] END class_weight=None, max_depth=5, n_estimators=1000;, score=0.671 total time= 1.0min\n",
      "[CV 1/5] END class_weight=None, max_depth=10, n_estimators=250;, score=0.654 total time=  34.2s\n",
      "[CV 5/5] END class_weight=None, max_depth=10, n_estimators=250;, score=0.680 total time=  28.3s\n",
      "[CV 1/5] END class_weight=None, max_depth=10, n_estimators=1000;, score=0.655 total time= 2.0min\n",
      "[CV 2/5] END class_weight=None, max_depth=15, n_estimators=500;, score=0.672 total time= 1.3min\n",
      "[CV 5/5] END class_weight=None, max_depth=15, n_estimators=1000;, score=0.679 total time= 2.6min\n",
      "[CV 3/5] END class_weight=balanced, max_depth=None, n_estimators=1000;, score=0.653 total time= 4.7min\n",
      "[CV 1/5] END class_weight=balanced, max_depth=10, n_estimators=500;, score=0.654 total time= 1.6min\n",
      "[CV 3/5] END class_weight=balanced, max_depth=10, n_estimators=1000;, score=0.674 total time= 3.1min\n",
      "[CV 1/5] END class_weight=balanced, max_depth=15, n_estimators=1000;, score=0.643 total time= 3.7min\n",
      "[CV 1/5] END class_weight=None, max_depth=None, n_estimators=500;, score=0.635 total time= 1.8min\n",
      "[CV 4/5] END class_weight=None, max_depth=None, n_estimators=1000;, score=0.639 total time= 4.4min\n",
      "[CV 3/5] END class_weight=None, max_depth=10, n_estimators=1000;, score=0.674 total time= 2.0min\n",
      "[CV 1/5] END class_weight=None, max_depth=15, n_estimators=1000;, score=0.655 total time= 2.7min\n",
      "[CV 2/5] END class_weight=balanced, max_depth=None, n_estimators=500;, score=0.657 total time= 2.1min\n",
      "[CV 5/5] END class_weight=balanced, max_depth=None, n_estimators=1000;, score=0.660 total time= 5.6min\n",
      "[CV 5/5] END class_weight=balanced, max_depth=10, n_estimators=1000;, score=0.677 total time= 3.0min\n",
      "[CV 3/5] END class_weight=balanced, max_depth=15, n_estimators=1000;, score=0.660 total time= 3.4min\n",
      "[CV 1/5] END class_weight=None, max_depth=None, n_estimators=250;, score=0.636 total time=  56.8s\n",
      "[CV 1/5] END class_weight=None, max_depth=None, n_estimators=1000;, score=0.636 total time= 4.3min\n",
      "[CV 2/5] END class_weight=None, max_depth=10, n_estimators=250;, score=0.671 total time=  28.9s\n",
      "[CV 3/5] END class_weight=None, max_depth=10, n_estimators=500;, score=0.673 total time=  56.6s\n",
      "[CV 5/5] END class_weight=None, max_depth=10, n_estimators=1000;, score=0.680 total time= 2.0min\n",
      "[CV 3/5] END class_weight=None, max_depth=15, n_estimators=1000;, score=0.672 total time= 2.7min\n",
      "[CV 4/5] END class_weight=balanced, max_depth=None, n_estimators=500;, score=0.644 total time= 2.2min\n",
      "[CV 3/5] END class_weight=balanced, max_depth=5, n_estimators=250;, score=0.674 total time=  15.5s\n",
      "[CV 1/5] END class_weight=balanced, max_depth=5, n_estimators=500;, score=0.652 total time=  28.7s\n",
      "[CV 4/5] END class_weight=balanced, max_depth=5, n_estimators=500;, score=0.654 total time=  29.4s\n",
      "[CV 2/5] END class_weight=balanced, max_depth=5, n_estimators=1000;, score=0.663 total time= 1.0min\n",
      "[CV 5/5] END class_weight=balanced, max_depth=5, n_estimators=1000;, score=0.678 total time= 1.1min\n",
      "[CV 2/5] END class_weight=balanced, max_depth=10, n_estimators=500;, score=0.666 total time= 1.5min\n",
      "[CV 4/5] END class_weight=balanced, max_depth=10, n_estimators=1000;, score=0.660 total time= 3.1min\n",
      "[CV 2/5] END class_weight=balanced, max_depth=15, n_estimators=1000;, score=0.652 total time= 3.5min\n"
     ]
    },
    {
     "name": "stdout",
     "output_type": "stream",
     "text": [
      "[CV 2/5] END class_weight=None, max_depth=None, n_estimators=250;, score=0.652 total time=  56.6s\n",
      "[CV 4/5] END class_weight=None, max_depth=None, n_estimators=500;, score=0.638 total time= 1.8min\n",
      "[CV 1/5] END class_weight=None, max_depth=5, n_estimators=500;, score=0.648 total time=  30.4s\n",
      "[CV 4/5] END class_weight=None, max_depth=5, n_estimators=500;, score=0.656 total time=  29.1s\n",
      "[CV 2/5] END class_weight=None, max_depth=5, n_estimators=1000;, score=0.668 total time= 1.0min\n",
      "[CV 5/5] END class_weight=None, max_depth=5, n_estimators=1000;, score=0.673 total time= 1.0min\n",
      "[CV 5/5] END class_weight=None, max_depth=10, n_estimators=500;, score=0.681 total time= 1.0min\n",
      "[CV 3/5] END class_weight=None, max_depth=15, n_estimators=250;, score=0.669 total time=  40.9s\n",
      "[CV 1/5] END class_weight=None, max_depth=15, n_estimators=500;, score=0.654 total time= 1.3min\n",
      "[CV 4/5] END class_weight=None, max_depth=15, n_estimators=1000;, score=0.660 total time= 2.6min\n",
      "[CV 5/5] END class_weight=balanced, max_depth=None, n_estimators=500;, score=0.657 total time= 2.2min\n",
      "[CV 5/5] END class_weight=balanced, max_depth=5, n_estimators=250;, score=0.678 total time=  14.9s\n",
      "[CV 3/5] END class_weight=balanced, max_depth=5, n_estimators=500;, score=0.675 total time=  29.0s\n",
      "[CV 1/5] END class_weight=balanced, max_depth=5, n_estimators=1000;, score=0.652 total time=  58.7s\n",
      "[CV 4/5] END class_weight=balanced, max_depth=5, n_estimators=1000;, score=0.654 total time= 1.1min\n",
      "[CV 4/5] END class_weight=balanced, max_depth=10, n_estimators=250;, score=0.659 total time=  46.5s\n",
      "[CV 4/5] END class_weight=balanced, max_depth=10, n_estimators=500;, score=0.659 total time= 1.6min\n",
      "[CV 3/5] END class_weight=balanced, max_depth=15, n_estimators=250;, score=0.658 total time= 1.1min\n",
      "[CV 1/5] END class_weight=balanced, max_depth=15, n_estimators=500;, score=0.642 total time= 2.2min\n",
      "[CV 4/5] END class_weight=balanced, max_depth=15, n_estimators=1000;, score=0.652 total time= 3.1min\n",
      "[CV 4/5] END class_weight=None, max_depth=None, n_estimators=250;, score=0.638 total time=  57.2s\n",
      "[CV 2/5] END class_weight=None, max_depth=None, n_estimators=1000;, score=0.654 total time= 4.3min\n",
      "[CV 3/5] END class_weight=None, max_depth=10, n_estimators=250;, score=0.673 total time=  28.1s\n",
      "[CV 2/5] END class_weight=None, max_depth=10, n_estimators=500;, score=0.672 total time= 1.0min\n",
      "[CV 1/5] END class_weight=None, max_depth=15, n_estimators=250;, score=0.652 total time=  43.5s\n",
      "[CV 4/5] END class_weight=None, max_depth=15, n_estimators=250;, score=0.657 total time=  42.6s\n",
      "[CV 3/5] END class_weight=None, max_depth=15, n_estimators=500;, score=0.670 total time= 1.4min\n",
      "[CV 1/5] END class_weight=balanced, max_depth=None, n_estimators=250;, score=0.637 total time= 1.0min\n",
      "[CV 4/5] END class_weight=balanced, max_depth=None, n_estimators=250;, score=0.644 total time= 1.0min\n",
      "[CV 1/5] END class_weight=balanced, max_depth=None, n_estimators=1000;, score=0.640 total time= 4.8min\n",
      "[CV 5/5] END class_weight=balanced, max_depth=10, n_estimators=250;, score=0.676 total time=  47.2s\n",
      "[CV 1/5] END class_weight=balanced, max_depth=10, n_estimators=1000;, score=0.654 total time= 3.2min\n",
      "[CV 2/5] END class_weight=balanced, max_depth=15, n_estimators=500;, score=0.650 total time= 2.3min\n",
      "[CV 5/5] END class_weight=balanced, max_depth=15, n_estimators=1000;, score=0.658 total time= 2.8min\n"
     ]
    }
   ],
   "source": [
    "print(grid_search.best_score_, grid_search.best_params_)\n",
    "\n",
    "y_pred_test = grid_search.predict(pipe.transform(X_test))\n",
    "y_pred_train = grid_search.predict(X_train_tf)\n",
    "\n",
    "print(classification_report(y_test, y_pred_test))\n",
    "\n",
    "print('Accuracy:', accuracy_score(y_train, y_pred_train))\n",
    "print('Precision:', precision_score(y_train, y_pred_train))\n",
    "print('Recall:', recall_score(y_train, y_pred_train))\n",
    "print('F1-Score:', f1_score(y_train, y_pred_train))\n",
    "print('\\n')\n",
    "print('Accuracy:', accuracy_score(y_test, y_pred_test))\n",
    "print('Precision:', precision_score(y_test, y_pred_test))\n",
    "print('Recall:', recall_score(y_test, y_pred_test))\n",
    "print('F1-Score:', f1_score(y_test, y_pred_test))"
   ]
  },
  {
   "cell_type": "code",
   "execution_count": 15,
   "id": "628b67f1",
   "metadata": {},
   "outputs": [],
   "source": [
    "# pd.Series(pipe['clf'].feature_importances_).sort_values(ascending = False)"
   ]
  },
  {
   "cell_type": "code",
   "execution_count": 115,
   "id": "7dbcf165",
   "metadata": {},
   "outputs": [
    {
     "data": {
      "image/png": "[encoded data removed]",
      "text/plain": [
       "<Figure size 432x288 with 1 Axes>"
      ]
     },
     "metadata": {
      "needs_background": "light"
     },
     "output_type": "display_data"
    }
   ],
   "source": [
    "precision, recall, thresholds = precision_recall_curve(y_test, y_pred_proba_test)\n",
    "\n",
    "precision = precision[:-1]\n",
    "recall = recall[:-1]\n",
    "\n",
    "plt.plot(thresholds,precision)\n",
    "plt.plot(thresholds,recall)\n",
    "plt.hlines(y=0.5,xmin=0, xmax=1, colors='red')\n",
    "plt.show()"
   ]
  },
  {
   "cell_type": "code",
   "execution_count": 116,
   "id": "e869cb41",
   "metadata": {},
   "outputs": [
    {
     "data": {
      "image/png": "[encoded data removed]",
      "text/plain": [
       "<Figure size 432x288 with 2 Axes>"
      ]
     },
     "metadata": {
      "needs_background": "light"
     },
     "output_type": "display_data"
    }
   ],
   "source": [
    "fig=plt.figure()\n",
    "ax1 = plt.subplot(211)\n",
    "ax2 = plt.subplot(212)\n",
    "ax1.hlines(y=0.5,xmin=0, xmax=1, colors='red')\n",
    "ax1.plot(thresholds,precision)\n",
    "ax2.plot(thresholds,recall)\n",
    "ax1.get_shared_x_axes().join(ax1, ax2)\n",
    "ax1.set_xticklabels([])\n",
    "plt.xlabel('Threshold')\n",
    "ax1.set_title('Precision')\n",
    "ax2.set_title('Recall')\n",
    "plt.show()"
   ]
  },
  {
   "cell_type": "markdown",
   "id": "b773e05c",
   "metadata": {},
   "source": [
    "### Discrimination Analysis"
   ]
  },
  {
   "cell_type": "code",
   "execution_count": 48,
   "id": "73e455d0",
   "metadata": {},
   "outputs": [],
   "source": [
    "def verify_descrimination(X_test, \n",
    "                          y_test, \n",
    "                          y_pred, \n",
    "                          max_diff = 0.10,\n",
    "                          min_percent = 0.0,\n",
    "                          sensitive_column = 'gender'):\n",
    "    \"\"\"\n",
    "    Verifies that no subdeparment has discrimination in between protected races\n",
    "    \"\"\"\n",
    "    sensitive_classes = X_test[sensitive_column].unique()\n",
    "    \n",
    "    min_samples = X_test.shape[0]*min_percent\n",
    "    \n",
    "    is_satisfied = True\n",
    "    # precisions = {}\n",
    "    recalls = {}\n",
    "    \n",
    "    for sensitive_class in sensitive_classes:\n",
    "        mask = X_test[sensitive_column] == sensitive_class\n",
    "        if mask.sum() > min_samples:\n",
    "            # precisions[sensitive_class] = precision_score(y_test[mask], y_pred[mask])\n",
    "            recalls[sensitive_class] = recall_score(y_test[mask], y_pred[mask])\n",
    "\n",
    "    diff = np.max(list(recalls.values())) - np.min(list(recalls.values()))\n",
    "    if diff > max_diff:\n",
    "        is_satisfied = False\n",
    "\n",
    "    return is_satisfied, diff, recalls"
   ]
  },
  {
   "cell_type": "code",
   "execution_count": 49,
   "id": "eb5ffeba",
   "metadata": {},
   "outputs": [
    {
     "data": {
      "text/plain": [
       "(True,\n",
       " 0.022558641305214455,\n",
       " {'Female': 0.5609264853977844, 'Male': 0.53836784409257})"
      ]
     },
     "execution_count": 49,
     "metadata": {},
     "output_type": "execute_result"
    }
   ],
   "source": [
    "verify_descrimination(X_test, y_test, y_pred_test, sensitive_column = 'gender')"
   ]
  },
  {
   "cell_type": "code",
   "execution_count": 51,
   "id": "c95b2349",
   "metadata": {},
   "outputs": [
    {
     "name": "stderr",
     "output_type": "stream",
     "text": [
      "/home/pgomes/projects/capstone_project/utils.py:34: SettingWithCopyWarning: \n",
      "A value is trying to be set on a copy of a slice from a DataFrame.\n",
      "Try using .loc[row_indexer,col_indexer] = value instead\n",
      "\n",
      "See the caveats in the documentation: https://pandas.pydata.org/pandas-docs/stable/user_guide/indexing.html#returning-a-view-versus-a-copy\n",
      "  X[self.col] = X[self.col].str.lower().replace(self.map)\n"
     ]
    },
    {
     "data": {
      "text/plain": [
       "(False,\n",
       " 0.1523809523809524,\n",
       " {'caucasian': 0.5475671750181554,\n",
       "  'black': 0.5619596541786743,\n",
       "  'latino': 0.6285714285714286,\n",
       "  'other': 0.47619047619047616,\n",
       "  'asian': 0.6})"
      ]
     },
     "execution_count": 51,
     "metadata": {},
     "output_type": "execute_result"
    }
   ],
   "source": [
    "cr = CorrectRace()\n",
    "X_test_race = cr.fit_transform(X_test)\n",
    "\n",
    "verify_descrimination(X_test_race, y_test, y_pred_test, sensitive_column = 'race')"
   ]
  },
  {
   "cell_type": "code",
   "execution_count": 52,
   "id": "57806b8e",
   "metadata": {},
   "outputs": [
    {
     "name": "stderr",
     "output_type": "stream",
     "text": [
      "/home/pgomes/.virtualenvs/blu15/lib/python3.7/site-packages/sklearn/metrics/_classification.py:1248: UndefinedMetricWarning: Recall is ill-defined and being set to 0.0 due to no true samples. Use `zero_division` parameter to control this behavior.\n",
      "  _warn_prf(average, modifier, msg_start, len(result))\n"
     ]
    },
    {
     "data": {
      "text/plain": [
       "(False,\n",
       " 0.7555555555555555,\n",
       " {'[70-80)': 0.5529661016949152,\n",
       "  '[30-40)': 0.5606060606060606,\n",
       "  '[60-70)': 0.5239294710327456,\n",
       "  '[80-90)': 0.6158536585365854,\n",
       "  '[50-60)': 0.47346938775510206,\n",
       "  '[40-50)': 0.5408805031446541,\n",
       "  '[10-20)': 0.0,\n",
       "  '[90-100)': 0.5777777777777777,\n",
       "  '[20-30)': 0.7555555555555555,\n",
       "  '[0-10)': 0.0})"
      ]
     },
     "execution_count": 52,
     "metadata": {},
     "output_type": "execute_result"
    }
   ],
   "source": [
    "# ca = ConvertAge()\n",
    "# X_test_age = ca.fit_transform(X_test)\n",
    "\n",
    "verify_descrimination(X_test, y_test, y_pred_test, sensitive_column = 'age')"
   ]
  },
  {
   "cell_type": "code",
   "execution_count": 53,
   "id": "eab441ae",
   "metadata": {},
   "outputs": [
    {
     "data": {
      "text/plain": [
       "(False,\n",
       " 0.29245947850599013,\n",
       " {'SP': 0.5263157894736842,\n",
       "  'BC': 0.5066666666666667,\n",
       "  'MC': 0.589171974522293,\n",
       "  'CP': 0.5142857142857142,\n",
       "  'HM': 0.5247524752475248,\n",
       "  'UN': 0.46511627906976744,\n",
       "  'CM': 0.7575757575757576,\n",
       "  'OG': 0.6666666666666666,\n",
       "  'MD': 0.6363636363636364})"
      ]
     },
     "execution_count": 53,
     "metadata": {},
     "output_type": "execute_result"
    }
   ],
   "source": [
    "verify_descrimination(X_test, y_test, y_pred_test, sensitive_column = 'payer_code', min_percent = 1e-2)"
   ]
  },
  {
   "cell_type": "code",
   "execution_count": 24,
   "id": "c10ffbb9",
   "metadata": {},
   "outputs": [
    {
     "data": {
      "text/plain": [
       "(False,\n",
       " 0.5060975609756098,\n",
       " {'InternalMedicine': 0.524390243902439,\n",
       "  'Family/GeneralPractice': 0.544,\n",
       "  'Surgery-General': 0.6181818181818182,\n",
       "  'Cardiology': 0.3466666666666667,\n",
       "  'Emergency/Trauma': 0.6643356643356644,\n",
       "  'Radiologist': 0.25,\n",
       "  'Orthopedics': 0.72,\n",
       "  'Nephrology': 0.7560975609756098,\n",
       "  'Orthopedics-Reconstructive': 0.7272727272727273})"
      ]
     },
     "execution_count": 24,
     "metadata": {},
     "output_type": "execute_result"
    }
   ],
   "source": [
    "verify_descrimination(X_test, y_test, y_pred_test, sensitive_column = 'medical_specialty', min_percent = 1e-2)"
   ]
  },
  {
   "cell_type": "code",
   "execution_count": 32,
   "id": "af542802",
   "metadata": {},
   "outputs": [],
   "source": [
    "def verify_no_discrimination(X_test, \n",
    "                             y_true, \n",
    "                             y_pred, \n",
    "                             sensitive_column='race', \n",
    "                             max_diff=0.05,\n",
    "                             min_percent=0.005):\n",
    "    \"\"\"\n",
    "    Verifies that no subdeparment has discrimination in between protected races\n",
    "    \"\"\"\n",
    "    \n",
    "    departments = X_test['medical_specialty'].unique()\n",
    "    sensitive_classes = X_test[sensitive_column].unique()\n",
    "    \n",
    "    min_samples = X_test.shape[0]*min_percent\n",
    "    \n",
    "    is_satisfied = True\n",
    "    problematic_departments = []\n",
    "    good_deparments = []\n",
    "    ignored_departments = []\n",
    "    \n",
    "    for department in departments:\n",
    "        # precisions = {}\n",
    "        recalls = {}\n",
    "        for sensitive_class in sensitive_classes:\n",
    "            mask = (X_test[sensitive_column] == sensitive_class) & (X_test[sensitive_column] == department)\n",
    "            if np.sum(mask) > min_samples:\n",
    "                recalls[sensitive_class] = recall_score(y_true[mask], y_pred[mask], pos_label=1)\n",
    "                \n",
    "        if len(recalls) > 1:    \n",
    "            diff = np.max(list(recalls.values())) - np.min(list(recalls.values()))\n",
    "\n",
    "            if diff > max_diff:\n",
    "                is_satisfied = False\n",
    "                problematic_departments.append((department, diff, recalls))\n",
    "            else:\n",
    "                good_deparments.append((department, diff, recalls))\n",
    "        else:\n",
    "            ignored_departments.append((department, None, []))\n",
    "    \n",
    "    # global_precisions = {}\n",
    "    global_recalls = {}\n",
    "    for sensitive_class in sensitive_classes:\n",
    "        mask = (X_test[sensitive_column] == sensitive_class)\n",
    "        if np.sum(mask) > min_samples:\n",
    "            global_recalls[sensitive_class] = recall_score(y_true[mask], y_pred[mask], pos_label=1)\n",
    "    \n",
    "    if len(recalls) > 1:    \n",
    "        diff = np.max(list(recalls.values())) - np.min(list(recalls.values()))\n",
    "        if diff > max_diff:\n",
    "            is_satisfied = False\n",
    "        \n",
    "    return is_satisfied, problematic_departments, good_deparments, global_recalls"
   ]
  },
  {
   "cell_type": "code",
   "execution_count": 33,
   "id": "a393486f",
   "metadata": {},
   "outputs": [
    {
     "data": {
      "text/plain": [
       "(True,\n",
       " [],\n",
       " [],\n",
       " {'[70-80)': 0.5529661016949152,\n",
       "  '[30-40)': 0.5606060606060606,\n",
       "  '[60-70)': 0.5239294710327456,\n",
       "  '[80-90)': 0.6158536585365854,\n",
       "  '[50-60)': 0.47346938775510206,\n",
       "  '[40-50)': 0.5408805031446541,\n",
       "  '[10-20)': 0.0,\n",
       "  '[90-100)': 0.5777777777777777,\n",
       "  '[20-30)': 0.7555555555555555})"
      ]
     },
     "execution_count": 33,
     "metadata": {},
     "output_type": "execute_result"
    }
   ],
   "source": [
    "verify_no_discrimination(X_test_race, y_test, y_pred_test, sensitive_column = 'age', max_diff=0.1)"
   ]
  },
  {
   "cell_type": "code",
   "execution_count": 31,
   "id": "a3ae5d38",
   "metadata": {},
   "outputs": [
    {
     "data": {
      "text/plain": [
       "(False,\n",
       " [('InternalMedicine',\n",
       "   0.10561403508771927,\n",
       "   {7: 0.5266666666666666, 1: 0.5185185185185185, 6: 0.42105263157894735}),\n",
       "  ('Family/GeneralPractice',\n",
       "   0.17142857142857143,\n",
       "   {7: 0.6, 1: 0.56, 17: 0.42857142857142855}),\n",
       "  ('Surgery-General',\n",
       "   0.2990196078431372,\n",
       "   {7: 0.9166666666666666, 1: 0.6176470588235294}),\n",
       "  ('Cardiology',\n",
       "   0.130952380952381,\n",
       "   {7: 0.38461538461538464, 1: 0.2857142857142857, 17: 0.4166666666666667}),\n",
       "  ('Nephrology', 0.4117647058823529, {7: 1.0, 1: 0.5882352941176471})],\n",
       " [],\n",
       " {7: 0.5942857142857143,\n",
       "  1: 0.5009746588693957,\n",
       "  17: 0.4649122807017544,\n",
       "  4: 0.3793103448275862,\n",
       "  6: 0.4117647058823529,\n",
       "  2: 0.4666666666666667,\n",
       "  5: 0.8421052631578947})"
      ]
     },
     "execution_count": 31,
     "metadata": {},
     "output_type": "execute_result"
    }
   ],
   "source": [
    "verify_no_discrimination(X_test_race, y_test, y_pred_test, sensitive_column = 'admission_source_code', max_diff=0.1)"
   ]
  },
  {
   "cell_type": "code",
   "execution_count": null,
   "id": "01eaf880",
   "metadata": {},
   "outputs": [],
   "source": []
  }
 ],
 "metadata": {
  "kernelspec": {
   "display_name": "Python 3 (ipykernel)",
   "language": "python",
   "name": "python3"
  },
  "language_info": {
   "codemirror_mode": {
    "name": "ipython",
    "version": 3
   },
   "file_extension": ".py",
   "mimetype": "text/x-python",
   "name": "python",
   "nbconvert_exporter": "python",
   "pygments_lexer": "ipython3",
   "version": "3.7.12"
  }
 },
 "nbformat": 4,
 "nbformat_minor": 5
}
