{
 "cells": [
  {
   "cell_type": "markdown",
   "id": "7c3b6b6e",
   "metadata": {},
   "source": [
    "# Pipeline export"
   ]
  },
  {
   "cell_type": "markdown",
   "id": "04efce00",
   "metadata": {},
   "source": [
    "Import the necessary packages:"
   ]
  },
  {
   "cell_type": "code",
   "execution_count": 1,
   "id": "8630a9e5",
   "metadata": {},
   "outputs": [],
   "source": [
    "import re\n",
    "import os\n",
    "import json\n",
    "import requests\n",
    "import joblib\n",
    "import pickle\n",
    "import pandas as pd\n",
    "import numpy as np\n",
    "\n",
    "# SQLite\n",
    "import sqlite3\n",
    "\n",
    "# Plotting\n",
    "import seaborn as sns\n",
    "import matplotlib.pyplot as plt\n",
    "\n",
    "# Train-test split and Grid Search\n",
    "from sklearn.model_selection import train_test_split, GridSearchCV\n",
    "\n",
    "from sklearn.compose import ColumnTransformer\n",
    "from sklearn.impute import SimpleImputer\n",
    "from sklearn.pipeline import make_pipeline, Pipeline\n",
    "from sklearn.base import BaseEstimator, TransformerMixin\n",
    "\n",
    "# Feature Engine\n",
    "from feature_engine.selection import DropFeatures\n",
    "from feature_engine.imputation import CategoricalImputer, MeanMedianImputer\n",
    "from feature_engine.encoding import OneHotEncoder, RareLabelEncoder\n",
    "\n",
    "# Classifiers\n",
    "from sklearn.tree import DecisionTreeClassifier\n",
    "from sklearn.ensemble import RandomForestClassifier\n",
    "\n",
    "# Metrics\n",
    "from sklearn.metrics import accuracy_score, precision_score, recall_score, f1_score, classification_report\n",
    "\n",
    "# Utils\n",
    "from utils import *"
   ]
  },
  {
   "cell_type": "markdown",
   "id": "5e986f1b",
   "metadata": {},
   "source": [
    "Read the data, and create a copy of it:"
   ]
  },
  {
   "cell_type": "code",
   "execution_count": 2,
   "id": "ca71a46b",
   "metadata": {},
   "outputs": [],
   "source": [
    "df = pd.read_csv('data/train_data.csv')\n",
    "df_ = df.copy(deep = True)"
   ]
  },
  {
   "cell_type": "markdown",
   "id": "99906ca7",
   "metadata": {},
   "source": [
    "X-y split:"
   ]
  },
  {
   "cell_type": "code",
   "execution_count": 3,
   "id": "1a6cbef0",
   "metadata": {},
   "outputs": [],
   "source": [
    "target = 'readmitted'\n",
    "\n",
    "X = df_.drop(columns = target)\n",
    "y = df_[target].apply(lambda x: False if x == 'No' else True)"
   ]
  },
  {
   "cell_type": "markdown",
   "id": "184f47a4",
   "metadata": {},
   "source": [
    "Remove the records with gender equal to 'Unknown/Invalid':"
   ]
  },
  {
   "cell_type": "code",
   "execution_count": 4,
   "id": "7d1b7b41",
   "metadata": {},
   "outputs": [],
   "source": [
    "X = X[X['gender'] != 'Unknown/Invalid']\n",
    "X = X[X['complete_vaccination_status'] != 'None']\n",
    "\n",
    "y = y[y.index.isin(X.index)]\n",
    "\n",
    "X['admission_id'] = X['admission_id'].astype(float)\n",
    "X['patient_id'] = X['patient_id'].astype(float)\n",
    "X['admission_source_code'] = X['admission_source_code'].astype(float)\n",
    "X['time_in_hospital'] = X['time_in_hospital'].astype(float)\n",
    "X['num_procedures'] = X['num_procedures'].astype(float)\n",
    "X['number_outpatient'] = X['number_outpatient'].astype(float)\n",
    "X['number_emergency'] = X['number_emergency'].astype(float)\n",
    "X['number_inpatient'] = X['number_inpatient'].astype(float)\n",
    "X['number_diagnoses'] = X['number_diagnoses'].astype(float)"
   ]
  },
  {
   "cell_type": "code",
   "execution_count": 5,
   "id": "f2810501",
   "metadata": {},
   "outputs": [
    {
     "data": {
      "text/plain": [
       "admission_id                     int64\n",
       "patient_id                       int64\n",
       "race                            object\n",
       "gender                          object\n",
       "age                             object\n",
       "weight                          object\n",
       "admission_type_code            float64\n",
       "discharge_disposition_code     float64\n",
       "admission_source_code          float64\n",
       "time_in_hospital               float64\n",
       "payer_code                      object\n",
       "medical_specialty               object\n",
       "has_prosthesis                    bool\n",
       "complete_vaccination_status     object\n",
       "num_lab_procedures             float64\n",
       "num_procedures                 float64\n",
       "num_medications                float64\n",
       "number_outpatient              float64\n",
       "number_emergency               float64\n",
       "number_inpatient               float64\n",
       "diag_1                          object\n",
       "diag_2                          object\n",
       "diag_3                          object\n",
       "number_diagnoses               float64\n",
       "blood_type                      object\n",
       "hemoglobin_level               float64\n",
       "blood_transfusion                 bool\n",
       "max_glu_serum                   object\n",
       "A1Cresult                       object\n",
       "diuretics                       object\n",
       "insulin                         object\n",
       "change                          object\n",
       "diabetesMed                     object\n",
       "dtype: object"
      ]
     },
     "execution_count": 5,
     "metadata": {},
     "output_type": "execute_result"
    }
   ],
   "source": [
    "X.dtypes"
   ]
  },
  {
   "cell_type": "markdown",
   "id": "a123c73a",
   "metadata": {},
   "source": [
    "## Pipeline"
   ]
  },
  {
   "cell_type": "markdown",
   "id": "1d51ec80",
   "metadata": {},
   "source": [
    "Separation of feature types:"
   ]
  },
  {
   "cell_type": "code",
   "execution_count": 6,
   "id": "033a1c2a",
   "metadata": {},
   "outputs": [],
   "source": [
    "# features_to_drop = ['admission_id'\n",
    "#                     ,'patient_id'\n",
    "#                     ,'weight'\n",
    "#                     ,'medical_specialty'\n",
    "#                     ,'payer_code'\n",
    "#                     ,'blood_type'\n",
    "#                     ,'has_prosthesis']\n",
    "\n",
    "features_to_drop = ['admission_id',\n",
    "                    'patient_id',\n",
    "                    'weight',\n",
    "                    'medical_specialty',\n",
    "                    'payer_code',\n",
    "                    'blood_type',\n",
    "                    'has_prosthesis',\n",
    "                    'race',\n",
    "                    'age',\n",
    "                    'gender',\n",
    "                   ]\n",
    "\n",
    "# categorical_features = ['race'\n",
    "#                         ,'gender'\n",
    "#                         ,'admission_type_code'\n",
    "#                         ,'discharge_disposition_code'\n",
    "#                         ,'admission_source_code'\n",
    "#                         ,'complete_vaccination_status' # Need to think about this one\n",
    "#                         ,'blood_transfusion'\n",
    "#                         , 'max_glu_serum'\n",
    "#                         ,'A1Cresult'\n",
    "#                         ,'diuretics'\n",
    "#                         ,'insulin'\n",
    "#                         ,'change'\n",
    "#                         ,'diabetesMed'\n",
    "#                         ,'diag_1'\n",
    "#                         ,'diag_2'\n",
    "#                         ,'diag_3'\n",
    "#                        ]\n",
    "\n",
    "categorical_features = ['admission_type_code',\n",
    "                        'discharge_disposition_code',\n",
    "                        'admission_source_code',\n",
    "                        'complete_vaccination_status',\n",
    "                        'blood_transfusion',\n",
    "                        'max_glu_serum',\n",
    "                        'A1Cresult',\n",
    "                        'diuretics',\n",
    "                        'insulin',\n",
    "                        'change',\n",
    "                        'diabetesMed',\n",
    "                        'diag_1',\n",
    "                        'diag_2',\n",
    "                        'diag_3',\n",
    "                       ]\n",
    "\n",
    "categorical_features_ohe_2mf = [# 'gender'\n",
    "                               ,'complete_vaccination_status']\n",
    "\n",
    "# numerical_features = ['age'\n",
    "#                      ,'time_in_hospital'\n",
    "#                      ,'num_lab_procedures'\n",
    "#                      ,'num_procedures'\n",
    "#                      ,'num_medications'\n",
    "#                      ,'number_outpatient'\n",
    "#                      ,'number_emergency'\n",
    "#                      ,'number_inpatient'\n",
    "#                      ,'number_diagnoses'\n",
    "#                      ,'hemoglobin_level'\n",
    "#                       \n",
    "#                      ]\n",
    "\n",
    "numerical_features_imputation = ['num_medications',\n",
    "                                 'num_lab_procedures',\n",
    "                                 'num_procedures',\n",
    "                                 'number_diagnoses',\n",
    "                                 'time_in_hospital',\n",
    "                                 'number_outpatient',\n",
    "                                 'number_emergency',\n",
    "                                 'number_inpatient',\n",
    "                                 'number_diagnoses',\n",
    "                                ]\n",
    "\n",
    "numerical_features = [ 'hemoglobin_level' ]"
   ]
  },
  {
   "cell_type": "code",
   "execution_count": 7,
   "id": "81a1f5bf",
   "metadata": {},
   "outputs": [],
   "source": [
    "pipe = Pipeline([    \n",
    "    # Remove unwanted columns\n",
    "    ('drop', DropFeatures(features_to_drop = features_to_drop)),\n",
    "    \n",
    "    # Correct type of columns\n",
    "    ('object', CastString()),\n",
    "    \n",
    "    # Correct the admission type column\n",
    "    ('admission_type', CorrectAdmissionTypeCode()),\n",
    "    \n",
    "    # Correct the discharge disposition code column\n",
    "    ('discharge_code', CorrectDischargeDispositionCode()),\n",
    "    \n",
    "    # Correct the admission source code column\n",
    "    ('admission_code', CorrectAdmissionSourceCode()),\n",
    "    \n",
    "    # Correct the max glu serum column\n",
    "    ('max_glu_serum', CorrectMaxGluSerum()),\n",
    "     \n",
    "    # Correct the A1CResult column\n",
    "    ('a1cresult', CorrectA1CResult()),\n",
    "    \n",
    "    # Correct the diag_1, diag_2 and diag_3 columns\n",
    "    ('diag_x', ConvertDiag()),\n",
    "    \n",
    "    # Impute the categorical features with the mode\n",
    "    ('categorical_imputer', CategoricalImputer(imputation_method = 'frequent',\n",
    "                                                variables = categorical_features)),\n",
    "    \n",
    "    # Impute the numerical features with the median\n",
    "    ('numerical_imputer_median', MeanMedianImputer(imputation_method = 'median',\n",
    "                                            variables = numerical_features)),\n",
    "     \n",
    "    ('numerical_imputer_0', ArbitraryNumberImputer(arbitrary_number = 0,\n",
    "                                                 variables = numerical_features_imputation)),\n",
    "    \n",
    "    # Rare label encoding\n",
    "    ('rare', RareLabelEncoder(tol = 0.01, \n",
    "                              n_categories = 2,\n",
    "                              variables = categorical_features)),\n",
    "    \n",
    "    # One-hot encoding\n",
    "    ('ohe', OneHotEncoder(variables = [f for f in categorical_features if f not in categorical_features_ohe_2mf])),\n",
    "    \n",
    "    # One-hot encoding of top 2\n",
    "    ('ohe_diag', OneHotEncoder(top_categories = 2,\n",
    "                              variables = categorical_features_ohe_2mf)),\n",
    "    \n",
    "    # Model\n",
    "    ('clf', RandomForestClassifier(n_estimators = 1000,\n",
    "                                   max_depth = 10,\n",
    "                                   class_weight = 'balanced',\n",
    "                                   random_state = 42,\n",
    "                                   n_jobs = -1))\n",
    "\n",
    "])"
   ]
  },
  {
   "cell_type": "markdown",
   "id": "76290ac8",
   "metadata": {},
   "source": [
    "Fit on the entire dataset:"
   ]
  },
  {
   "cell_type": "code",
   "execution_count": 8,
   "id": "9d2f9b03",
   "metadata": {},
   "outputs": [
    {
     "name": "stderr",
     "output_type": "stream",
     "text": [
      "/home/pgomes/.virtualenvs/blu15/lib/python3.7/site-packages/feature_engine/encoding/rare_label.py:164: UserWarning: The number of unique categories for variable gender is less than that indicated in n_categories. Thus, all categories will be considered frequent\n",
      "  \"considered frequent\".format(var)\n",
      "/home/pgomes/.virtualenvs/blu15/lib/python3.7/site-packages/feature_engine/encoding/rare_label.py:164: UserWarning: The number of unique categories for variable complete_vaccination_status is less than that indicated in n_categories. Thus, all categories will be considered frequent\n",
      "  \"considered frequent\".format(var)\n",
      "/home/pgomes/.virtualenvs/blu15/lib/python3.7/site-packages/feature_engine/encoding/rare_label.py:164: UserWarning: The number of unique categories for variable blood_transfusion is less than that indicated in n_categories. Thus, all categories will be considered frequent\n",
      "  \"considered frequent\".format(var)\n",
      "/home/pgomes/.virtualenvs/blu15/lib/python3.7/site-packages/feature_engine/encoding/rare_label.py:164: UserWarning: The number of unique categories for variable diuretics is less than that indicated in n_categories. Thus, all categories will be considered frequent\n",
      "  \"considered frequent\".format(var)\n",
      "/home/pgomes/.virtualenvs/blu15/lib/python3.7/site-packages/feature_engine/encoding/rare_label.py:164: UserWarning: The number of unique categories for variable insulin is less than that indicated in n_categories. Thus, all categories will be considered frequent\n",
      "  \"considered frequent\".format(var)\n",
      "/home/pgomes/.virtualenvs/blu15/lib/python3.7/site-packages/feature_engine/encoding/rare_label.py:164: UserWarning: The number of unique categories for variable change is less than that indicated in n_categories. Thus, all categories will be considered frequent\n",
      "  \"considered frequent\".format(var)\n",
      "/home/pgomes/.virtualenvs/blu15/lib/python3.7/site-packages/feature_engine/encoding/rare_label.py:164: UserWarning: The number of unique categories for variable diabetesMed is less than that indicated in n_categories. Thus, all categories will be considered frequent\n",
      "  \"considered frequent\".format(var)\n"
     ]
    },
    {
     "data": {
      "text/plain": [
       "Pipeline(steps=[('drop',\n",
       "                 DropFeatures(features_to_drop=['admission_id', 'patient_id',\n",
       "                                                'weight', 'medical_specialty',\n",
       "                                                'payer_code', 'blood_type',\n",
       "                                                'has_prosthesis'])),\n",
       "                ('object', CorrectType()), ('race', CorrectRace()),\n",
       "                ('age', ConvertAge()),\n",
       "                ('admission_type', CorrectAdmissionTypeCode()),\n",
       "                ('discharge_code', CorrectDischargeDispositionCode()),\n",
       "                ('admission_code', Correc...\n",
       "                                          'admission_source_code',\n",
       "                                          'blood_transfusion', 'max_glu_serum',\n",
       "                                          'A1Cresult', 'diuretics', 'insulin',\n",
       "                                          'change', 'diabetesMed', 'diag_1',\n",
       "                                          'diag_2', 'diag_3'])),\n",
       "                ('ohe_diag',\n",
       "                 OneHotEncoder(top_categories=2,\n",
       "                               variables=['gender',\n",
       "                                          'complete_vaccination_status'])),\n",
       "                ('clf',\n",
       "                 RandomForestClassifier(class_weight='balanced', max_depth=10,\n",
       "                                        n_estimators=1000, n_jobs=-1,\n",
       "                                        random_state=42))])"
      ]
     },
     "execution_count": 8,
     "metadata": {},
     "output_type": "execute_result"
    }
   ],
   "source": [
    "pipe.fit(X, y)"
   ]
  },
  {
   "cell_type": "markdown",
   "id": "d6bac792",
   "metadata": {},
   "source": [
    "Export the pipeline:"
   ]
  },
  {
   "cell_type": "code",
   "execution_count": 13,
   "id": "e4cf94a4",
   "metadata": {},
   "outputs": [],
   "source": [
    "directory = '/home/pgomes/projects/model-deployment/ldssa_capstone_project'\n",
    "\n",
    "with open(f'{directory}/columns.json', 'w') as fh:\n",
    "    json.dump(X.columns.tolist(), fh)\n",
    "    \n",
    "with open(f'{directory}/dtypes.pickle', 'wb') as fh:\n",
    "    pickle.dump(X.dtypes, fh)\n",
    "    \n",
    "joblib.dump(pipe, f'{directory}/pipeline.pickle');"
   ]
  },
  {
   "cell_type": "markdown",
   "id": "6f49d034",
   "metadata": {},
   "source": [
    "## Test the API on the localhost"
   ]
  },
  {
   "cell_type": "markdown",
   "id": "1497e6ac",
   "metadata": {},
   "source": [
    "Predict:"
   ]
  },
  {
   "cell_type": "code",
   "execution_count": 51,
   "id": "9cff55f7",
   "metadata": {},
   "outputs": [
    {
     "name": "stdout",
     "output_type": "stream",
     "text": [
      "<Response [500]>\n"
     ]
    },
    {
     "ename": "JSONDecodeError",
     "evalue": "Expecting value: line 1 column 1 (char 0)",
     "output_type": "error",
     "traceback": [
      "\u001b[0;31m---------------------------------------------------------------------------\u001b[0m",
      "\u001b[0;31mJSONDecodeError\u001b[0m                           Traceback (most recent call last)",
      "\u001b[0;32m/tmp/ipykernel_277/2011197254.py\u001b[0m in \u001b[0;36m<module>\u001b[0;34m\u001b[0m\n\u001b[1;32m     41\u001b[0m \u001b[0;34m\u001b[0m\u001b[0m\n\u001b[1;32m     42\u001b[0m \u001b[0mprint\u001b[0m\u001b[0;34m(\u001b[0m\u001b[0mr\u001b[0m\u001b[0;34m)\u001b[0m\u001b[0;34m\u001b[0m\u001b[0;34m\u001b[0m\u001b[0m\n\u001b[0;32m---> 43\u001b[0;31m \u001b[0mprint\u001b[0m\u001b[0;34m(\u001b[0m\u001b[0mr\u001b[0m\u001b[0;34m.\u001b[0m\u001b[0mjson\u001b[0m\u001b[0;34m(\u001b[0m\u001b[0;34m)\u001b[0m\u001b[0;34m)\u001b[0m\u001b[0;34m\u001b[0m\u001b[0;34m\u001b[0m\u001b[0m\n\u001b[0m",
      "\u001b[0;32m~/.virtualenvs/blu15/lib/python3.7/site-packages/requests/models.py\u001b[0m in \u001b[0;36mjson\u001b[0;34m(self, **kwargs)\u001b[0m\n\u001b[1;32m    896\u001b[0m                     \u001b[0;31m# used.\u001b[0m\u001b[0;34m\u001b[0m\u001b[0;34m\u001b[0m\u001b[0;34m\u001b[0m\u001b[0m\n\u001b[1;32m    897\u001b[0m                     \u001b[0;32mpass\u001b[0m\u001b[0;34m\u001b[0m\u001b[0;34m\u001b[0m\u001b[0m\n\u001b[0;32m--> 898\u001b[0;31m         \u001b[0;32mreturn\u001b[0m \u001b[0mcomplexjson\u001b[0m\u001b[0;34m.\u001b[0m\u001b[0mloads\u001b[0m\u001b[0;34m(\u001b[0m\u001b[0mself\u001b[0m\u001b[0;34m.\u001b[0m\u001b[0mtext\u001b[0m\u001b[0;34m,\u001b[0m \u001b[0;34m**\u001b[0m\u001b[0mkwargs\u001b[0m\u001b[0;34m)\u001b[0m\u001b[0;34m\u001b[0m\u001b[0;34m\u001b[0m\u001b[0m\n\u001b[0m\u001b[1;32m    899\u001b[0m \u001b[0;34m\u001b[0m\u001b[0m\n\u001b[1;32m    900\u001b[0m     \u001b[0;34m@\u001b[0m\u001b[0mproperty\u001b[0m\u001b[0;34m\u001b[0m\u001b[0;34m\u001b[0m\u001b[0m\n",
      "\u001b[0;32m/usr/lib/python3.7/json/__init__.py\u001b[0m in \u001b[0;36mloads\u001b[0;34m(s, encoding, cls, object_hook, parse_float, parse_int, parse_constant, object_pairs_hook, **kw)\u001b[0m\n\u001b[1;32m    346\u001b[0m             \u001b[0mparse_int\u001b[0m \u001b[0;32mis\u001b[0m \u001b[0;32mNone\u001b[0m \u001b[0;32mand\u001b[0m \u001b[0mparse_float\u001b[0m \u001b[0;32mis\u001b[0m \u001b[0;32mNone\u001b[0m \u001b[0;32mand\u001b[0m\u001b[0;34m\u001b[0m\u001b[0;34m\u001b[0m\u001b[0m\n\u001b[1;32m    347\u001b[0m             parse_constant is None and object_pairs_hook is None and not kw):\n\u001b[0;32m--> 348\u001b[0;31m         \u001b[0;32mreturn\u001b[0m \u001b[0m_default_decoder\u001b[0m\u001b[0;34m.\u001b[0m\u001b[0mdecode\u001b[0m\u001b[0;34m(\u001b[0m\u001b[0ms\u001b[0m\u001b[0;34m)\u001b[0m\u001b[0;34m\u001b[0m\u001b[0;34m\u001b[0m\u001b[0m\n\u001b[0m\u001b[1;32m    349\u001b[0m     \u001b[0;32mif\u001b[0m \u001b[0mcls\u001b[0m \u001b[0;32mis\u001b[0m \u001b[0;32mNone\u001b[0m\u001b[0;34m:\u001b[0m\u001b[0;34m\u001b[0m\u001b[0;34m\u001b[0m\u001b[0m\n\u001b[1;32m    350\u001b[0m         \u001b[0mcls\u001b[0m \u001b[0;34m=\u001b[0m \u001b[0mJSONDecoder\u001b[0m\u001b[0;34m\u001b[0m\u001b[0;34m\u001b[0m\u001b[0m\n",
      "\u001b[0;32m/usr/lib/python3.7/json/decoder.py\u001b[0m in \u001b[0;36mdecode\u001b[0;34m(self, s, _w)\u001b[0m\n\u001b[1;32m    335\u001b[0m \u001b[0;34m\u001b[0m\u001b[0m\n\u001b[1;32m    336\u001b[0m         \"\"\"\n\u001b[0;32m--> 337\u001b[0;31m         \u001b[0mobj\u001b[0m\u001b[0;34m,\u001b[0m \u001b[0mend\u001b[0m \u001b[0;34m=\u001b[0m \u001b[0mself\u001b[0m\u001b[0;34m.\u001b[0m\u001b[0mraw_decode\u001b[0m\u001b[0;34m(\u001b[0m\u001b[0ms\u001b[0m\u001b[0;34m,\u001b[0m \u001b[0midx\u001b[0m\u001b[0;34m=\u001b[0m\u001b[0m_w\u001b[0m\u001b[0;34m(\u001b[0m\u001b[0ms\u001b[0m\u001b[0;34m,\u001b[0m \u001b[0;36m0\u001b[0m\u001b[0;34m)\u001b[0m\u001b[0;34m.\u001b[0m\u001b[0mend\u001b[0m\u001b[0;34m(\u001b[0m\u001b[0;34m)\u001b[0m\u001b[0;34m)\u001b[0m\u001b[0;34m\u001b[0m\u001b[0;34m\u001b[0m\u001b[0m\n\u001b[0m\u001b[1;32m    338\u001b[0m         \u001b[0mend\u001b[0m \u001b[0;34m=\u001b[0m \u001b[0m_w\u001b[0m\u001b[0;34m(\u001b[0m\u001b[0ms\u001b[0m\u001b[0;34m,\u001b[0m \u001b[0mend\u001b[0m\u001b[0;34m)\u001b[0m\u001b[0;34m.\u001b[0m\u001b[0mend\u001b[0m\u001b[0;34m(\u001b[0m\u001b[0;34m)\u001b[0m\u001b[0;34m\u001b[0m\u001b[0;34m\u001b[0m\u001b[0m\n\u001b[1;32m    339\u001b[0m         \u001b[0;32mif\u001b[0m \u001b[0mend\u001b[0m \u001b[0;34m!=\u001b[0m \u001b[0mlen\u001b[0m\u001b[0;34m(\u001b[0m\u001b[0ms\u001b[0m\u001b[0;34m)\u001b[0m\u001b[0;34m:\u001b[0m\u001b[0;34m\u001b[0m\u001b[0;34m\u001b[0m\u001b[0m\n",
      "\u001b[0;32m/usr/lib/python3.7/json/decoder.py\u001b[0m in \u001b[0;36mraw_decode\u001b[0;34m(self, s, idx)\u001b[0m\n\u001b[1;32m    353\u001b[0m             \u001b[0mobj\u001b[0m\u001b[0;34m,\u001b[0m \u001b[0mend\u001b[0m \u001b[0;34m=\u001b[0m \u001b[0mself\u001b[0m\u001b[0;34m.\u001b[0m\u001b[0mscan_once\u001b[0m\u001b[0;34m(\u001b[0m\u001b[0ms\u001b[0m\u001b[0;34m,\u001b[0m \u001b[0midx\u001b[0m\u001b[0;34m)\u001b[0m\u001b[0;34m\u001b[0m\u001b[0;34m\u001b[0m\u001b[0m\n\u001b[1;32m    354\u001b[0m         \u001b[0;32mexcept\u001b[0m \u001b[0mStopIteration\u001b[0m \u001b[0;32mas\u001b[0m \u001b[0merr\u001b[0m\u001b[0;34m:\u001b[0m\u001b[0;34m\u001b[0m\u001b[0;34m\u001b[0m\u001b[0m\n\u001b[0;32m--> 355\u001b[0;31m             \u001b[0;32mraise\u001b[0m \u001b[0mJSONDecodeError\u001b[0m\u001b[0;34m(\u001b[0m\u001b[0;34m\"Expecting value\"\u001b[0m\u001b[0;34m,\u001b[0m \u001b[0ms\u001b[0m\u001b[0;34m,\u001b[0m \u001b[0merr\u001b[0m\u001b[0;34m.\u001b[0m\u001b[0mvalue\u001b[0m\u001b[0;34m)\u001b[0m \u001b[0;32mfrom\u001b[0m \u001b[0;32mNone\u001b[0m\u001b[0;34m\u001b[0m\u001b[0;34m\u001b[0m\u001b[0m\n\u001b[0m\u001b[1;32m    356\u001b[0m         \u001b[0;32mreturn\u001b[0m \u001b[0mobj\u001b[0m\u001b[0;34m,\u001b[0m \u001b[0mend\u001b[0m\u001b[0;34m\u001b[0m\u001b[0;34m\u001b[0m\u001b[0m\n",
      "\u001b[0;31mJSONDecodeError\u001b[0m: Expecting value: line 1 column 1 (char 0)"
     ]
    }
   ],
   "source": [
    "url = f\"http://localhost:5000/predict\"\n",
    "\n",
    "observation = {\n",
    "  \"admission_id\": 6,\n",
    "  \"patient_id\": 8,\n",
    "  \"race\": None,\n",
    "  \"gender\": None, \n",
    "  \"age\": None,\n",
    "  \"weight\": None,\n",
    "  \"admission_type_code\": None,\n",
    "  \"discharge_disposition_code\": None,\n",
    "  \"admission_source_code\": None,\n",
    "  \"time_in_hospital\": None,\n",
    "  \"payer_code\": None,\n",
    "  \"medical_specialty\": None,\n",
    "  \"has_prosthesis\": None,\n",
    "  \"complete_vaccination_status\": None,\n",
    "  \"num_lab_procedures\": None,\n",
    "  \"num_procedures\": None,\n",
    "  \"num_medications\": None,\n",
    "  \"number_outpatient\": None,\n",
    "  \"number_emergency\": None,\n",
    "  \"number_inpatient\": None,\n",
    "  \"diag_1\": None,\n",
    "  \"diag_2\": None,\n",
    "  \"diag_3\": None,\n",
    "  \"diag_4\" : None,\n",
    "  \"number_diagnoses\": None,\n",
    "  \"blood_type\": None,\n",
    "  \"hemoglobin_level\": None,\n",
    "  \"blood_transfusion\": None,\n",
    "  \"max_glu_serum\": None,\n",
    "  \"A1Cresult\": None,\n",
    "  \"diuretics\": None,\n",
    "  \"insulin\": None,\n",
    "  \"change\": None,\n",
    "  \"diabetesMed\": None,\n",
    "}\n",
    "\n",
    "r = requests.post(url, json = observation)\n",
    "\n",
    "print(r)\n",
    "print(r.json())"
   ]
  },
  {
   "cell_type": "markdown",
   "id": "9f2856cd",
   "metadata": {},
   "source": [
    "Update:"
   ]
  },
  {
   "cell_type": "code",
   "execution_count": 39,
   "id": "8fbb75ae",
   "metadata": {},
   "outputs": [
    {
     "name": "stdout",
     "output_type": "stream",
     "text": [
      "<Response [200]>\n",
      "{'actual_readmitted': 'Banana', 'admission_id': 5, 'predicted_readmitted': 'No'}\n"
     ]
    }
   ],
   "source": [
    "url = f\"http://localhost:5000/update\"\n",
    "\n",
    "observation = {\n",
    "    \"admission_id\": 5,\n",
    "    \"readmitted\" : 'Banana'    \n",
    "}\n",
    "\n",
    "r = requests.post(url, json = observation)\n",
    "print(r)\n",
    "print(r.json())"
   ]
  },
  {
   "cell_type": "markdown",
   "id": "3a07fe36",
   "metadata": {},
   "source": [
    "Let's check the SQLite Database:"
   ]
  },
  {
   "cell_type": "code",
   "execution_count": 86,
   "id": "62afd3ae",
   "metadata": {},
   "outputs": [
    {
     "name": "stdout",
     "output_type": "stream",
     "text": [
      "[]\n"
     ]
    }
   ],
   "source": [
    "connection = sqlite3.connect('predictions.db')\n",
    "cursor = connection.cursor()\n",
    "\n",
    "query = \"SELECT name FROM sqlite_master WHERE type = 'table';\"\n",
    "cursor.execute(query)\n",
    "\n",
    "print(cursor.fetchall())"
   ]
  },
  {
   "cell_type": "markdown",
   "id": "f4832aed",
   "metadata": {},
   "source": [
    "## Test the API on Heroku"
   ]
  },
  {
   "cell_type": "markdown",
   "id": "6db80180",
   "metadata": {},
   "source": [
    "Predict:"
   ]
  },
  {
   "cell_type": "code",
   "execution_count": 48,
   "id": "a6d4ddad",
   "metadata": {},
   "outputs": [
    {
     "name": "stdout",
     "output_type": "stream",
     "text": [
      "<Response [500]>\n"
     ]
    },
    {
     "ename": "JSONDecodeError",
     "evalue": "Expecting value: line 1 column 1 (char 0)",
     "output_type": "error",
     "traceback": [
      "\u001b[0;31m---------------------------------------------------------------------------\u001b[0m",
      "\u001b[0;31mJSONDecodeError\u001b[0m                           Traceback (most recent call last)",
      "\u001b[0;32m/tmp/ipykernel_9934/1123749303.py\u001b[0m in \u001b[0;36m<module>\u001b[0;34m\u001b[0m\n\u001b[1;32m     41\u001b[0m \u001b[0;34m\u001b[0m\u001b[0m\n\u001b[1;32m     42\u001b[0m \u001b[0mprint\u001b[0m\u001b[0;34m(\u001b[0m\u001b[0mr\u001b[0m\u001b[0;34m)\u001b[0m\u001b[0;34m\u001b[0m\u001b[0;34m\u001b[0m\u001b[0m\n\u001b[0;32m---> 43\u001b[0;31m \u001b[0mprint\u001b[0m\u001b[0;34m(\u001b[0m\u001b[0mr\u001b[0m\u001b[0;34m.\u001b[0m\u001b[0mjson\u001b[0m\u001b[0;34m(\u001b[0m\u001b[0;34m)\u001b[0m\u001b[0;34m)\u001b[0m\u001b[0;34m\u001b[0m\u001b[0;34m\u001b[0m\u001b[0m\n\u001b[0m",
      "\u001b[0;32m~/.virtualenvs/blu15/lib/python3.7/site-packages/requests/models.py\u001b[0m in \u001b[0;36mjson\u001b[0;34m(self, **kwargs)\u001b[0m\n\u001b[1;32m    896\u001b[0m                     \u001b[0;31m# used.\u001b[0m\u001b[0;34m\u001b[0m\u001b[0;34m\u001b[0m\u001b[0;34m\u001b[0m\u001b[0m\n\u001b[1;32m    897\u001b[0m                     \u001b[0;32mpass\u001b[0m\u001b[0;34m\u001b[0m\u001b[0;34m\u001b[0m\u001b[0m\n\u001b[0;32m--> 898\u001b[0;31m         \u001b[0;32mreturn\u001b[0m \u001b[0mcomplexjson\u001b[0m\u001b[0;34m.\u001b[0m\u001b[0mloads\u001b[0m\u001b[0;34m(\u001b[0m\u001b[0mself\u001b[0m\u001b[0;34m.\u001b[0m\u001b[0mtext\u001b[0m\u001b[0;34m,\u001b[0m \u001b[0;34m**\u001b[0m\u001b[0mkwargs\u001b[0m\u001b[0;34m)\u001b[0m\u001b[0;34m\u001b[0m\u001b[0;34m\u001b[0m\u001b[0m\n\u001b[0m\u001b[1;32m    899\u001b[0m \u001b[0;34m\u001b[0m\u001b[0m\n\u001b[1;32m    900\u001b[0m     \u001b[0;34m@\u001b[0m\u001b[0mproperty\u001b[0m\u001b[0;34m\u001b[0m\u001b[0;34m\u001b[0m\u001b[0m\n",
      "\u001b[0;32m/usr/lib/python3.7/json/__init__.py\u001b[0m in \u001b[0;36mloads\u001b[0;34m(s, encoding, cls, object_hook, parse_float, parse_int, parse_constant, object_pairs_hook, **kw)\u001b[0m\n\u001b[1;32m    346\u001b[0m             \u001b[0mparse_int\u001b[0m \u001b[0;32mis\u001b[0m \u001b[0;32mNone\u001b[0m \u001b[0;32mand\u001b[0m \u001b[0mparse_float\u001b[0m \u001b[0;32mis\u001b[0m \u001b[0;32mNone\u001b[0m \u001b[0;32mand\u001b[0m\u001b[0;34m\u001b[0m\u001b[0;34m\u001b[0m\u001b[0m\n\u001b[1;32m    347\u001b[0m             parse_constant is None and object_pairs_hook is None and not kw):\n\u001b[0;32m--> 348\u001b[0;31m         \u001b[0;32mreturn\u001b[0m \u001b[0m_default_decoder\u001b[0m\u001b[0;34m.\u001b[0m\u001b[0mdecode\u001b[0m\u001b[0;34m(\u001b[0m\u001b[0ms\u001b[0m\u001b[0;34m)\u001b[0m\u001b[0;34m\u001b[0m\u001b[0;34m\u001b[0m\u001b[0m\n\u001b[0m\u001b[1;32m    349\u001b[0m     \u001b[0;32mif\u001b[0m \u001b[0mcls\u001b[0m \u001b[0;32mis\u001b[0m \u001b[0;32mNone\u001b[0m\u001b[0;34m:\u001b[0m\u001b[0;34m\u001b[0m\u001b[0;34m\u001b[0m\u001b[0m\n\u001b[1;32m    350\u001b[0m         \u001b[0mcls\u001b[0m \u001b[0;34m=\u001b[0m \u001b[0mJSONDecoder\u001b[0m\u001b[0;34m\u001b[0m\u001b[0;34m\u001b[0m\u001b[0m\n",
      "\u001b[0;32m/usr/lib/python3.7/json/decoder.py\u001b[0m in \u001b[0;36mdecode\u001b[0;34m(self, s, _w)\u001b[0m\n\u001b[1;32m    335\u001b[0m \u001b[0;34m\u001b[0m\u001b[0m\n\u001b[1;32m    336\u001b[0m         \"\"\"\n\u001b[0;32m--> 337\u001b[0;31m         \u001b[0mobj\u001b[0m\u001b[0;34m,\u001b[0m \u001b[0mend\u001b[0m \u001b[0;34m=\u001b[0m \u001b[0mself\u001b[0m\u001b[0;34m.\u001b[0m\u001b[0mraw_decode\u001b[0m\u001b[0;34m(\u001b[0m\u001b[0ms\u001b[0m\u001b[0;34m,\u001b[0m \u001b[0midx\u001b[0m\u001b[0;34m=\u001b[0m\u001b[0m_w\u001b[0m\u001b[0;34m(\u001b[0m\u001b[0ms\u001b[0m\u001b[0;34m,\u001b[0m \u001b[0;36m0\u001b[0m\u001b[0;34m)\u001b[0m\u001b[0;34m.\u001b[0m\u001b[0mend\u001b[0m\u001b[0;34m(\u001b[0m\u001b[0;34m)\u001b[0m\u001b[0;34m)\u001b[0m\u001b[0;34m\u001b[0m\u001b[0;34m\u001b[0m\u001b[0m\n\u001b[0m\u001b[1;32m    338\u001b[0m         \u001b[0mend\u001b[0m \u001b[0;34m=\u001b[0m \u001b[0m_w\u001b[0m\u001b[0;34m(\u001b[0m\u001b[0ms\u001b[0m\u001b[0;34m,\u001b[0m \u001b[0mend\u001b[0m\u001b[0;34m)\u001b[0m\u001b[0;34m.\u001b[0m\u001b[0mend\u001b[0m\u001b[0;34m(\u001b[0m\u001b[0;34m)\u001b[0m\u001b[0;34m\u001b[0m\u001b[0;34m\u001b[0m\u001b[0m\n\u001b[1;32m    339\u001b[0m         \u001b[0;32mif\u001b[0m \u001b[0mend\u001b[0m \u001b[0;34m!=\u001b[0m \u001b[0mlen\u001b[0m\u001b[0;34m(\u001b[0m\u001b[0ms\u001b[0m\u001b[0;34m)\u001b[0m\u001b[0;34m:\u001b[0m\u001b[0;34m\u001b[0m\u001b[0;34m\u001b[0m\u001b[0m\n",
      "\u001b[0;32m/usr/lib/python3.7/json/decoder.py\u001b[0m in \u001b[0;36mraw_decode\u001b[0;34m(self, s, idx)\u001b[0m\n\u001b[1;32m    353\u001b[0m             \u001b[0mobj\u001b[0m\u001b[0;34m,\u001b[0m \u001b[0mend\u001b[0m \u001b[0;34m=\u001b[0m \u001b[0mself\u001b[0m\u001b[0;34m.\u001b[0m\u001b[0mscan_once\u001b[0m\u001b[0;34m(\u001b[0m\u001b[0ms\u001b[0m\u001b[0;34m,\u001b[0m \u001b[0midx\u001b[0m\u001b[0;34m)\u001b[0m\u001b[0;34m\u001b[0m\u001b[0;34m\u001b[0m\u001b[0m\n\u001b[1;32m    354\u001b[0m         \u001b[0;32mexcept\u001b[0m \u001b[0mStopIteration\u001b[0m \u001b[0;32mas\u001b[0m \u001b[0merr\u001b[0m\u001b[0;34m:\u001b[0m\u001b[0;34m\u001b[0m\u001b[0;34m\u001b[0m\u001b[0m\n\u001b[0;32m--> 355\u001b[0;31m             \u001b[0;32mraise\u001b[0m \u001b[0mJSONDecodeError\u001b[0m\u001b[0;34m(\u001b[0m\u001b[0;34m\"Expecting value\"\u001b[0m\u001b[0;34m,\u001b[0m \u001b[0ms\u001b[0m\u001b[0;34m,\u001b[0m \u001b[0merr\u001b[0m\u001b[0;34m.\u001b[0m\u001b[0mvalue\u001b[0m\u001b[0;34m)\u001b[0m \u001b[0;32mfrom\u001b[0m \u001b[0;32mNone\u001b[0m\u001b[0;34m\u001b[0m\u001b[0;34m\u001b[0m\u001b[0m\n\u001b[0m\u001b[1;32m    356\u001b[0m         \u001b[0;32mreturn\u001b[0m \u001b[0mobj\u001b[0m\u001b[0;34m,\u001b[0m \u001b[0mend\u001b[0m\u001b[0;34m\u001b[0m\u001b[0;34m\u001b[0m\u001b[0m\n",
      "\u001b[0;31mJSONDecodeError\u001b[0m: Expecting value: line 1 column 1 (char 0)"
     ]
    }
   ],
   "source": [
    "APP_NAME = 'heroku-model-deploy-capstone'\n",
    "url = \"https://{}.herokuapp.com/predict\".format(APP_NAME)\n",
    "\n",
    "observation = {\n",
    "  \"admission_id\": 111117,\n",
    "  \"patient_id\": 78790,\n",
    "  \"race\": None,\n",
    "  \"gender\": \"Male\",\n",
    "  \"age\": \"[20-30)\",\n",
    "  \"weight\": \"?\",\n",
    "  \"admission_type_code\": 5,\n",
    "  \"discharge_disposition_code\": 13,\n",
    "  \"admission_source_code\": 5,\n",
    "  \"time_in_hospital\": 3,\n",
    "  \"payer_code\": \"SP\",\n",
    "  \"medical_specialty\": \"Emergency/Trauma\",\n",
    "  \"has_prosthesis\": True,\n",
    "  \"complete_vaccination_status\": \"Complete\",\n",
    "  \"num_lab_procedures\": 2,\n",
    "  \"num_procedures\": '3.o',\n",
    "  \"num_medications\": 52,\n",
    "  \"number_outpatient\": 0,\n",
    "  \"number_emergency\": 3,\n",
    "  \"number_inpatient\": 5,\n",
    "  \"diag_1\": \"428\",\n",
    "  \"diag_2\": \"276\",\n",
    "  \"diag_3\": \"401\",\n",
    "  \"number_diagnoses\": 3,\n",
    "  \"blood_type\": \"A+\",\n",
    "  \"hemoglobin_level\": 14,\n",
    "  \"blood_transfusion\": True,\n",
    "  \"max_glu_serum\": \">200\",\n",
    "  \"A1Cresult\": \">8\",\n",
    "  \"diuretics\": \"No\",\n",
    "  \"insulin\": \"Yes\",\n",
    "  \"change\": \"Ch\",\n",
    "  \"diabetesMed\": \"Yes\",\n",
    "}\n",
    "\n",
    "r = requests.post(url, json = observation)\n",
    "\n",
    "print(r)\n",
    "print(r.json())"
   ]
  },
  {
   "cell_type": "markdown",
   "id": "c9f6fb84",
   "metadata": {},
   "source": [
    "Update:"
   ]
  },
  {
   "cell_type": "code",
   "execution_count": 92,
   "id": "83b6b5dc",
   "metadata": {},
   "outputs": [
    {
     "name": "stdout",
     "output_type": "stream",
     "text": [
      "<Response [200]>\n",
      "{'actual_readmitted': 'Yes', 'admission_id': 111111, 'predicted_readmitted': 'No'}\n"
     ]
    }
   ],
   "source": [
    "APP_NAME = 'heroku-model-deploy-capstone'\n",
    "url = \"https://{}.herokuapp.com/update\".format(APP_NAME)\n",
    "\n",
    "observation = {\n",
    "    \"admission_id\": 111111,\n",
    "    \"readmitted\" : 'Yes'    \n",
    "}\n",
    "\n",
    "r = requests.post(url, json = json.dumps(observation))\n",
    "print(r)\n",
    "print(r.json())"
   ]
  },
  {
   "cell_type": "markdown",
   "id": "46701bfb",
   "metadata": {},
   "source": [
    "## Test with the trial files"
   ]
  },
  {
   "cell_type": "code",
   "execution_count": 30,
   "id": "20ce5d1a",
   "metadata": {},
   "outputs": [],
   "source": [
    "f1 = open('moment_1_trial.json')\n",
    "file1 = json.load(f1)\n",
    "f1.close()\n",
    "\n",
    "f2 = open('moment_2_trial.json')\n",
    "file2 = json.load(f2)\n",
    "f2.close()"
   ]
  },
  {
   "cell_type": "code",
   "execution_count": 32,
   "id": "9539ce54",
   "metadata": {
    "scrolled": true
   },
   "outputs": [
    {
     "name": "stdout",
     "output_type": "stream",
     "text": [
      "82679\n",
      "<Response [422]>\n",
      "ERROR: Admission ID 82679 already exists.\n",
      "83311\n",
      "<Response [422]>\n",
      "ERROR: Admission ID 83311 already exists.\n",
      "84417\n",
      "<Response [422]>\n",
      "ERROR: Admission ID 84417 already exists.\n",
      "100530\n",
      "<Response [422]>\n",
      "ERROR: Admission ID 100530 already exists.\n",
      "81601\n",
      "<Response [422]>\n",
      "ERROR: Admission ID 81601 already exists.\n",
      "84159\n",
      "<Response [422]>\n",
      "ERROR: Admission ID 84159 already exists.\n",
      "99843\n",
      "<Response [422]>\n",
      "ERROR: Admission ID 99843 already exists.\n",
      "100354\n",
      "<Response [422]>\n",
      "ERROR: Admission ID 100354 already exists.\n",
      "90078\n",
      "<Response [422]>\n",
      "ERROR: Admission ID 90078 already exists.\n",
      "87808\n",
      "<Response [422]>\n",
      "ERROR: Admission ID 87808 already exists.\n",
      "101181\n",
      "<Response [422]>\n",
      "ERROR: Admission ID 101181 already exists.\n",
      "98980\n",
      "<Response [422]>\n",
      "ERROR: Admission ID 98980 already exists.\n",
      "87832\n",
      "<Response [422]>\n",
      "ERROR: Admission ID 87832 already exists.\n",
      "86463\n",
      "<Response [422]>\n",
      "ERROR: Admission ID 86463 already exists.\n",
      "86723\n",
      "<Response [422]>\n",
      "ERROR: Admission ID 86723 already exists.\n",
      "83845\n",
      "<Response [422]>\n",
      "ERROR: Admission ID 83845 already exists.\n",
      "82181\n",
      "<Response [422]>\n",
      "ERROR: Admission ID 82181 already exists.\n",
      "83097\n",
      "<Response [422]>\n",
      "ERROR: Admission ID 83097 already exists.\n",
      "89734\n",
      "<Response [422]>\n",
      "ERROR: Admission ID 89734 already exists.\n",
      "97435\n",
      "<Response [422]>\n",
      "ERROR: Admission ID 97435 already exists.\n",
      "92775\n",
      "<Response [422]>\n",
      "ERROR: Admission ID 92775 already exists.\n",
      "95835\n",
      "<Response [422]>\n",
      "ERROR: Admission ID 95835 already exists.\n",
      "85838\n",
      "<Response [422]>\n",
      "ERROR: Admission ID 85838 already exists.\n",
      "98262\n",
      "<Response [422]>\n",
      "ERROR: Admission ID 98262 already exists.\n",
      "87677\n",
      "<Response [422]>\n",
      "ERROR: Admission ID 87677 already exists.\n",
      "92775\n",
      "<Response [422]>\n",
      "ERROR: Admission ID 92775 already exists.\n",
      "95835\n",
      "<Response [422]>\n",
      "ERROR: Admission ID 95835 already exists.\n",
      "85838\n",
      "<Response [422]>\n",
      "ERROR: Admission ID 85838 already exists.\n",
      "98262\n",
      "<Response [422]>\n",
      "ERROR: Admission ID 98262 already exists.\n",
      "87677\n",
      "<Response [422]>\n",
      "ERROR: Admission ID 87677 already exists.\n",
      "None\n",
      "<Response [422]>\n",
      "{'detail': [{'loc': ['admission_id'], 'msg': 'Request must contain an admission_id.', 'type': 422}]}\n",
      "None\n",
      "<Response [422]>\n",
      "{'detail': [{'loc': ['admission_id'], 'msg': 'Request must contain an admission_id.', 'type': 422}]}\n",
      "None\n",
      "<Response [422]>\n",
      "{'detail': [{'loc': ['admission_id'], 'msg': 'Request must contain an admission_id.', 'type': 422}]}\n",
      "None\n",
      "<Response [422]>\n",
      "{'detail': [{'loc': ['admission_id'], 'msg': 'Request must contain an admission_id.', 'type': 422}]}\n",
      "None\n",
      "<Response [422]>\n",
      "{'detail': [{'loc': ['admission_id'], 'msg': 'Request must contain an admission_id.', 'type': 422}]}\n",
      "92775.0\n",
      "<Response [422]>\n",
      "{'error': 'has_prosthesis must be a boolean. Provided value: 0.0'}\n",
      "95835.0\n",
      "<Response [422]>\n",
      "{'error': 'has_prosthesis must be a boolean. Provided value: 0.0'}\n",
      "85838.0\n",
      "<Response [422]>\n",
      "{'error': 'has_prosthesis must be a boolean. Provided value: 0.0'}\n",
      "98262.0\n",
      "<Response [422]>\n",
      "{'error': 'has_prosthesis must be a boolean. Provided value: 0.0'}\n",
      "nan\n",
      "<Response [422]>\n",
      "{'detail': [{'loc': ['admission_id'], 'msg': 'Request must contain an admission_id.', 'type': 422}]}\n",
      "92775\n",
      "<Response [422]>\n",
      "ERROR: Admission ID 92775 already exists.\n",
      "95835\n",
      "<Response [422]>\n",
      "ERROR: Admission ID 95835 already exists.\n",
      "85838\n",
      "<Response [422]>\n",
      "ERROR: Admission ID 85838 already exists.\n",
      "98262\n",
      "<Response [422]>\n",
      "ERROR: Admission ID 98262 already exists.\n",
      "87677\n",
      "<Response [422]>\n",
      "ERROR: Admission ID 87677 already exists.\n"
     ]
    }
   ],
   "source": [
    "url = f\"http://localhost:5000/predict\"\n",
    "\n",
    "# APP_NAME = 'heroku-model-deploy-capstone'\n",
    "# url = \"https://{}.herokuapp.com/predict\".format(APP_NAME)\n",
    "\n",
    "for obs in file1:\n",
    "    observation = obs['data']\n",
    "    \n",
    "    print(observation['admission_id'])\n",
    "    \n",
    "    r = requests.post(url, json = observation)\n",
    "    \n",
    "    print(r)\n",
    "    print(r.json())"
   ]
  },
  {
   "cell_type": "code",
   "execution_count": 33,
   "id": "ef7175d4",
   "metadata": {},
   "outputs": [
    {
     "name": "stdout",
     "output_type": "stream",
     "text": [
      "{'admission_id': 82679, 'readmitted': 'No'}\n",
      "<Response [200]>\n",
      "{'actual_readmitted': 'No', 'admission_id': 82679, 'predicted_readmitted': 'Yes'}\n",
      "{'admission_id': 83311, 'readmitted': 'No'}\n",
      "<Response [200]>\n",
      "{'actual_readmitted': 'No', 'admission_id': 83311, 'predicted_readmitted': 'Yes'}\n",
      "{'admission_id': 84417, 'readmitted': 'No'}\n",
      "<Response [200]>\n",
      "{'actual_readmitted': 'No', 'admission_id': 84417, 'predicted_readmitted': 'No'}\n",
      "{'admission_id': 100530, 'readmitted': 'No'}\n",
      "<Response [200]>\n",
      "{'actual_readmitted': 'No', 'admission_id': 100530, 'predicted_readmitted': 'Yes'}\n",
      "{'admission_id': 81601, 'readmitted': 'No'}\n",
      "<Response [200]>\n",
      "{'actual_readmitted': 'No', 'admission_id': 81601, 'predicted_readmitted': 'No'}\n",
      "{'admission_id': 84159, 'readmitted': 'No'}\n",
      "<Response [200]>\n",
      "{'actual_readmitted': 'No', 'admission_id': 84159, 'predicted_readmitted': 'No'}\n",
      "{'admission_id': 99843, 'readmitted': 'No'}\n",
      "<Response [200]>\n",
      "{'actual_readmitted': 'No', 'admission_id': 99843, 'predicted_readmitted': 'No'}\n",
      "{'admission_id': 100354, 'readmitted': 'No'}\n",
      "<Response [200]>\n",
      "{'actual_readmitted': 'No', 'admission_id': 100354, 'predicted_readmitted': 'No'}\n",
      "{'admission_id': 90078, 'readmitted': 'Yes'}\n",
      "<Response [200]>\n",
      "{'actual_readmitted': 'Yes', 'admission_id': 90078, 'predicted_readmitted': 'No'}\n",
      "{'admission_id': 87808, 'readmitted': 'No'}\n",
      "<Response [200]>\n",
      "{'actual_readmitted': 'No', 'admission_id': 87808, 'predicted_readmitted': 'No'}\n",
      "{'admission_id': 101181, 'readmitted': 'No'}\n",
      "<Response [200]>\n",
      "{'actual_readmitted': 'No', 'admission_id': 101181, 'predicted_readmitted': 'No'}\n",
      "{'admission_id': 98980, 'readmitted': 'No'}\n",
      "<Response [200]>\n",
      "{'actual_readmitted': 'No', 'admission_id': 98980, 'predicted_readmitted': 'No'}\n",
      "{'admission_id': 87832, 'readmitted': 'No'}\n",
      "<Response [200]>\n",
      "{'actual_readmitted': 'No', 'admission_id': 87832, 'predicted_readmitted': 'No'}\n",
      "{'admission_id': 86463, 'readmitted': 'Yes'}\n",
      "<Response [200]>\n",
      "{'actual_readmitted': 'Yes', 'admission_id': 86463, 'predicted_readmitted': 'No'}\n",
      "{'admission_id': 86723, 'readmitted': 'No'}\n",
      "<Response [200]>\n",
      "{'actual_readmitted': 'No', 'admission_id': 86723, 'predicted_readmitted': 'No'}\n",
      "{'admission_id': 83845, 'readmitted': 'No'}\n",
      "<Response [200]>\n",
      "{'actual_readmitted': 'No', 'admission_id': 83845, 'predicted_readmitted': 'Yes'}\n",
      "{'admission_id': 82181, 'readmitted': 'No'}\n",
      "<Response [200]>\n",
      "{'actual_readmitted': 'No', 'admission_id': 82181, 'predicted_readmitted': 'No'}\n",
      "{'admission_id': 83097, 'readmitted': 'No'}\n",
      "<Response [200]>\n",
      "{'actual_readmitted': 'No', 'admission_id': 83097, 'predicted_readmitted': 'No'}\n",
      "{'admission_id': 89734, 'readmitted': 'No'}\n",
      "<Response [200]>\n",
      "{'actual_readmitted': 'No', 'admission_id': 89734, 'predicted_readmitted': 'Yes'}\n",
      "{'admission_id': 97435, 'readmitted': 'No'}\n",
      "<Response [200]>\n",
      "{'actual_readmitted': 'No', 'admission_id': 97435, 'predicted_readmitted': 'Yes'}\n",
      "{'admission_id': 92775, 'readmitted': 'No'}\n",
      "<Response [200]>\n",
      "{'actual_readmitted': 'No', 'admission_id': 92775, 'predicted_readmitted': 'No'}\n",
      "{'admission_id': 95835, 'readmitted': 'No'}\n",
      "<Response [200]>\n",
      "{'actual_readmitted': 'No', 'admission_id': 95835, 'predicted_readmitted': 'No'}\n",
      "{'admission_id': 85838, 'readmitted': 'Yes'}\n",
      "<Response [200]>\n",
      "{'actual_readmitted': 'Yes', 'admission_id': 85838, 'predicted_readmitted': 'Yes'}\n",
      "{'admission_id': 98262, 'readmitted': 'No'}\n",
      "<Response [200]>\n",
      "{'actual_readmitted': 'No', 'admission_id': 98262, 'predicted_readmitted': 'Yes'}\n",
      "{'admission_id': 87677, 'readmitted': 'No'}\n",
      "<Response [200]>\n",
      "{'actual_readmitted': 'No', 'admission_id': 87677, 'predicted_readmitted': 'No'}\n",
      "{'admission_id': 92696, 'readmitted': 'No'}\n",
      "<Response [422]>\n",
      "{'detail': [{'loc': ['admission_id'], 'msg': 'Admission ID: \"92696\" does not exist', 'type': 422}]}\n",
      "{'admission_id': 93376, 'readmitted': 'No'}\n",
      "<Response [422]>\n",
      "{'detail': [{'loc': ['admission_id'], 'msg': 'Admission ID: \"93376\" does not exist', 'type': 422}]}\n",
      "{'admission_id': 86802, 'readmitted': 'Yes'}\n",
      "<Response [422]>\n",
      "{'detail': [{'loc': ['admission_id'], 'msg': 'Admission ID: \"86802\" does not exist', 'type': 422}]}\n",
      "{'admission_id': 82272, 'readmitted': 'No'}\n",
      "<Response [422]>\n",
      "{'detail': [{'loc': ['admission_id'], 'msg': 'Admission ID: \"82272\" does not exist', 'type': 422}]}\n",
      "{'admission_id': 97207, 'readmitted': 'No'}\n",
      "<Response [422]>\n",
      "{'detail': [{'loc': ['admission_id'], 'msg': 'Admission ID: \"97207\" does not exist', 'type': 422}]}\n"
     ]
    }
   ],
   "source": [
    "url = f\"http://localhost:5000/update\"\n",
    "\n",
    "# APP_NAME = 'heroku-model-deploy-capstone'\n",
    "# url = \"https://{}.herokuapp.com/update\".format(APP_NAME)\n",
    "\n",
    "for obs in file2:\n",
    "    observation = obs['data']\n",
    "    \n",
    "    print(observation)\n",
    "    \n",
    "    r = requests.post(url, json = observation)\n",
    "    \n",
    "    print(r)\n",
    "    print(r.json())"
   ]
  },
  {
   "cell_type": "code",
   "execution_count": null,
   "id": "89abfd79",
   "metadata": {},
   "outputs": [],
   "source": []
  }
 ],
 "metadata": {
  "kernelspec": {
   "display_name": "Python 3 (ipykernel)",
   "language": "python",
   "name": "python3"
  },
  "language_info": {
   "codemirror_mode": {
    "name": "ipython",
    "version": 3
   },
   "file_extension": ".py",
   "mimetype": "text/x-python",
   "name": "python",
   "nbconvert_exporter": "python",
   "pygments_lexer": "ipython3",
   "version": "3.7.12"
  }
 },
 "nbformat": 4,
 "nbformat_minor": 5
}
