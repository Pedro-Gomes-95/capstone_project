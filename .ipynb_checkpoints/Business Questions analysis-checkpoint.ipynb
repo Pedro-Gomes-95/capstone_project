{
 "cells": [
  {
   "cell_type": "markdown",
   "id": "7c3b6b6e",
   "metadata": {},
   "source": [
    "# Feature Engineering & Model"
   ]
  },
  {
   "cell_type": "markdown",
   "id": "04efce00",
   "metadata": {},
   "source": [
    "Import the necessary packages:"
   ]
  },
  {
   "cell_type": "code",
   "execution_count": 58,
   "id": "8630a9e5",
   "metadata": {},
   "outputs": [],
   "source": [
    "import re\n",
    "import pandas as pd\n",
    "import numpy as np\n",
    "\n",
    "# Plotting\n",
    "import seaborn as sns\n",
    "import matplotlib.pyplot as plt\n",
    "\n",
    "# Stats\n",
    "from scipy.stats import chi2_contingency\n",
    "\n",
    "# Scaling\n",
    "from sklearn.preprocessing import StandardScaler\n",
    "\n",
    "# Train-test split and Grid Search\n",
    "from sklearn.model_selection import train_test_split, GridSearchCV\n",
    "\n",
    "from sklearn.compose import ColumnTransformer\n",
    "from sklearn.impute import SimpleImputer\n",
    "from sklearn.pipeline import make_pipeline, Pipeline\n",
    "from sklearn.base import BaseEstimator, TransformerMixin\n",
    "\n",
    "# Feature Engine\n",
    "from feature_engine.selection import DropFeatures\n",
    "from feature_engine.imputation import CategoricalImputer, MeanMedianImputer\n",
    "from feature_engine.encoding import OneHotEncoder, RareLabelEncoder\n",
    "\n",
    "# Utils\n",
    "from utils import *"
   ]
  },
  {
   "cell_type": "markdown",
   "id": "5e986f1b",
   "metadata": {},
   "source": [
    "Read the data, and create a copy of it:"
   ]
  },
  {
   "cell_type": "code",
   "execution_count": 59,
   "id": "ca71a46b",
   "metadata": {},
   "outputs": [],
   "source": [
    "df = pd.read_csv('data/train_data.csv')\n",
    "df_ = df.copy(deep = True)\n",
    "\n",
    "df_ = df_.replace('?', np.nan)"
   ]
  },
  {
   "cell_type": "markdown",
   "id": "2aba0582",
   "metadata": {},
   "source": [
    "Create the 'readmitted' column with 0s and 1s:"
   ]
  },
  {
   "cell_type": "code",
   "execution_count": 60,
   "id": "03a9ab87",
   "metadata": {},
   "outputs": [],
   "source": [
    "df_['f_readmitted'] = df_['readmitted'].apply(lambda x: 1 if x == 'Yes' else 0)"
   ]
  },
  {
   "cell_type": "markdown",
   "id": "e9e09166",
   "metadata": {},
   "source": [
    "Remove 'Uknown/Invalid' genders from the data:"
   ]
  },
  {
   "cell_type": "code",
   "execution_count": 61,
   "id": "d389fba9",
   "metadata": {},
   "outputs": [
    {
     "data": {
      "text/plain": [
       "Female    43719\n",
       "Male      37691\n",
       "Name: gender, dtype: int64"
      ]
     },
     "execution_count": 61,
     "metadata": {},
     "output_type": "execute_result"
    }
   ],
   "source": [
    "df_ = df_[df_['gender'] != 'Unknown/Invalid']\n",
    "df_['gender'].value_counts()"
   ]
  },
  {
   "cell_type": "markdown",
   "id": "994e171d",
   "metadata": {},
   "source": [
    "Let's create the contingency for gender and compute Chi2:"
   ]
  },
  {
   "cell_type": "code",
   "execution_count": 62,
   "id": "30ee2bae",
   "metadata": {},
   "outputs": [
    {
     "name": "stdout",
     "output_type": "stream",
     "text": [
      "0.9939166093359619\n",
      "0.31878700135975335\n"
     ]
    }
   ],
   "source": [
    "gender_ct = pd.crosstab(df_['gender'], df['readmitted'])\n",
    "\n",
    "c, p, dof, expected = chi2_contingency(gender_ct)\n",
    "\n",
    "print(c)\n",
    "print(p)"
   ]
  },
  {
   "cell_type": "code",
   "execution_count": 63,
   "id": "7d4aaf95",
   "metadata": {},
   "outputs": [
    {
     "data": {
      "image/png": "[encoded data removed]",
      "text/plain": [
       "<Figure size 432x288 with 1 Axes>"
      ]
     },
     "metadata": {
      "needs_background": "light"
     },
     "output_type": "display_data"
    }
   ],
   "source": [
    "sns.countplot(x = 'gender', data = df_, hue = 'readmitted')\n",
    "\n",
    "plt.xlabel('Gender')\n",
    "plt.ylabel('Count')\n",
    "\n",
    "plt.show()"
   ]
  },
  {
   "cell_type": "markdown",
   "id": "6f9ebc6b",
   "metadata": {},
   "source": [
    "Let's map the race column correctly, and do the same:"
   ]
  },
  {
   "cell_type": "code",
   "execution_count": 64,
   "id": "985de10b",
   "metadata": {},
   "outputs": [
    {
     "data": {
      "text/plain": [
       "caucasian    60873\n",
       "black        15388\n",
       "latino        1627\n",
       "other         1180\n",
       "asian          517\n",
       "Name: race, dtype: int64"
      ]
     },
     "execution_count": 64,
     "metadata": {},
     "output_type": "execute_result"
    }
   ],
   "source": [
    "# race_map = { 'white' : 'caucasian'\n",
    "#              , 'africanamerican' : 'black'\n",
    "#              , 'african american' : 'black'\n",
    "#              , 'afro american' : 'black'\n",
    "#              , 'euro' : 'caucasian'\n",
    "#              , 'european' : 'caucasian'\n",
    "#              , 'asian' : 'asian'\n",
    "#              , 'latino' : 'latino'\n",
    "#              , 'hispanic' : 'latino'\n",
    "#              , np.nan : 'caucasian',\n",
    "#              }\n",
    "\n",
    "race_map =  { 'white' : 'caucasian'\n",
    "             , 'africanamerican' : 'black'\n",
    "             , 'african american' : 'black'\n",
    "             , 'afro american' : 'black'\n",
    "             , 'euro' : 'caucasian'\n",
    "             , 'european' : 'caucasian'\n",
    "             , 'asian' : 'asian'\n",
    "             , 'latino' : 'latino'\n",
    "             , 'hispanic' : 'latino'\n",
    "             }\n",
    "\n",
    "df_['race'] = df_['race'].str.lower().replace(race_map)\n",
    "df_['race'].value_counts()"
   ]
  },
  {
   "cell_type": "code",
   "execution_count": 65,
   "id": "d597a74e",
   "metadata": {},
   "outputs": [
    {
     "name": "stdout",
     "output_type": "stream",
     "text": [
      "2.691786364530335\n",
      "0.610652656600908\n"
     ]
    }
   ],
   "source": [
    "race_ct = pd.crosstab(df_['race'], df['readmitted'])\n",
    "\n",
    "c, p, dof, expected = chi2_contingency(race_ct)\n",
    "\n",
    "print(c)\n",
    "print(p)"
   ]
  },
  {
   "cell_type": "code",
   "execution_count": 66,
   "id": "1f2f298f",
   "metadata": {},
   "outputs": [
    {
     "name": "stdout",
     "output_type": "stream",
     "text": [
      "caucasian 11.23486603255959\n",
      "black 11.307512347283598\n",
      "other 10.254237288135592\n",
      "nan nan\n",
      "latino 10.448678549477567\n",
      "asian 10.251450676982591\n"
     ]
    },
    {
     "name": "stderr",
     "output_type": "stream",
     "text": [
      "/home/pgomes/.virtualenvs/blu15/lib/python3.7/site-packages/ipykernel_launcher.py:13: RuntimeWarning: invalid value encountered in long_scalars\n",
      "  del sys.path[0]\n",
      "/home/pgomes/.virtualenvs/blu15/lib/python3.7/site-packages/ipykernel_launcher.py:15: RuntimeWarning: invalid value encountered in long_scalars\n",
      "  from ipykernel import kernelapp as app\n"
     ]
    }
   ],
   "source": [
    "races = df_['race'].unique()\n",
    "\n",
    "dictionary = {}\n",
    "\n",
    "for r in races:\n",
    "    mask = df_['race'] == r\n",
    "    \n",
    "    total = df_[mask].shape[0]\n",
    "\n",
    "    readmitted = df_[mask]['f_readmitted'].sum()\n",
    "    not_readmitted = total - readmitted\n",
    "        \n",
    "    print(r, readmitted/total*100)\n",
    "\n",
    "    dictionary[r] = readmitted*100/(total)"
   ]
  },
  {
   "cell_type": "code",
   "execution_count": 67,
   "id": "7b20c85b",
   "metadata": {},
   "outputs": [
    {
     "data": {
      "image/png": "[encoded data removed]",
      "text/plain": [
       "<Figure size 432x288 with 1 Axes>"
      ]
     },
     "metadata": {
      "needs_background": "light"
     },
     "output_type": "display_data"
    }
   ],
   "source": [
    "sns.countplot(x = 'race', data = df_, hue = 'readmitted')\n",
    "\n",
    "plt.xlabel('Gender')\n",
    "plt.ylabel('Count')\n",
    "\n",
    "plt.show()"
   ]
  },
  {
   "cell_type": "markdown",
   "id": "1a13df7a",
   "metadata": {},
   "source": [
    "Finally, let's do the same for age:"
   ]
  },
  {
   "cell_type": "code",
   "execution_count": 68,
   "id": "01394237",
   "metadata": {},
   "outputs": [
    {
     "name": "stdout",
     "output_type": "stream",
     "text": [
      "95.9877655486271\n",
      "1.0166721774052334e-16\n"
     ]
    }
   ],
   "source": [
    "age_ct = pd.crosstab(df_['age'], df['readmitted'])\n",
    "\n",
    "c, p, dof, expected = chi2_contingency(age_ct)\n",
    "\n",
    "print(c)\n",
    "print(p)"
   ]
  },
  {
   "cell_type": "code",
   "execution_count": 69,
   "id": "1c884a28",
   "metadata": {},
   "outputs": [
    {
     "name": "stdout",
     "output_type": "stream",
     "text": [
      "[50-60) 9.773371104815865\n",
      "[80-90) 12.149742210266757\n",
      "[60-70) 11.232986848905991\n",
      "[70-80) 11.752221125370188\n",
      "nan nan\n",
      "[40-50) 10.322752734062417\n",
      "[30-40) 10.964912280701753\n",
      "[90-100) 10.6353591160221\n",
      "[20-30) 14.109483423284502\n",
      "[10-20) 5.21415270018622\n",
      "[0-10) 1.4705882352941175\n"
     ]
    },
    {
     "name": "stderr",
     "output_type": "stream",
     "text": [
      "/home/pgomes/.virtualenvs/blu15/lib/python3.7/site-packages/ipykernel_launcher.py:13: RuntimeWarning: invalid value encountered in long_scalars\n",
      "  del sys.path[0]\n",
      "/home/pgomes/.virtualenvs/blu15/lib/python3.7/site-packages/ipykernel_launcher.py:15: RuntimeWarning: invalid value encountered in long_scalars\n",
      "  from ipykernel import kernelapp as app\n"
     ]
    }
   ],
   "source": [
    "ages = df_['age'].unique()\n",
    "\n",
    "dictionary = {}\n",
    "\n",
    "for a in ages:\n",
    "    mask = df_['age'] == a\n",
    "    \n",
    "    total = df_[mask].shape[0]\n",
    "\n",
    "    readmitted = df_[mask]['f_readmitted'].sum()\n",
    "    not_readmitted = total - readmitted\n",
    "        \n",
    "    print(a, readmitted/total*100)\n",
    "\n",
    "    dictionary[a] = readmitted*100/(total)"
   ]
  },
  {
   "cell_type": "code",
   "execution_count": 70,
   "id": "efbb8167",
   "metadata": {},
   "outputs": [
    {
     "data": {
      "image/png": "[encoded data removed]",
      "text/plain": [
       "<Figure size 432x288 with 1 Axes>"
      ]
     },
     "metadata": {
      "needs_background": "light"
     },
     "output_type": "display_data"
    }
   ],
   "source": [
    "sns.countplot(x = 'age', data = df_, hue = 'readmitted')\n",
    "\n",
    "plt.xlabel('Gender')\n",
    "plt.ylabel('Count')\n",
    "\n",
    "plt.xticks(rotation = 45)\n",
    "\n",
    "plt.show()"
   ]
  },
  {
   "cell_type": "markdown",
   "id": "aae1719f",
   "metadata": {},
   "source": [
    "Admission sources:"
   ]
  },
  {
   "cell_type": "code",
   "execution_count": 71,
   "id": "eadacccb",
   "metadata": {},
   "outputs": [
    {
     "name": "stdout",
     "output_type": "stream",
     "text": [
      "1 10.618983279851376\n",
      "7 11.684806269046582\n",
      "17 10.384331116038432\n",
      "2 10.250569476082005\n",
      "4 9.298721425803953\n",
      "6 8.796041781198461\n",
      "9 11.11111111111111\n",
      "5 12.187958883994126\n",
      "3 14.18918918918919\n",
      "20 14.615384615384617\n",
      "13 0.0\n",
      "22 10.0\n",
      "14 0.0\n",
      "8 13.333333333333334\n",
      "10 0.0\n",
      "11 0.0\n",
      "25 0.0\n"
     ]
    }
   ],
   "source": [
    "admissions = df_['admission_source_code'].unique()\n",
    "\n",
    "dictionary = {}\n",
    "\n",
    "for a in admissions:\n",
    "    mask = df_['admission_source_code'] == a\n",
    "    \n",
    "    total = df_[mask].shape[0]\n",
    "\n",
    "    readmitted = df_[mask]['f_readmitted'].sum()\n",
    "    not_readmitted = total - readmitted\n",
    "        \n",
    "    print(a, readmitted/total*100)\n",
    "\n",
    "    dictionary[a] = readmitted*100/(total)"
   ]
  },
  {
   "cell_type": "code",
   "execution_count": 72,
   "id": "57101f34",
   "metadata": {},
   "outputs": [
    {
     "data": {
      "text/plain": [
       "7     45940\n",
       "1     23684\n",
       "17     5412\n",
       "4      2581\n",
       "6      1819\n",
       "2       878\n",
       "5       681\n",
       "3       148\n",
       "20      130\n",
       "9        99\n",
       "8        15\n",
       "22       10\n",
       "10        6\n",
       "11        2\n",
       "14        2\n",
       "25        2\n",
       "13        1\n",
       "Name: admission_source_code, dtype: int64"
      ]
     },
     "execution_count": 72,
     "metadata": {},
     "output_type": "execute_result"
    }
   ],
   "source": [
    "df_['admission_source_code'].value_counts()"
   ]
  },
  {
   "cell_type": "code",
   "execution_count": 73,
   "id": "55a20886",
   "metadata": {},
   "outputs": [
    {
     "data": {
      "text/plain": [
       "0.08027672381237246"
      ]
     },
     "execution_count": 73,
     "metadata": {},
     "output_type": "execute_result"
    }
   ],
   "source": [
    "df_.groupby('admission_source_code').mean()['f_readmitted'].mean()"
   ]
  },
  {
   "cell_type": "code",
   "execution_count": 74,
   "id": "ccd79dc3",
   "metadata": {},
   "outputs": [
    {
     "data": {
      "image/png": "[encoded data removed]",
      "text/plain": [
       "<Figure size 360x288 with 1 Axes>"
      ]
     },
     "metadata": {
      "needs_background": "light"
     },
     "output_type": "display_data"
    }
   ],
   "source": [
    "mean = df_.groupby('admission_source_code').mean()['f_readmitted'].median()*100\n",
    "\n",
    "plt.figure(figsize = (5, 4))\n",
    "\n",
    "(df_.groupby('admission_source_code').mean()['f_readmitted'].sort_values(ascending = False)*100)[:12].plot(kind = 'bar')\n",
    "\n",
    "plt.ylabel('Readmission ratio (%)')\n",
    "plt.xlabel('Admission source code')\n",
    "\n",
    "plt.axhline(mean, color = 'r')\n",
    "\n",
    "plt.title('Bar plot of the readmission ratio for the \\n different admission sources')\n",
    "\n",
    "plt.show()"
   ]
  },
  {
   "cell_type": "markdown",
   "id": "7b039ad0",
   "metadata": {},
   "source": [
    "Credit card payment:"
   ]
  },
  {
   "cell_type": "code",
   "execution_count": 76,
   "id": "9e9ef5f9",
   "metadata": {},
   "outputs": [],
   "source": [
    "df_['payer_code'] = df_['payer_code'].fillna('Unknown')"
   ]
  },
  {
   "cell_type": "code",
   "execution_count": 77,
   "id": "dd63f241",
   "metadata": {},
   "outputs": [],
   "source": [
    "df_['payer_code'] = df_['payer_code'].apply(lambda x: x if x in ['SP', 'Unknown'] else 'CC')"
   ]
  },
  {
   "cell_type": "code",
   "execution_count": 88,
   "id": "6369f7dd",
   "metadata": {},
   "outputs": [
    {
     "name": "stdout",
     "output_type": "stream",
     "text": [
      "6.805274560877574\n",
      "0.03328537124600772\n"
     ]
    }
   ],
   "source": [
    "age_ct = pd.crosstab(df_['payer_code'], df['readmitted'])\n",
    "\n",
    "c, p, dof, expected = chi2_contingency(age_ct)\n",
    "\n",
    "print(c)\n",
    "print(p)"
   ]
  },
  {
   "cell_type": "code",
   "execution_count": 87,
   "id": "279dd40a",
   "metadata": {},
   "outputs": [
    {
     "data": {
      "image/png": "[encoded data removed]",
      "text/plain": [
       "<Figure size 360x288 with 1 Axes>"
      ]
     },
     "metadata": {
      "needs_background": "light"
     },
     "output_type": "display_data"
    }
   ],
   "source": [
    "plt.figure(figsize = (5, 4))\n",
    "\n",
    "(df_.groupby('payer_code').mean()['f_readmitted'].sort_values(ascending = False)*100)[:12].plot(kind = 'barh')\n",
    "\n",
    "plt.ylabel('Payer Code')\n",
    "plt.xlabel('Readmission ratio (%)')\n",
    "\n",
    "plt.title('Bar plot of the readmission ratio for the \\n different payer codes')\n",
    "\n",
    "plt.xticks(np.arange(0, 13, 1))\n",
    "\n",
    "plt.show()"
   ]
  },
  {
   "cell_type": "code",
   "execution_count": 90,
   "id": "9031c858",
   "metadata": {},
   "outputs": [
    {
     "data": {
      "text/plain": [
       "payer_code\n",
       "CC         0.110151\n",
       "SP         0.102423\n",
       "Unknown    0.114350\n",
       "Name: f_readmitted, dtype: float64"
      ]
     },
     "execution_count": 90,
     "metadata": {},
     "output_type": "execute_result"
    }
   ],
   "source": [
    "df_.groupby('payer_code').mean()['f_readmitted']"
   ]
  },
  {
   "cell_type": "code",
   "execution_count": 91,
   "id": "c42a1787",
   "metadata": {},
   "outputs": [
    {
     "data": {
      "text/plain": [
       "CC         0.554342\n",
       "Unknown    0.396487\n",
       "SP         0.049171\n",
       "Name: payer_code, dtype: float64"
      ]
     },
     "execution_count": 91,
     "metadata": {},
     "output_type": "execute_result"
    }
   ],
   "source": [
    "df_['payer_code'].value_counts(normalize = True)"
   ]
  },
  {
   "cell_type": "code",
   "execution_count": null,
   "id": "b4e8ecac",
   "metadata": {},
   "outputs": [],
   "source": []
  }
 ],
 "metadata": {
  "kernelspec": {
   "display_name": "Python 3 (ipykernel)",
   "language": "python",
   "name": "python3"
  },
  "language_info": {
   "codemirror_mode": {
    "name": "ipython",
    "version": 3
   },
   "file_extension": ".py",
   "mimetype": "text/x-python",
   "name": "python",
   "nbconvert_exporter": "python",
   "pygments_lexer": "ipython3",
   "version": "3.7.12"
  }
 },
 "nbformat": 4,
 "nbformat_minor": 5
}
