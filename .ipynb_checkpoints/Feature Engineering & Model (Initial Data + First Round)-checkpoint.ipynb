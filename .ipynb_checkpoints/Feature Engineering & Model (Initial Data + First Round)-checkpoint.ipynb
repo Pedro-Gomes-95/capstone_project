{
 "cells": [
  {
   "cell_type": "markdown",
   "id": "7c3b6b6e",
   "metadata": {},
   "source": [
    "# Feature Engineering & Model"
   ]
  },
  {
   "cell_type": "markdown",
   "id": "04efce00",
   "metadata": {},
   "source": [
    "Import the necessary packages:"
   ]
  },
  {
   "cell_type": "code",
   "execution_count": 1,
   "id": "8630a9e5",
   "metadata": {},
   "outputs": [],
   "source": [
    "import re\n",
    "import pickle\n",
    "import pandas as pd\n",
    "import numpy as np\n",
    "\n",
    "# Plotting\n",
    "import seaborn as sns\n",
    "import matplotlib.pyplot as plt\n",
    "\n",
    "# Scaling\n",
    "from sklearn.preprocessing import StandardScaler\n",
    "\n",
    "# Train-test split and Grid Search\n",
    "from sklearn.model_selection import train_test_split, GridSearchCV\n",
    "\n",
    "from sklearn.compose import ColumnTransformer\n",
    "from sklearn.impute import SimpleImputer\n",
    "from sklearn.pipeline import make_pipeline, Pipeline\n",
    "from sklearn.base import BaseEstimator, TransformerMixin\n",
    "from sklearn.inspection import plot_partial_dependence\n",
    "\n",
    "# Feature Engine\n",
    "from feature_engine.selection import DropFeatures\n",
    "from feature_engine.imputation import CategoricalImputer, MeanMedianImputer, ArbitraryNumberImputer\n",
    "from feature_engine.encoding import OneHotEncoder, RareLabelEncoder\n",
    "\n",
    "# Classifiers\n",
    "from sklearn.linear_model import LogisticRegression\n",
    "from sklearn.tree import DecisionTreeClassifier\n",
    "from sklearn.ensemble import RandomForestClassifier, GradientBoostingClassifier\n",
    "from xgboost import XGBClassifier\n",
    "\n",
    "# Metrics\n",
    "from sklearn.metrics import ( accuracy_score, precision_score, recall_score, roc_auc_score, roc_curve,\n",
    "                              f1_score, classification_report, precision_recall_curve,\n",
    "                              confusion_matrix )\n",
    "\n",
    "# Utils\n",
    "from utils import *"
   ]
  },
  {
   "cell_type": "markdown",
   "id": "5e986f1b",
   "metadata": {},
   "source": [
    "Read the data, and create a copy of it:"
   ]
  },
  {
   "cell_type": "code",
   "execution_count": 2,
   "id": "ca71a46b",
   "metadata": {},
   "outputs": [],
   "source": [
    "# Initial Data\n",
    "df_train = pd.read_csv('data/train_data.csv')\n",
    "df_train_ = df_train.copy(deep = True)\n",
    "\n",
    "df_train_ = df_train_.replace('?', np.nan)\n",
    "\n",
    "# New Data\n",
    "df_new = pd.read_csv('data/first_batch_requests_data.csv')\n",
    "df_new_ = df_new.copy(deep = True)\n",
    "\n",
    "df_new_ = df_new_.replace('?', np.nan)\n",
    "\n",
    "df_new_ = df_new_.drop(columns = ['id', 'index', 'probability', 'predicted_readmitted'])\n",
    "df_new_ = df_new_.rename(columns = { 'actual_readmitted' : 'readmitted' })\n",
    "\n",
    "# Merge training data + new data\n",
    "df_ = df_train_.append(df_new_)\n",
    "df_ = df_.set_index('admission_id', drop = False)"
   ]
  },
  {
   "cell_type": "markdown",
   "id": "99906ca7",
   "metadata": {},
   "source": [
    "Train-test split:"
   ]
  },
  {
   "cell_type": "code",
   "execution_count": 3,
   "id": "1a6cbef0",
   "metadata": {},
   "outputs": [],
   "source": [
    "target = 'readmitted'\n",
    "\n",
    "X = df_.drop(columns = target)\n",
    "y = df_[target].apply(lambda x: False if x == 'No' else True)\n",
    "\n",
    "X_train, X_test, y_train, y_test = train_test_split(X, \n",
    "                                                    y, \n",
    "                                                    test_size = 0.2, \n",
    "                                                    random_state = 42, \n",
    "                                                    stratify = y)"
   ]
  },
  {
   "cell_type": "markdown",
   "id": "88c4a922",
   "metadata": {},
   "source": [
    "Drop unknown genders, and vaccination statuses:"
   ]
  },
  {
   "cell_type": "code",
   "execution_count": 4,
   "id": "a4d98eda",
   "metadata": {},
   "outputs": [],
   "source": [
    "X_train = X_train[X_train['gender'] != 'Unknown/Invalid']\n",
    "y_train = y_train[y_train.index.isin(X_train.index)]\n",
    "\n",
    "X_train = X_train[X_train['complete_vaccination_status'] != 'None']\n",
    "y_train = y_train[y_train.index.isin(X_train.index)]"
   ]
  },
  {
   "cell_type": "markdown",
   "id": "a123c73a",
   "metadata": {},
   "source": [
    "## Feature Engineering"
   ]
  },
  {
   "cell_type": "code",
   "execution_count": 5,
   "id": "033a1c2a",
   "metadata": {},
   "outputs": [],
   "source": [
    "features_to_drop = ['admission_id',\n",
    "                    'patient_id',\n",
    "                    'weight',\n",
    "                    'medical_specialty',\n",
    "                    'payer_code',\n",
    "                    'blood_type',\n",
    "                    'has_prosthesis',\n",
    "                    'race',\n",
    "                    'age',\n",
    "                    'gender',\n",
    "                   ]\n",
    "\n",
    "categorical_features = [ #'race',\n",
    "                         #'gender',\n",
    "                        'admission_type_code',\n",
    "                        'discharge_disposition_code',\n",
    "                        'admission_source_code',\n",
    "                        'complete_vaccination_status', # Need to think about this one\n",
    "                        'blood_transfusion',\n",
    "                        'max_glu_serum',\n",
    "                        'A1Cresult',\n",
    "                        'diuretics',\n",
    "                        'insulin',\n",
    "                        'change',\n",
    "                        'diabetesMed',\n",
    "                        'diag_1',\n",
    "                        'diag_2',\n",
    "                        'diag_3',\n",
    "                       ]\n",
    "\n",
    "categorical_features_ohe_2mf = ['complete_vaccination_status']\n",
    "\n",
    "numerical_features_imputation = ['num_medications',\n",
    "                                 'num_lab_procedures',\n",
    "                                 'num_procedures',\n",
    "                                 'number_diagnoses',\n",
    "                                 'time_in_hospital',\n",
    "                                 'number_outpatient',\n",
    "                                 'number_emergency',\n",
    "                                 'number_inpatient',\n",
    "                                 'number_diagnoses',\n",
    "                                ]\n",
    "\n",
    "numerical_features = ['hemoglobin_level']"
   ]
  },
  {
   "cell_type": "markdown",
   "id": "99fca212",
   "metadata": {},
   "source": [
    "Pipeline:"
   ]
  },
  {
   "cell_type": "code",
   "execution_count": 6,
   "id": "81a1f5bf",
   "metadata": {},
   "outputs": [],
   "source": [
    "pipe = Pipeline([    \n",
    "    # Remove unwanted columns\n",
    "    ('drop', DropFeatures(features_to_drop = features_to_drop)),\n",
    "    \n",
    "    # Correct type of columns\n",
    "    ('object', CastString()),\n",
    "    \n",
    "    # Correct the race column\n",
    "    # ('race', CorrectRace()),\n",
    "    \n",
    "    # Map the age column\n",
    "    # ('age', ConvertAge()),\n",
    "    \n",
    "    # Correct the admission type column\n",
    "    ('admission_type', CorrectAdmissionTypeCode()),\n",
    "    \n",
    "    # Correct the discharge disposition code column\n",
    "    ('discharge_code', CorrectDischargeDispositionCode()),\n",
    "    \n",
    "    # Correct the admission source code column\n",
    "    ('admission_code', CorrectAdmissionSourceCode()),\n",
    "    \n",
    "    # Correct the max glu serum column\n",
    "    ('max_glu_serum', CorrectMaxGluSerum()),\n",
    "     \n",
    "    # Correct the A1CResult column\n",
    "    ('a1cresult', CorrectA1CResult()),\n",
    "    \n",
    "    # Correct the diag_1, diag_2 and diag_3 columns\n",
    "    ('diag_x', ConvertDiag()),\n",
    "    \n",
    "    # Impute the categorical features with the mode\n",
    "    ('categorical_imputer', CategoricalImputer(imputation_method = 'frequent',\n",
    "                                                variables = categorical_features)),\n",
    "    \n",
    "    # Impute the numerical features with the median\n",
    "    ('numerical_imputer_median', MeanMedianImputer(imputation_method = 'median',\n",
    "                                            variables = numerical_features)),\n",
    "     \n",
    "    ('numerical_imputer_0', ArbitraryNumberImputer(arbitrary_number = 0,\n",
    "                                                 variables = numerical_features_imputation)),\n",
    "    \n",
    "    # Rare label encoding\n",
    "    ('rare', RareLabelEncoder(tol = 0.01, \n",
    "                              n_categories = 2,\n",
    "                              variables = categorical_features)),\n",
    "    \n",
    "    # One-hot encoding\n",
    "    ('ohe', OneHotEncoder(variables = [f for f in categorical_features if f not in categorical_features_ohe_2mf])),\n",
    "    \n",
    "    # One-hot encoding of top 2\n",
    "    ('ohe_diag', OneHotEncoder(top_categories = 2,\n",
    "                              variables = categorical_features_ohe_2mf))\n",
    "])"
   ]
  },
  {
   "cell_type": "markdown",
   "id": "e59884cf",
   "metadata": {},
   "source": [
    "Fit the training data, transform the test data:"
   ]
  },
  {
   "cell_type": "code",
   "execution_count": 7,
   "id": "b44e40e6",
   "metadata": {},
   "outputs": [
    {
     "name": "stderr",
     "output_type": "stream",
     "text": [
      "/home/pgomes/.virtualenvs/blu15/lib/python3.7/site-packages/feature_engine/encoding/rare_label.py:164: UserWarning: The number of unique categories for variable complete_vaccination_status is less than that indicated in n_categories. Thus, all categories will be considered frequent\n",
      "  \"considered frequent\".format(var)\n",
      "/home/pgomes/.virtualenvs/blu15/lib/python3.7/site-packages/feature_engine/encoding/rare_label.py:164: UserWarning: The number of unique categories for variable blood_transfusion is less than that indicated in n_categories. Thus, all categories will be considered frequent\n",
      "  \"considered frequent\".format(var)\n",
      "/home/pgomes/.virtualenvs/blu15/lib/python3.7/site-packages/feature_engine/encoding/rare_label.py:164: UserWarning: The number of unique categories for variable diuretics is less than that indicated in n_categories. Thus, all categories will be considered frequent\n",
      "  \"considered frequent\".format(var)\n",
      "/home/pgomes/.virtualenvs/blu15/lib/python3.7/site-packages/feature_engine/encoding/rare_label.py:164: UserWarning: The number of unique categories for variable insulin is less than that indicated in n_categories. Thus, all categories will be considered frequent\n",
      "  \"considered frequent\".format(var)\n",
      "/home/pgomes/.virtualenvs/blu15/lib/python3.7/site-packages/feature_engine/encoding/rare_label.py:164: UserWarning: The number of unique categories for variable change is less than that indicated in n_categories. Thus, all categories will be considered frequent\n",
      "  \"considered frequent\".format(var)\n",
      "/home/pgomes/.virtualenvs/blu15/lib/python3.7/site-packages/feature_engine/encoding/rare_label.py:164: UserWarning: The number of unique categories for variable diabetesMed is less than that indicated in n_categories. Thus, all categories will be considered frequent\n",
      "  \"considered frequent\".format(var)\n"
     ]
    }
   ],
   "source": [
    "X_train_tf = pipe.fit_transform(X_train)\n",
    "X_train_tf.head()\n",
    "\n",
    "X_test_tf = pipe.transform(X_test)"
   ]
  },
  {
   "cell_type": "markdown",
   "id": "e4e1d0b8",
   "metadata": {},
   "source": [
    "Fit the model with the best parameters found via grid-search:"
   ]
  },
  {
   "cell_type": "code",
   "execution_count": 8,
   "id": "989d9c98",
   "metadata": {},
   "outputs": [
    {
     "data": {
      "text/plain": [
       "RandomForestClassifier(class_weight='balanced', max_depth=10, n_estimators=500,\n",
       "                       random_state=42)"
      ]
     },
     "execution_count": 8,
     "metadata": {},
     "output_type": "execute_result"
    }
   ],
   "source": [
    "clf = RandomForestClassifier(n_estimators = 500, \n",
    "                             max_depth = 10,\n",
    "                             class_weight = 'balanced',\n",
    "                             criterion = 'gini',\n",
    "                             random_state = 42)\n",
    "\n",
    "clf.fit(X_train_tf, y_train)"
   ]
  },
  {
   "cell_type": "markdown",
   "id": "5e2ee982",
   "metadata": {},
   "source": [
    "Assess performance:"
   ]
  },
  {
   "cell_type": "code",
   "execution_count": 9,
   "id": "0dbbef73",
   "metadata": {},
   "outputs": [
    {
     "name": "stdout",
     "output_type": "stream",
     "text": [
      "Training data:\n",
      "Accuracy: 0.6970198904026391\n",
      "Precision: 0.2123802016346513\n",
      "Recall: 0.633147804576376\n",
      "F1-Score: 0.3180688455324966\n",
      "\n",
      "\n",
      "Test data:\n",
      "Accuracy: 0.6757782422175779\n",
      "Precision: 0.17932979429329796\n",
      "Recall: 0.5327747658945293\n",
      "F1-Score: 0.26833809110090606\n"
     ]
    }
   ],
   "source": [
    "y_pred_test = clf.predict(X_test_tf)\n",
    "y_pred_train = clf.predict(X_train_tf)\n",
    "\n",
    "print('Training data:')\n",
    "print('Accuracy:', accuracy_score(y_train, y_pred_train))\n",
    "print('Precision:', precision_score(y_train, y_pred_train))\n",
    "print('Recall:', recall_score(y_train, y_pred_train))\n",
    "print('F1-Score:', f1_score(y_train, y_pred_train))\n",
    "print('\\n')\n",
    "print('Test data:')\n",
    "print('Accuracy:', accuracy_score(y_test, y_pred_test))\n",
    "print('Precision:', precision_score(y_test, y_pred_test))\n",
    "print('Recall:', recall_score(y_test, y_pred_test))\n",
    "print('F1-Score:', f1_score(y_test, y_pred_test))"
   ]
  },
  {
   "cell_type": "markdown",
   "id": "0b0b55b3",
   "metadata": {},
   "source": [
    "Confusion matrix:"
   ]
  },
  {
   "cell_type": "code",
   "execution_count": 10,
   "id": "d370d8a0",
   "metadata": {},
   "outputs": [
    {
     "data": {
      "image/png": "[encoded data removed]",
      "text/plain": [
       "<Figure size 288x144 with 1 Axes>"
      ]
     },
     "metadata": {
      "needs_background": "light"
     },
     "output_type": "display_data"
    }
   ],
   "source": [
    "cm = confusion_matrix(y_test, y_pred_test)\n",
    "\n",
    "plt.figure(figsize = (4, 2))\n",
    "\n",
    "ax = plt.subplot()\n",
    "sns.heatmap(cm, annot = True, \n",
    "            fmt = 'g', \n",
    "            cmap = 'Blues',\n",
    "            ax = ax, cbar = False ); \n",
    "\n",
    "# labels, title and ticks\n",
    "ax.set_xlabel('Predicted labels');ax.set_ylabel('True labels'); \n",
    "# ax.set_title('Confusion Matrix'); \n",
    "ax.xaxis.set_ticklabels(['No', 'Yes']); ax.yaxis.set_ticklabels(['No', 'Yes']);"
   ]
  },
  {
   "cell_type": "markdown",
   "id": "8b540301",
   "metadata": {},
   "source": [
    "ROC-AUC:"
   ]
  },
  {
   "cell_type": "code",
   "execution_count": 11,
   "id": "f4091af7",
   "metadata": {},
   "outputs": [],
   "source": [
    "y_pred_proba_test = clf.predict_proba(X_test_tf)[:, 1]"
   ]
  },
  {
   "cell_type": "code",
   "execution_count": 12,
   "id": "7a202ad9",
   "metadata": {},
   "outputs": [
    {
     "name": "stdout",
     "output_type": "stream",
     "text": [
      "No Skill: ROC AUC=0.500\n",
      "Random Forest: ROC AUC=0.663\n"
     ]
    },
    {
     "data": {
      "image/png": "[encoded data removed]",
      "text/plain": [
       "<Figure size 360x288 with 1 Axes>"
      ]
     },
     "metadata": {
      "needs_background": "light"
     },
     "output_type": "display_data"
    }
   ],
   "source": [
    "ns_probs = [0 for _ in range(X_test.shape[0])]\n",
    "\n",
    "# calculate scores\n",
    "ns_auc = roc_auc_score(y_test, ns_probs)\n",
    "rf_auc = roc_auc_score(y_test, y_pred_proba_test)\n",
    "\n",
    "# summarize scores\n",
    "print('No Skill: ROC AUC=%.3f' % (ns_auc))\n",
    "print('Random Forest: ROC AUC=%.3f' % (rf_auc))\n",
    "\n",
    "# calculate roc curves\n",
    "ns_fpr, ns_tpr, _ = roc_curve(y_test, ns_probs)\n",
    "rf_fpr, rf_tpr, _ = roc_curve(y_test, y_pred_proba_test)\n",
    "\n",
    "plt.figure(figsize = (5, 4))\n",
    "\n",
    "# plot the roc curve for the model\n",
    "plt.plot(ns_fpr, ns_tpr, linestyle='--', label = 'Random guessing')\n",
    "plt.plot(rf_fpr, rf_tpr, marker='.', label = 'Model')\n",
    "\n",
    "# axis labels\n",
    "plt.xlabel('False Positive Rate')\n",
    "plt.ylabel('True Positive Rate')\n",
    "\n",
    "# show the legend\n",
    "plt.legend()\n",
    "\n",
    "# show the title\n",
    "plt.title('ROC Curve')\n",
    "\n",
    "# show the plot\n",
    "plt.show()"
   ]
  },
  {
   "cell_type": "markdown",
   "id": "85fe43e7",
   "metadata": {},
   "source": [
    "## Feature importances"
   ]
  },
  {
   "cell_type": "code",
   "execution_count": 13,
   "id": "23c03673",
   "metadata": {},
   "outputs": [
    {
     "data": {
      "image/png": "[encoded data removed]",
      "text/plain": [
       "<Figure size 1080x288 with 1 Axes>"
      ]
     },
     "metadata": {
      "needs_background": "light"
     },
     "output_type": "display_data"
    }
   ],
   "source": [
    "fi = pd.Series(clf.feature_importances_, index = X_train_tf.columns).sort_values(ascending = False)[:25]\n",
    "\n",
    "plt.figure(figsize = (15,4))\n",
    "fi.plot.bar()\n",
    "\n",
    "plt.xticks(rotation = 80)\n",
    "\n",
    "plt.xlabel('Feature')\n",
    "plt.ylabel('Feature importance')\n",
    "\n",
    "plt.title('Feature importances of the 25 most important features')\n",
    "\n",
    "plt.show()"
   ]
  },
  {
   "cell_type": "markdown",
   "id": "87c88f34",
   "metadata": {},
   "source": [
    "## Grid search for best F1 Score"
   ]
  },
  {
   "cell_type": "code",
   "execution_count": 42,
   "id": "39e167d3",
   "metadata": {},
   "outputs": [
    {
     "name": "stdout",
     "output_type": "stream",
     "text": [
      "Fitting 5 folds for each of 24 candidates, totalling 120 fits\n"
     ]
    },
    {
     "data": {
      "text/plain": [
       "GridSearchCV(cv=5, estimator=RandomForestClassifier(random_state=42), n_jobs=-1,\n",
       "             param_grid={'class_weight': [None, 'balanced'],\n",
       "                         'max_depth': [None, 5, 10, 15],\n",
       "                         'n_estimators': [250, 500, 1000]},\n",
       "             scoring='f1', verbose=5)"
      ]
     },
     "execution_count": 42,
     "metadata": {},
     "output_type": "execute_result"
    }
   ],
   "source": [
    "%timeit\n",
    "\n",
    "clf = RandomForestClassifier(random_state = 42)\n",
    "\n",
    "param_grid = { 'n_estimators' : [250, 500, 1000],\n",
    "               'max_depth' : [None, 5, 10, 15],\n",
    "               'class_weight' : [None, 'balanced']\n",
    "}\n",
    "\n",
    "grid_search = GridSearchCV(clf, \n",
    "                           param_grid,\n",
    "                           cv = 5, \n",
    "                           n_jobs = -1, \n",
    "                           scoring = 'f1',\n",
    "                           verbose = 5)\n",
    "\n",
    "grid_search.fit(X_train_tf, y_train)"
   ]
  },
  {
   "cell_type": "code",
   "execution_count": 47,
   "id": "217a7cab",
   "metadata": {},
   "outputs": [
    {
     "name": "stdout",
     "output_type": "stream",
     "text": [
      "BEST CV SCORE:\n",
      "0.2720626119952524 \n",
      "\n",
      "BEST PARAMETERS:\n",
      "{'class_weight': 'balanced', 'max_depth': 10, 'n_estimators': 500} \n",
      "\n",
      "CLASSIFICATION REPORT:\n",
      "              precision    recall  f1-score   support\n",
      "\n",
      "       False       0.92      0.69      0.79     16153\n",
      "        True       0.18      0.53      0.27      2029\n",
      "\n",
      "    accuracy                           0.68     18182\n",
      "   macro avg       0.55      0.61      0.53     18182\n",
      "weighted avg       0.84      0.68      0.73     18182\n",
      " \n",
      "\n",
      "SCORES:\n",
      "Training data:\n",
      "Accuracy: 0.6970198904026391\n",
      "Precision: 0.2123802016346513\n",
      "Recall: 0.633147804576376\n",
      "F1-Score: 0.3180688455324966\n",
      "\n",
      "\n",
      "Test Data:\n",
      "Accuracy: 0.6757782422175779\n",
      "Precision: 0.17932979429329796\n",
      "Recall: 0.5327747658945293\n",
      "F1-Score: 0.26833809110090606\n"
     ]
    }
   ],
   "source": [
    "print('BEST CV SCORE:')\n",
    "print(grid_search.best_score_, '\\n')\n",
    "\n",
    "print('BEST PARAMETERS:')\n",
    "print(grid_search.best_params_, '\\n')\n",
    "\n",
    "y_pred_test = grid_search.predict(pipe.transform(X_test))\n",
    "y_pred_train = grid_search.predict(X_train_tf)\n",
    "\n",
    "print('CLASSIFICATION REPORT:')\n",
    "print(classification_report(y_test, y_pred_test), '\\n')\n",
    "\n",
    "print('SCORES:')\n",
    "print('Training data:')\n",
    "print('Accuracy:', accuracy_score(y_train, y_pred_train))\n",
    "print('Precision:', precision_score(y_train, y_pred_train))\n",
    "print('Recall:', recall_score(y_train, y_pred_train))\n",
    "print('F1-Score:', f1_score(y_train, y_pred_train))\n",
    "print('\\n')\n",
    "print('Test Data:')\n",
    "print('Accuracy:', accuracy_score(y_test, y_pred_test))\n",
    "print('Precision:', precision_score(y_test, y_pred_test))\n",
    "print('Recall:', recall_score(y_test, y_pred_test))\n",
    "print('F1-Score:', f1_score(y_test, y_pred_test))"
   ]
  }
 ],
 "metadata": {
  "kernelspec": {
   "display_name": "Python 3 (ipykernel)",
   "language": "python",
   "name": "python3"
  },
  "language_info": {
   "codemirror_mode": {
    "name": "ipython",
    "version": 3
   },
   "file_extension": ".py",
   "mimetype": "text/x-python",
   "name": "python",
   "nbconvert_exporter": "python",
   "pygments_lexer": "ipython3",
   "version": "3.7.12"
  }
 },
 "nbformat": 4,
 "nbformat_minor": 5
}
