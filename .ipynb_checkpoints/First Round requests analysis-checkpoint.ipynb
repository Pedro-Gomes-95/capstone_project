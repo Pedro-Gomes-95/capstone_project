{
 "cells": [
  {
   "cell_type": "markdown",
   "id": "3a9130cf",
   "metadata": {},
   "source": [
    "# Analysis of the first round of requests"
   ]
  },
  {
   "cell_type": "markdown",
   "id": "f3073847",
   "metadata": {},
   "source": [
    "Import the necessary packages:"
   ]
  },
  {
   "cell_type": "code",
   "execution_count": 1,
   "id": "2b8a81d1",
   "metadata": {},
   "outputs": [],
   "source": [
    "import re\n",
    "import os\n",
    "import json\n",
    "import random\n",
    "import requests\n",
    "import joblib\n",
    "import pickle\n",
    "import pandas as pd\n",
    "import numpy as np\n",
    "\n",
    "# SQLite\n",
    "import sqlite3\n",
    "\n",
    "# Plotting\n",
    "import seaborn as sns\n",
    "import matplotlib.pyplot as plt\n",
    "\n",
    "# Train-test split and Grid Search\n",
    "from sklearn.model_selection import train_test_split, GridSearchCV\n",
    "\n",
    "from sklearn.compose import ColumnTransformer\n",
    "from sklearn.impute import SimpleImputer\n",
    "from sklearn.pipeline import make_pipeline, Pipeline\n",
    "from sklearn.base import BaseEstimator, TransformerMixin\n",
    "\n",
    "# Feature Engine\n",
    "from feature_engine.selection import DropFeatures\n",
    "from feature_engine.imputation import CategoricalImputer, MeanMedianImputer, ArbitraryNumberImputer\n",
    "from feature_engine.encoding import OneHotEncoder, RareLabelEncoder\n",
    "\n",
    "# Classifiers\n",
    "from sklearn.tree import DecisionTreeClassifier\n",
    "from sklearn.ensemble import RandomForestClassifier\n",
    "\n",
    "# Metrics\n",
    "from sklearn.metrics import accuracy_score, precision_score, recall_score, f1_score, classification_report, confusion_matrix\n",
    "\n",
    "# Utils\n",
    "from utils import *"
   ]
  },
  {
   "cell_type": "markdown",
   "id": "ed8e4277",
   "metadata": {},
   "source": [
    "Read the data, and create a copy of it:"
   ]
  },
  {
   "cell_type": "code",
   "execution_count": 2,
   "id": "ad0bd5f5",
   "metadata": {},
   "outputs": [],
   "source": [
    "df = pd.read_csv('data/first_batch_requests_data.csv')\n",
    "df_ = df.copy(deep = True)"
   ]
  },
  {
   "cell_type": "markdown",
   "id": "6e94f13c",
   "metadata": {},
   "source": [
    "Fill '?' values with NaN:"
   ]
  },
  {
   "cell_type": "code",
   "execution_count": 3,
   "id": "0219c8ba",
   "metadata": {},
   "outputs": [],
   "source": [
    "df_ = df_.replace('?', np.nan)"
   ]
  },
  {
   "cell_type": "markdown",
   "id": "c11ddc67",
   "metadata": {},
   "source": [
    "Check the number of observations for which actual values were provided:"
   ]
  },
  {
   "cell_type": "code",
   "execution_count": 4,
   "id": "da31b43a",
   "metadata": {},
   "outputs": [
    {
     "data": {
      "text/plain": [
       "No     0.886924\n",
       "Yes    0.113076\n",
       "Name: actual_readmitted, dtype: float64"
      ]
     },
     "execution_count": 4,
     "metadata": {},
     "output_type": "execute_result"
    }
   ],
   "source": [
    "df_['actual_readmitted'].value_counts(dropna = False, normalize = True)"
   ]
  },
  {
   "cell_type": "markdown",
   "id": "61ee63fd",
   "metadata": {},
   "source": [
    "Get the bar plot:"
   ]
  },
  {
   "cell_type": "code",
   "execution_count": 5,
   "id": "e63b2c85",
   "metadata": {},
   "outputs": [
    {
     "data": {
      "image/png": "[encoded data removed]",
      "text/plain": [
       "<Figure size 432x288 with 1 Axes>"
      ]
     },
     "metadata": {
      "needs_background": "light"
     },
     "output_type": "display_data"
    }
   ],
   "source": [
    "df_['actual_readmitted'].value_counts(normalize = True).plot(kind = 'bar')\n",
    "plt.show()"
   ]
  },
  {
   "cell_type": "markdown",
   "id": "f5273366",
   "metadata": {},
   "source": [
    "Get just the real values and predictions:"
   ]
  },
  {
   "cell_type": "code",
   "execution_count": 6,
   "id": "3261a46e",
   "metadata": {},
   "outputs": [],
   "source": [
    "predictions = df_['predicted_readmitted'].apply(lambda x: 1 if x == 'Yes' else 0)\n",
    "proba = df_['probability']\n",
    "actual = df_['actual_readmitted'].apply(lambda x: 1 if x == 'Yes' else 0)"
   ]
  },
  {
   "cell_type": "markdown",
   "id": "6153338a",
   "metadata": {},
   "source": [
    "Drop unnecessary columns:"
   ]
  },
  {
   "cell_type": "code",
   "execution_count": 7,
   "id": "3cbe29b2",
   "metadata": {},
   "outputs": [
    {
     "data": {
      "text/html": [
       "<div>\n",
       "<style scoped>\n",
       "    .dataframe tbody tr th:only-of-type {\n",
       "        vertical-align: middle;\n",
       "    }\n",
       "\n",
       "    .dataframe tbody tr th {\n",
       "        vertical-align: top;\n",
       "    }\n",
       "\n",
       "    .dataframe thead th {\n",
       "        text-align: right;\n",
       "    }\n",
       "</style>\n",
       "<table border=\"1\" class=\"dataframe\">\n",
       "  <thead>\n",
       "    <tr style=\"text-align: right;\">\n",
       "      <th></th>\n",
       "      <th>admission_id</th>\n",
       "      <th>patient_id</th>\n",
       "      <th>race</th>\n",
       "      <th>gender</th>\n",
       "      <th>age</th>\n",
       "      <th>weight</th>\n",
       "      <th>admission_type_code</th>\n",
       "      <th>discharge_disposition_code</th>\n",
       "      <th>admission_source_code</th>\n",
       "      <th>time_in_hospital</th>\n",
       "      <th>...</th>\n",
       "      <th>number_diagnoses</th>\n",
       "      <th>blood_type</th>\n",
       "      <th>hemoglobin_level</th>\n",
       "      <th>blood_transfusion</th>\n",
       "      <th>max_glu_serum</th>\n",
       "      <th>A1Cresult</th>\n",
       "      <th>diuretics</th>\n",
       "      <th>insulin</th>\n",
       "      <th>change</th>\n",
       "      <th>diabetesMed</th>\n",
       "    </tr>\n",
       "  </thead>\n",
       "  <tbody>\n",
       "    <tr>\n",
       "      <th>0</th>\n",
       "      <td>83971.0</td>\n",
       "      <td>47195552.0</td>\n",
       "      <td>Caucasian</td>\n",
       "      <td>Female</td>\n",
       "      <td>[80-90)</td>\n",
       "      <td>NaN</td>\n",
       "      <td>1.0</td>\n",
       "      <td>3.0</td>\n",
       "      <td>17.0</td>\n",
       "      <td>2.0</td>\n",
       "      <td>...</td>\n",
       "      <td>7.0</td>\n",
       "      <td>A+</td>\n",
       "      <td>12.8</td>\n",
       "      <td>False</td>\n",
       "      <td>Norm</td>\n",
       "      <td>None</td>\n",
       "      <td>No</td>\n",
       "      <td>No</td>\n",
       "      <td>No</td>\n",
       "      <td>Yes</td>\n",
       "    </tr>\n",
       "    <tr>\n",
       "      <th>1</th>\n",
       "      <td>91295.0</td>\n",
       "      <td>46828960.0</td>\n",
       "      <td>Caucasian</td>\n",
       "      <td>Male</td>\n",
       "      <td>[30-40)</td>\n",
       "      <td>NaN</td>\n",
       "      <td>1.0</td>\n",
       "      <td>1.0</td>\n",
       "      <td>7.0</td>\n",
       "      <td>3.0</td>\n",
       "      <td>...</td>\n",
       "      <td>6.0</td>\n",
       "      <td>A+</td>\n",
       "      <td>16.0</td>\n",
       "      <td>False</td>\n",
       "      <td>None</td>\n",
       "      <td>None</td>\n",
       "      <td>No</td>\n",
       "      <td>Yes</td>\n",
       "      <td>Ch</td>\n",
       "      <td>Yes</td>\n",
       "    </tr>\n",
       "    <tr>\n",
       "      <th>2</th>\n",
       "      <td>100312.0</td>\n",
       "      <td>47047376.0</td>\n",
       "      <td>Caucasian</td>\n",
       "      <td>Female</td>\n",
       "      <td>[60-70)</td>\n",
       "      <td>NaN</td>\n",
       "      <td>1.0</td>\n",
       "      <td>1.0</td>\n",
       "      <td>17.0</td>\n",
       "      <td>1.0</td>\n",
       "      <td>...</td>\n",
       "      <td>6.0</td>\n",
       "      <td>A+</td>\n",
       "      <td>12.6</td>\n",
       "      <td>False</td>\n",
       "      <td>NORM</td>\n",
       "      <td>None</td>\n",
       "      <td>No</td>\n",
       "      <td>No</td>\n",
       "      <td>Ch</td>\n",
       "      <td>Yes</td>\n",
       "    </tr>\n",
       "    <tr>\n",
       "      <th>3</th>\n",
       "      <td>88315.0</td>\n",
       "      <td>146340.0</td>\n",
       "      <td>Caucasian</td>\n",
       "      <td>Female</td>\n",
       "      <td>[70-80)</td>\n",
       "      <td>NaN</td>\n",
       "      <td>1.0</td>\n",
       "      <td>13.0</td>\n",
       "      <td>7.0</td>\n",
       "      <td>11.0</td>\n",
       "      <td>...</td>\n",
       "      <td>9.0</td>\n",
       "      <td>B+</td>\n",
       "      <td>13.8</td>\n",
       "      <td>False</td>\n",
       "      <td>NONE</td>\n",
       "      <td>None</td>\n",
       "      <td>No</td>\n",
       "      <td>Yes</td>\n",
       "      <td>Ch</td>\n",
       "      <td>Yes</td>\n",
       "    </tr>\n",
       "    <tr>\n",
       "      <th>4</th>\n",
       "      <td>100706.0</td>\n",
       "      <td>12224646.0</td>\n",
       "      <td>Caucasian</td>\n",
       "      <td>Male</td>\n",
       "      <td>[40-50)</td>\n",
       "      <td>NaN</td>\n",
       "      <td>2.0</td>\n",
       "      <td>1.0</td>\n",
       "      <td>1.0</td>\n",
       "      <td>3.0</td>\n",
       "      <td>...</td>\n",
       "      <td>5.0</td>\n",
       "      <td>A+</td>\n",
       "      <td>14.2</td>\n",
       "      <td>False</td>\n",
       "      <td>None</td>\n",
       "      <td>&gt;8</td>\n",
       "      <td>No</td>\n",
       "      <td>Yes</td>\n",
       "      <td>No</td>\n",
       "      <td>Yes</td>\n",
       "    </tr>\n",
       "  </tbody>\n",
       "</table>\n",
       "<p>5 rows × 33 columns</p>\n",
       "</div>"
      ],
      "text/plain": [
       "   admission_id  patient_id       race  gender      age weight  \\\n",
       "0       83971.0  47195552.0  Caucasian  Female  [80-90)    NaN   \n",
       "1       91295.0  46828960.0  Caucasian    Male  [30-40)    NaN   \n",
       "2      100312.0  47047376.0  Caucasian  Female  [60-70)    NaN   \n",
       "3       88315.0    146340.0  Caucasian  Female  [70-80)    NaN   \n",
       "4      100706.0  12224646.0  Caucasian    Male  [40-50)    NaN   \n",
       "\n",
       "   admission_type_code  discharge_disposition_code  admission_source_code  \\\n",
       "0                  1.0                         3.0                   17.0   \n",
       "1                  1.0                         1.0                    7.0   \n",
       "2                  1.0                         1.0                   17.0   \n",
       "3                  1.0                        13.0                    7.0   \n",
       "4                  2.0                         1.0                    1.0   \n",
       "\n",
       "   time_in_hospital  ... number_diagnoses blood_type  hemoglobin_level  \\\n",
       "0               2.0  ...              7.0         A+              12.8   \n",
       "1               3.0  ...              6.0         A+              16.0   \n",
       "2               1.0  ...              6.0         A+              12.6   \n",
       "3              11.0  ...              9.0         B+              13.8   \n",
       "4               3.0  ...              5.0         A+              14.2   \n",
       "\n",
       "  blood_transfusion  max_glu_serum  A1Cresult  diuretics  insulin  change  \\\n",
       "0             False           Norm       None         No       No      No   \n",
       "1             False           None       None         No      Yes      Ch   \n",
       "2             False           NORM       None         No       No      Ch   \n",
       "3             False           NONE       None         No      Yes      Ch   \n",
       "4             False           None         >8         No      Yes      No   \n",
       "\n",
       "   diabetesMed  \n",
       "0          Yes  \n",
       "1          Yes  \n",
       "2          Yes  \n",
       "3          Yes  \n",
       "4          Yes  \n",
       "\n",
       "[5 rows x 33 columns]"
      ]
     },
     "execution_count": 7,
     "metadata": {},
     "output_type": "execute_result"
    }
   ],
   "source": [
    "df_ = df_.drop(columns = ['id', 'index', 'predicted_readmitted', 'probability', 'actual_readmitted'])\n",
    "df_.head()"
   ]
  },
  {
   "cell_type": "markdown",
   "id": "5830886b",
   "metadata": {},
   "source": [
    "Import the pipeline, column types:"
   ]
  },
  {
   "cell_type": "code",
   "execution_count": 8,
   "id": "95cd95ea",
   "metadata": {},
   "outputs": [],
   "source": [
    "directory = '/home/pgomes/projects/model-deployment/ldssa_capstone_project'\n",
    "\n",
    "with open(f'{directory}/columns.json') as fh:\n",
    "    columns = json.load(fh)\n",
    "\n",
    "with open(f'{directory}/pipeline.pickle', 'rb') as fh:\n",
    "    pipeline = joblib.load(fh)\n",
    "\n",
    "with open(f'{directory}/dtypes.pickle', 'rb') as fh:\n",
    "    dtypes = pickle.load(fh)"
   ]
  },
  {
   "cell_type": "markdown",
   "id": "ecf862e6",
   "metadata": {},
   "source": [
    "Compare the real values with the predictions:"
   ]
  },
  {
   "cell_type": "code",
   "execution_count": 9,
   "id": "712b308f",
   "metadata": {},
   "outputs": [
    {
     "name": "stdout",
     "output_type": "stream",
     "text": [
      "              precision    recall  f1-score   support\n",
      "\n",
      "           0       0.92      0.68      0.78      8424\n",
      "           1       0.17      0.53      0.26      1074\n",
      "\n",
      "    accuracy                           0.66      9498\n",
      "   macro avg       0.55      0.61      0.52      9498\n",
      "weighted avg       0.84      0.66      0.72      9498\n",
      "\n"
     ]
    }
   ],
   "source": [
    "print(classification_report(actual, predictions))"
   ]
  },
  {
   "cell_type": "markdown",
   "id": "49b64929",
   "metadata": {},
   "source": [
    "Print the confusion matrix:"
   ]
  },
  {
   "cell_type": "code",
   "execution_count": 11,
   "id": "7d1b0a7c",
   "metadata": {},
   "outputs": [
    {
     "data": {
      "image/png": "[encoded data removed]",
      "text/plain": [
       "<Figure size 288x144 with 1 Axes>"
      ]
     },
     "metadata": {
      "needs_background": "light"
     },
     "output_type": "display_data"
    }
   ],
   "source": [
    "cm = confusion_matrix(actual, predictions)\n",
    "\n",
    "plt.figure(figsize = (4, 2))\n",
    "\n",
    "ax = plt.subplot()\n",
    "sns.heatmap(cm, annot = True, \n",
    "            fmt = 'g', \n",
    "            cmap = 'Blues',\n",
    "            ax = ax, cbar = False ); \n",
    "\n",
    "# labels, title and ticks\n",
    "ax.set_xlabel('Predicted labels');ax.set_ylabel('True labels'); \n",
    "# ax.set_title('Confusion Matrix'); \n",
    "ax.xaxis.set_ticklabels(['No', 'Yes']); ax.yaxis.set_ticklabels(['No', 'Yes']);"
   ]
  },
  {
   "cell_type": "code",
   "execution_count": 22,
   "id": "2347b6c7",
   "metadata": {},
   "outputs": [
    {
     "data": {
      "image/png": "[encoded data removed]",
      "text/plain": [
       "<Figure size 432x288 with 1 Axes>"
      ]
     },
     "metadata": {
      "needs_background": "light"
     },
     "output_type": "display_data"
    }
   ],
   "source": [
    "df[(df['predicted_readmitted'] != df['actual_readmitted']) & (df['actual_readmitted'] == 'No')]['number_inpatient'].plot(kind = 'hist', bins = 20)\n",
    "\n",
    "plt.show()"
   ]
  },
  {
   "cell_type": "code",
   "execution_count": 26,
   "id": "af59beca",
   "metadata": {},
   "outputs": [
    {
     "data": {
      "text/plain": [
       "3.0     36.199775\n",
       "1.0     29.891100\n",
       "6.0     10.702216\n",
       "2.0      4.806609\n",
       "18.0     4.205783\n",
       "22.0     4.168231\n",
       "5.0      2.891476\n",
       "4.0      1.990237\n",
       "23.0     1.802478\n",
       "14.0     0.826136\n",
       "25.0     0.713481\n",
       "7.0      0.713481\n",
       "13.0     0.488171\n",
       "28.0     0.300413\n",
       "8.0      0.150207\n",
       "15.0     0.075103\n",
       "17.0     0.037552\n",
       "27.0     0.037552\n",
       "Name: discharge_disposition_code, dtype: float64"
      ]
     },
     "execution_count": 26,
     "metadata": {},
     "output_type": "execute_result"
    }
   ],
   "source": [
    "df[(df['predicted_readmitted'] != df['actual_readmitted']) & (df['actual_readmitted'] == 'No')]['discharge_disposition_code'].value_counts(normalize=True)*100"
   ]
  },
  {
   "cell_type": "markdown",
   "id": "5439c086",
   "metadata": {},
   "source": [
    "## Discrimination analysis:"
   ]
  },
  {
   "cell_type": "code",
   "execution_count": 11,
   "id": "f09387e1",
   "metadata": {},
   "outputs": [],
   "source": [
    "def verify_descrimination(X_test, \n",
    "                          y_test, \n",
    "                          y_pred, \n",
    "                          max_diff = 0.10,\n",
    "                          min_percent = 0.01,\n",
    "                          sensitive_column = 'gender'):\n",
    "\n",
    "    sensitive_classes = X_test[sensitive_column].unique()\n",
    "    min_samples = X_test.shape[0]*min_percent\n",
    "    \n",
    "    is_satisfied = True\n",
    "    recalls = {}\n",
    "    \n",
    "    for sensitive_class in sensitive_classes:\n",
    "        mask = X_test[sensitive_column] == sensitive_class\n",
    "        \n",
    "        if mask.sum() > min_samples:\n",
    "            recalls[sensitive_class] = recall_score(y_test[mask], y_pred[mask])\n",
    "\n",
    "    diff = np.max(list(recalls.values())) - np.min(list(recalls.values()))\n",
    "    \n",
    "    if diff > max_diff:\n",
    "        is_satisfied = False\n",
    "\n",
    "    return is_satisfied, diff, recalls"
   ]
  },
  {
   "cell_type": "markdown",
   "id": "f6b0eb24",
   "metadata": {},
   "source": [
    "Gender:"
   ]
  },
  {
   "cell_type": "code",
   "execution_count": 12,
   "id": "19686c15",
   "metadata": {},
   "outputs": [
    {
     "data": {
      "text/plain": [
       "(True,\n",
       " 0.011777986176235627,\n",
       " {'Female': 0.16984126984126985, 'Male': 0.18161925601750548})"
      ]
     },
     "execution_count": 12,
     "metadata": {},
     "output_type": "execute_result"
    }
   ],
   "source": [
    "verify_descrimination(df_, predictions, actual, sensitive_column = 'gender')"
   ]
  },
  {
   "cell_type": "markdown",
   "id": "f96482f8",
   "metadata": {},
   "source": [
    "Age:"
   ]
  },
  {
   "cell_type": "code",
   "execution_count": 13,
   "id": "154d1572",
   "metadata": {},
   "outputs": [
    {
     "name": "stderr",
     "output_type": "stream",
     "text": [
      "/home/pgomes/.virtualenvs/blu15/lib/python3.7/site-packages/sklearn/metrics/_classification.py:1248: UndefinedMetricWarning: Recall is ill-defined and being set to 0.0 due to no true samples. Use `zero_division` parameter to control this behavior.\n",
      "  _warn_prf(average, modifier, msg_start, len(result))\n"
     ]
    },
    {
     "data": {
      "text/plain": [
       "(False,\n",
       " 0.34210526315789475,\n",
       " {'[80-90)': 0.15007012622720897,\n",
       "  '[30-40)': 0.27848101265822783,\n",
       "  '[60-70)': 0.18862275449101795,\n",
       "  '[70-80)': 0.18223234624145787,\n",
       "  '[40-50)': 0.17355371900826447,\n",
       "  '[50-60)': 0.1724137931034483,\n",
       "  '[90-100)': 0.1297709923664122,\n",
       "  '[20-30)': 0.34210526315789475,\n",
       "  '[10-20)': 0.0,\n",
       "  '[0-10)': 0.0})"
      ]
     },
     "execution_count": 13,
     "metadata": {},
     "output_type": "execute_result"
    }
   ],
   "source": [
    "verify_descrimination(df_, predictions, actual, sensitive_column = 'age', min_percent = 0)"
   ]
  },
  {
   "cell_type": "markdown",
   "id": "42bc8360",
   "metadata": {},
   "source": [
    "Race:"
   ]
  },
  {
   "cell_type": "code",
   "execution_count": 14,
   "id": "9e3e4946",
   "metadata": {},
   "outputs": [],
   "source": [
    "race_map = { 'white' : 'caucasian'\n",
    "             , 'africanamerican' : 'black'\n",
    "             , 'african american' : 'black'\n",
    "             , 'afro american' : 'black'\n",
    "             , 'euro' : 'caucasian'\n",
    "             , 'european' : 'caucasian'\n",
    "             , 'asian' : 'asian'\n",
    "             , 'latino' : 'latino'\n",
    "             , 'hispanic' : 'latino'\n",
    "             , np.nan : 'caucasian'\n",
    "             }\n",
    "\n",
    "df_['race'] = df_['race'].str.lower().replace(race_map)"
   ]
  },
  {
   "cell_type": "code",
   "execution_count": 15,
   "id": "787f450f",
   "metadata": {},
   "outputs": [
    {
     "data": {
      "text/plain": [
       "caucasian    7325\n",
       "black        1757\n",
       "latino        194\n",
       "other         164\n",
       "asian          58\n",
       "Name: race, dtype: int64"
      ]
     },
     "execution_count": 15,
     "metadata": {},
     "output_type": "execute_result"
    }
   ],
   "source": [
    "df_['race'].value_counts()"
   ]
  },
  {
   "cell_type": "code",
   "execution_count": 16,
   "id": "ae03e664",
   "metadata": {},
   "outputs": [
    {
     "data": {
      "text/plain": [
       "(False,\n",
       " 0.1388888888888889,\n",
       " {'caucasian': 0.1802189210320563,\n",
       "  'black': 0.15485996705107083,\n",
       "  'other': 0.1111111111111111,\n",
       "  'asian': 0.25,\n",
       "  'latino': 0.17307692307692307})"
      ]
     },
     "execution_count": 16,
     "metadata": {},
     "output_type": "execute_result"
    }
   ],
   "source": [
    "verify_descrimination(df_, predictions, actual, sensitive_column = 'race', min_percent = 0)"
   ]
  },
  {
   "cell_type": "markdown",
   "id": "c548ee0e",
   "metadata": {},
   "source": [
    "Payer codes:"
   ]
  },
  {
   "cell_type": "code",
   "execution_count": 18,
   "id": "c5caebb8",
   "metadata": {},
   "outputs": [
    {
     "data": {
      "text/plain": [
       "(False,\n",
       " 0.1265217391304348,\n",
       " {'BC': 0.20652173913043478,\n",
       "  'HM': 0.15508021390374332,\n",
       "  'MC': 0.17290419161676646,\n",
       "  'CM': 0.2,\n",
       "  'SP': 0.1386861313868613,\n",
       "  'UN': 0.15384615384615385,\n",
       "  'MD': 0.183206106870229,\n",
       "  'CP': 0.08,\n",
       "  'OG': 0.10714285714285714})"
      ]
     },
     "execution_count": 18,
     "metadata": {},
     "output_type": "execute_result"
    }
   ],
   "source": [
    "df_['payer_code'] = df_['payer_code'].apply(lambda x: x if x == 'SP' else 'Other')\n",
    "\n",
    "verify_descrimination(df_, predictions, actual, sensitive_column = 'payer_code')"
   ]
  },
  {
   "cell_type": "markdown",
   "id": "22fba0a0",
   "metadata": {},
   "source": [
    "Medical specialties:"
   ]
  },
  {
   "cell_type": "code",
   "execution_count": 17,
   "id": "57beb742",
   "metadata": {},
   "outputs": [
    {
     "data": {
      "text/plain": [
       "(False,\n",
       " 0.1268960414354421,\n",
       " {'Family/GeneralPractice': 0.16317991631799164,\n",
       "  'Cardiology': 0.15384615384615385,\n",
       "  'InternalMedicine': 0.19305856832971802,\n",
       "  'Surgery-General': 0.25555555555555554,\n",
       "  'Emergency/Trauma': 0.17684887459807075,\n",
       "  'Radiologist': 0.16,\n",
       "  'Orthopedics-Reconstructive': 0.13725490196078433,\n",
       "  'Nephrology': 0.2641509433962264,\n",
       "  'Orthopedics': 0.16326530612244897})"
      ]
     },
     "execution_count": 17,
     "metadata": {},
     "output_type": "execute_result"
    }
   ],
   "source": [
    "verify_descrimination(df_, predictions, actual, sensitive_column = 'medical_specialty')"
   ]
  },
  {
   "cell_type": "code",
   "execution_count": null,
   "id": "3bab5a51",
   "metadata": {},
   "outputs": [],
   "source": []
  }
 ],
 "metadata": {
  "kernelspec": {
   "display_name": "Python 3 (ipykernel)",
   "language": "python",
   "name": "python3"
  },
  "language_info": {
   "codemirror_mode": {
    "name": "ipython",
    "version": 3
   },
   "file_extension": ".py",
   "mimetype": "text/x-python",
   "name": "python",
   "nbconvert_exporter": "python",
   "pygments_lexer": "ipython3",
   "version": "3.7.12"
  }
 },
 "nbformat": 4,
 "nbformat_minor": 5
}
